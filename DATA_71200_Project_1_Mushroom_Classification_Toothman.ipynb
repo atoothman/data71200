{
  "nbformat": 4,
  "nbformat_minor": 0,
  "metadata": {
    "colab": {
      "provenance": [],
      "authorship_tag": "ABX9TyNe4kAcfuFDlLa4dLv02LRr",
      "include_colab_link": true
    },
    "kernelspec": {
      "name": "python3",
      "display_name": "Python 3"
    },
    "language_info": {
      "name": "python"
    }
  },
  "cells": [
    {
      "cell_type": "markdown",
      "metadata": {
        "id": "view-in-github",
        "colab_type": "text"
      },
      "source": [
        "<a href=\"https://colab.research.google.com/github/atoothman/data71200/blob/main/DATA_71200_Project_1_Mushroom_Classification_Toothman.ipynb\" target=\"_parent\"><img src=\"https://colab.research.google.com/assets/colab-badge.svg\" alt=\"Open In Colab\"/></a>"
      ]
    },
    {
      "cell_type": "markdown",
      "source": [
        "DATA 71200 - Project 1\n",
        "\n",
        "The Mushroom dataset used was found on the UC Irvine Machine Learning Repository [https://archive.ics.uci.edu/dataset/73/mushroom](https://archive.ics.uci.edu/dataset/73/mushroom)\n",
        "\n",
        "The dataset includes 23 species of gilled mushrooms in the Agaricus and Lepiota family that were classificed as edible or poisonous. Samples identifed as unknown or not recommended were combined into poisonous.\n",
        "\n",
        "The dataset is comprised of 22 features. Two features are binary and 20 are categorical.\n",
        "\n",
        "The aim of this model is to predict if the mushroom is poisonous or edible based on its physical characteristics. The target is categorical."
      ],
      "metadata": {
        "id": "iCwQihZnIvUb"
      }
    },
    {
      "cell_type": "code",
      "execution_count": null,
      "metadata": {
        "id": "MEE2sfdKHsil"
      },
      "outputs": [],
      "source": []
    }
  ]
}