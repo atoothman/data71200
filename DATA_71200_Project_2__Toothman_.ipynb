{
  "nbformat": 4,
  "nbformat_minor": 0,
  "metadata": {
    "colab": {
      "provenance": [],
      "authorship_tag": "ABX9TyP5utpL6lALEh5eZKToAw4C",
      "include_colab_link": true
    },
    "kernelspec": {
      "name": "python3",
      "display_name": "Python 3"
    },
    "language_info": {
      "name": "python"
    }
  },
  "cells": [
    {
      "cell_type": "markdown",
      "metadata": {
        "id": "view-in-github",
        "colab_type": "text"
      },
      "source": [
        "<a href=\"https://colab.research.google.com/github/atoothman/data71200/blob/main/DATA_71200_Project_2__Toothman_.ipynb\" target=\"_parent\"><img src=\"https://colab.research.google.com/assets/colab-badge.svg\" alt=\"Open In Colab\"/></a>"
      ]
    },
    {
      "cell_type": "markdown",
      "source": [
        "# Step 1: Load your data, including testing/training split from Project 1\n",
        "\n",
        "\n",
        "* Your testing and training split should be balanced\n",
        "* Your data should be clean and missing data should be addressed\n",
        "\n",
        "\n"
      ],
      "metadata": {
        "id": "etnX1fkLfflX"
      }
    },
    {
      "cell_type": "code",
      "execution_count": 1,
      "metadata": {
        "colab": {
          "base_uri": "https://localhost:8080/",
          "height": 0
        },
        "id": "6f2RMIK7fUs5",
        "outputId": "b17078f6-2ba5-4d81-db76-f55d631588fb"
      },
      "outputs": [
        {
          "output_type": "display_data",
          "data": {
            "text/plain": [
              "     Class  Alcohol  Malic acid   Ash  Alcalinity of ash  Magnesium  \\\n",
              "0        1    14.23        1.71  2.43               15.6        127   \n",
              "1        1    13.20        1.78  2.14               11.2        100   \n",
              "2        1    13.16        2.36  2.67               18.6        101   \n",
              "3        1    14.37        1.95  2.50               16.8        113   \n",
              "4        1    13.24        2.59  2.87               21.0        118   \n",
              "..     ...      ...         ...   ...                ...        ...   \n",
              "173      3    13.71        5.65  2.45               20.5         95   \n",
              "174      3    13.40        3.91  2.48               23.0        102   \n",
              "175      3    13.27        4.28  2.26               20.0        120   \n",
              "176      3    13.17        2.59  2.37               20.0        120   \n",
              "177      3    14.13        4.10  2.74               24.5         96   \n",
              "\n",
              "     Total phenols  Flavanoids  Nonflavanoid phenols  Proanthocyanins  \\\n",
              "0             2.80        3.06                  0.28             2.29   \n",
              "1             2.65        2.76                  0.26             1.28   \n",
              "2             2.80        3.24                  0.30             2.81   \n",
              "3             3.85        3.49                  0.24             2.18   \n",
              "4             2.80        2.69                  0.39             1.82   \n",
              "..             ...         ...                   ...              ...   \n",
              "173           1.68        0.61                  0.52             1.06   \n",
              "174           1.80        0.75                  0.43             1.41   \n",
              "175           1.59        0.69                  0.43             1.35   \n",
              "176           1.65        0.68                  0.53             1.46   \n",
              "177           2.05        0.76                  0.56             1.35   \n",
              "\n",
              "     Color intensity   Hue  OD280/OD315 of diluted wines  Proline  \n",
              "0               5.64  1.04                          3.92     1065  \n",
              "1               4.38  1.05                          3.40     1050  \n",
              "2               5.68  1.03                          3.17     1185  \n",
              "3               7.80  0.86                          3.45     1480  \n",
              "4               4.32  1.04                          2.93      735  \n",
              "..               ...   ...                           ...      ...  \n",
              "173             7.70  0.64                          1.74      740  \n",
              "174             7.30  0.70                          1.56      750  \n",
              "175            10.20  0.59                          1.56      835  \n",
              "176             9.30  0.60                          1.62      840  \n",
              "177             9.20  0.61                          1.60      560  \n",
              "\n",
              "[178 rows x 14 columns]"
            ],
            "text/html": [
              "\n",
              "  <div id=\"df-d646e066-a70a-4011-8954-c35781e2c241\" class=\"colab-df-container\">\n",
              "    <div>\n",
              "<style scoped>\n",
              "    .dataframe tbody tr th:only-of-type {\n",
              "        vertical-align: middle;\n",
              "    }\n",
              "\n",
              "    .dataframe tbody tr th {\n",
              "        vertical-align: top;\n",
              "    }\n",
              "\n",
              "    .dataframe thead th {\n",
              "        text-align: right;\n",
              "    }\n",
              "</style>\n",
              "<table border=\"1\" class=\"dataframe\">\n",
              "  <thead>\n",
              "    <tr style=\"text-align: right;\">\n",
              "      <th></th>\n",
              "      <th>Class</th>\n",
              "      <th>Alcohol</th>\n",
              "      <th>Malic acid</th>\n",
              "      <th>Ash</th>\n",
              "      <th>Alcalinity of ash</th>\n",
              "      <th>Magnesium</th>\n",
              "      <th>Total phenols</th>\n",
              "      <th>Flavanoids</th>\n",
              "      <th>Nonflavanoid phenols</th>\n",
              "      <th>Proanthocyanins</th>\n",
              "      <th>Color intensity</th>\n",
              "      <th>Hue</th>\n",
              "      <th>OD280/OD315 of diluted wines</th>\n",
              "      <th>Proline</th>\n",
              "    </tr>\n",
              "  </thead>\n",
              "  <tbody>\n",
              "    <tr>\n",
              "      <th>0</th>\n",
              "      <td>1</td>\n",
              "      <td>14.23</td>\n",
              "      <td>1.71</td>\n",
              "      <td>2.43</td>\n",
              "      <td>15.6</td>\n",
              "      <td>127</td>\n",
              "      <td>2.80</td>\n",
              "      <td>3.06</td>\n",
              "      <td>0.28</td>\n",
              "      <td>2.29</td>\n",
              "      <td>5.64</td>\n",
              "      <td>1.04</td>\n",
              "      <td>3.92</td>\n",
              "      <td>1065</td>\n",
              "    </tr>\n",
              "    <tr>\n",
              "      <th>1</th>\n",
              "      <td>1</td>\n",
              "      <td>13.20</td>\n",
              "      <td>1.78</td>\n",
              "      <td>2.14</td>\n",
              "      <td>11.2</td>\n",
              "      <td>100</td>\n",
              "      <td>2.65</td>\n",
              "      <td>2.76</td>\n",
              "      <td>0.26</td>\n",
              "      <td>1.28</td>\n",
              "      <td>4.38</td>\n",
              "      <td>1.05</td>\n",
              "      <td>3.40</td>\n",
              "      <td>1050</td>\n",
              "    </tr>\n",
              "    <tr>\n",
              "      <th>2</th>\n",
              "      <td>1</td>\n",
              "      <td>13.16</td>\n",
              "      <td>2.36</td>\n",
              "      <td>2.67</td>\n",
              "      <td>18.6</td>\n",
              "      <td>101</td>\n",
              "      <td>2.80</td>\n",
              "      <td>3.24</td>\n",
              "      <td>0.30</td>\n",
              "      <td>2.81</td>\n",
              "      <td>5.68</td>\n",
              "      <td>1.03</td>\n",
              "      <td>3.17</td>\n",
              "      <td>1185</td>\n",
              "    </tr>\n",
              "    <tr>\n",
              "      <th>3</th>\n",
              "      <td>1</td>\n",
              "      <td>14.37</td>\n",
              "      <td>1.95</td>\n",
              "      <td>2.50</td>\n",
              "      <td>16.8</td>\n",
              "      <td>113</td>\n",
              "      <td>3.85</td>\n",
              "      <td>3.49</td>\n",
              "      <td>0.24</td>\n",
              "      <td>2.18</td>\n",
              "      <td>7.80</td>\n",
              "      <td>0.86</td>\n",
              "      <td>3.45</td>\n",
              "      <td>1480</td>\n",
              "    </tr>\n",
              "    <tr>\n",
              "      <th>4</th>\n",
              "      <td>1</td>\n",
              "      <td>13.24</td>\n",
              "      <td>2.59</td>\n",
              "      <td>2.87</td>\n",
              "      <td>21.0</td>\n",
              "      <td>118</td>\n",
              "      <td>2.80</td>\n",
              "      <td>2.69</td>\n",
              "      <td>0.39</td>\n",
              "      <td>1.82</td>\n",
              "      <td>4.32</td>\n",
              "      <td>1.04</td>\n",
              "      <td>2.93</td>\n",
              "      <td>735</td>\n",
              "    </tr>\n",
              "    <tr>\n",
              "      <th>...</th>\n",
              "      <td>...</td>\n",
              "      <td>...</td>\n",
              "      <td>...</td>\n",
              "      <td>...</td>\n",
              "      <td>...</td>\n",
              "      <td>...</td>\n",
              "      <td>...</td>\n",
              "      <td>...</td>\n",
              "      <td>...</td>\n",
              "      <td>...</td>\n",
              "      <td>...</td>\n",
              "      <td>...</td>\n",
              "      <td>...</td>\n",
              "      <td>...</td>\n",
              "    </tr>\n",
              "    <tr>\n",
              "      <th>173</th>\n",
              "      <td>3</td>\n",
              "      <td>13.71</td>\n",
              "      <td>5.65</td>\n",
              "      <td>2.45</td>\n",
              "      <td>20.5</td>\n",
              "      <td>95</td>\n",
              "      <td>1.68</td>\n",
              "      <td>0.61</td>\n",
              "      <td>0.52</td>\n",
              "      <td>1.06</td>\n",
              "      <td>7.70</td>\n",
              "      <td>0.64</td>\n",
              "      <td>1.74</td>\n",
              "      <td>740</td>\n",
              "    </tr>\n",
              "    <tr>\n",
              "      <th>174</th>\n",
              "      <td>3</td>\n",
              "      <td>13.40</td>\n",
              "      <td>3.91</td>\n",
              "      <td>2.48</td>\n",
              "      <td>23.0</td>\n",
              "      <td>102</td>\n",
              "      <td>1.80</td>\n",
              "      <td>0.75</td>\n",
              "      <td>0.43</td>\n",
              "      <td>1.41</td>\n",
              "      <td>7.30</td>\n",
              "      <td>0.70</td>\n",
              "      <td>1.56</td>\n",
              "      <td>750</td>\n",
              "    </tr>\n",
              "    <tr>\n",
              "      <th>175</th>\n",
              "      <td>3</td>\n",
              "      <td>13.27</td>\n",
              "      <td>4.28</td>\n",
              "      <td>2.26</td>\n",
              "      <td>20.0</td>\n",
              "      <td>120</td>\n",
              "      <td>1.59</td>\n",
              "      <td>0.69</td>\n",
              "      <td>0.43</td>\n",
              "      <td>1.35</td>\n",
              "      <td>10.20</td>\n",
              "      <td>0.59</td>\n",
              "      <td>1.56</td>\n",
              "      <td>835</td>\n",
              "    </tr>\n",
              "    <tr>\n",
              "      <th>176</th>\n",
              "      <td>3</td>\n",
              "      <td>13.17</td>\n",
              "      <td>2.59</td>\n",
              "      <td>2.37</td>\n",
              "      <td>20.0</td>\n",
              "      <td>120</td>\n",
              "      <td>1.65</td>\n",
              "      <td>0.68</td>\n",
              "      <td>0.53</td>\n",
              "      <td>1.46</td>\n",
              "      <td>9.30</td>\n",
              "      <td>0.60</td>\n",
              "      <td>1.62</td>\n",
              "      <td>840</td>\n",
              "    </tr>\n",
              "    <tr>\n",
              "      <th>177</th>\n",
              "      <td>3</td>\n",
              "      <td>14.13</td>\n",
              "      <td>4.10</td>\n",
              "      <td>2.74</td>\n",
              "      <td>24.5</td>\n",
              "      <td>96</td>\n",
              "      <td>2.05</td>\n",
              "      <td>0.76</td>\n",
              "      <td>0.56</td>\n",
              "      <td>1.35</td>\n",
              "      <td>9.20</td>\n",
              "      <td>0.61</td>\n",
              "      <td>1.60</td>\n",
              "      <td>560</td>\n",
              "    </tr>\n",
              "  </tbody>\n",
              "</table>\n",
              "<p>178 rows × 14 columns</p>\n",
              "</div>\n",
              "    <div class=\"colab-df-buttons\">\n",
              "\n",
              "  <div class=\"colab-df-container\">\n",
              "    <button class=\"colab-df-convert\" onclick=\"convertToInteractive('df-d646e066-a70a-4011-8954-c35781e2c241')\"\n",
              "            title=\"Convert this dataframe to an interactive table.\"\n",
              "            style=\"display:none;\">\n",
              "\n",
              "  <svg xmlns=\"http://www.w3.org/2000/svg\" height=\"24px\" viewBox=\"0 -960 960 960\">\n",
              "    <path d=\"M120-120v-720h720v720H120Zm60-500h600v-160H180v160Zm220 220h160v-160H400v160Zm0 220h160v-160H400v160ZM180-400h160v-160H180v160Zm440 0h160v-160H620v160ZM180-180h160v-160H180v160Zm440 0h160v-160H620v160Z\"/>\n",
              "  </svg>\n",
              "    </button>\n",
              "\n",
              "  <style>\n",
              "    .colab-df-container {\n",
              "      display:flex;\n",
              "      gap: 12px;\n",
              "    }\n",
              "\n",
              "    .colab-df-convert {\n",
              "      background-color: #E8F0FE;\n",
              "      border: none;\n",
              "      border-radius: 50%;\n",
              "      cursor: pointer;\n",
              "      display: none;\n",
              "      fill: #1967D2;\n",
              "      height: 32px;\n",
              "      padding: 0 0 0 0;\n",
              "      width: 32px;\n",
              "    }\n",
              "\n",
              "    .colab-df-convert:hover {\n",
              "      background-color: #E2EBFA;\n",
              "      box-shadow: 0px 1px 2px rgba(60, 64, 67, 0.3), 0px 1px 3px 1px rgba(60, 64, 67, 0.15);\n",
              "      fill: #174EA6;\n",
              "    }\n",
              "\n",
              "    .colab-df-buttons div {\n",
              "      margin-bottom: 4px;\n",
              "    }\n",
              "\n",
              "    [theme=dark] .colab-df-convert {\n",
              "      background-color: #3B4455;\n",
              "      fill: #D2E3FC;\n",
              "    }\n",
              "\n",
              "    [theme=dark] .colab-df-convert:hover {\n",
              "      background-color: #434B5C;\n",
              "      box-shadow: 0px 1px 3px 1px rgba(0, 0, 0, 0.15);\n",
              "      filter: drop-shadow(0px 1px 2px rgba(0, 0, 0, 0.3));\n",
              "      fill: #FFFFFF;\n",
              "    }\n",
              "  </style>\n",
              "\n",
              "    <script>\n",
              "      const buttonEl =\n",
              "        document.querySelector('#df-d646e066-a70a-4011-8954-c35781e2c241 button.colab-df-convert');\n",
              "      buttonEl.style.display =\n",
              "        google.colab.kernel.accessAllowed ? 'block' : 'none';\n",
              "\n",
              "      async function convertToInteractive(key) {\n",
              "        const element = document.querySelector('#df-d646e066-a70a-4011-8954-c35781e2c241');\n",
              "        const dataTable =\n",
              "          await google.colab.kernel.invokeFunction('convertToInteractive',\n",
              "                                                    [key], {});\n",
              "        if (!dataTable) return;\n",
              "\n",
              "        const docLinkHtml = 'Like what you see? Visit the ' +\n",
              "          '<a target=\"_blank\" href=https://colab.research.google.com/notebooks/data_table.ipynb>data table notebook</a>'\n",
              "          + ' to learn more about interactive tables.';\n",
              "        element.innerHTML = '';\n",
              "        dataTable['output_type'] = 'display_data';\n",
              "        await google.colab.output.renderOutput(dataTable, element);\n",
              "        const docLink = document.createElement('div');\n",
              "        docLink.innerHTML = docLinkHtml;\n",
              "        element.appendChild(docLink);\n",
              "      }\n",
              "    </script>\n",
              "  </div>\n",
              "\n",
              "\n",
              "<div id=\"df-38982a82-5236-4da2-b3aa-1f373146fea1\">\n",
              "  <button class=\"colab-df-quickchart\" onclick=\"quickchart('df-38982a82-5236-4da2-b3aa-1f373146fea1')\"\n",
              "            title=\"Suggest charts\"\n",
              "            style=\"display:none;\">\n",
              "\n",
              "<svg xmlns=\"http://www.w3.org/2000/svg\" height=\"24px\"viewBox=\"0 0 24 24\"\n",
              "     width=\"24px\">\n",
              "    <g>\n",
              "        <path d=\"M19 3H5c-1.1 0-2 .9-2 2v14c0 1.1.9 2 2 2h14c1.1 0 2-.9 2-2V5c0-1.1-.9-2-2-2zM9 17H7v-7h2v7zm4 0h-2V7h2v10zm4 0h-2v-4h2v4z\"/>\n",
              "    </g>\n",
              "</svg>\n",
              "  </button>\n",
              "\n",
              "<style>\n",
              "  .colab-df-quickchart {\n",
              "      --bg-color: #E8F0FE;\n",
              "      --fill-color: #1967D2;\n",
              "      --hover-bg-color: #E2EBFA;\n",
              "      --hover-fill-color: #174EA6;\n",
              "      --disabled-fill-color: #AAA;\n",
              "      --disabled-bg-color: #DDD;\n",
              "  }\n",
              "\n",
              "  [theme=dark] .colab-df-quickchart {\n",
              "      --bg-color: #3B4455;\n",
              "      --fill-color: #D2E3FC;\n",
              "      --hover-bg-color: #434B5C;\n",
              "      --hover-fill-color: #FFFFFF;\n",
              "      --disabled-bg-color: #3B4455;\n",
              "      --disabled-fill-color: #666;\n",
              "  }\n",
              "\n",
              "  .colab-df-quickchart {\n",
              "    background-color: var(--bg-color);\n",
              "    border: none;\n",
              "    border-radius: 50%;\n",
              "    cursor: pointer;\n",
              "    display: none;\n",
              "    fill: var(--fill-color);\n",
              "    height: 32px;\n",
              "    padding: 0;\n",
              "    width: 32px;\n",
              "  }\n",
              "\n",
              "  .colab-df-quickchart:hover {\n",
              "    background-color: var(--hover-bg-color);\n",
              "    box-shadow: 0 1px 2px rgba(60, 64, 67, 0.3), 0 1px 3px 1px rgba(60, 64, 67, 0.15);\n",
              "    fill: var(--button-hover-fill-color);\n",
              "  }\n",
              "\n",
              "  .colab-df-quickchart-complete:disabled,\n",
              "  .colab-df-quickchart-complete:disabled:hover {\n",
              "    background-color: var(--disabled-bg-color);\n",
              "    fill: var(--disabled-fill-color);\n",
              "    box-shadow: none;\n",
              "  }\n",
              "\n",
              "  .colab-df-spinner {\n",
              "    border: 2px solid var(--fill-color);\n",
              "    border-color: transparent;\n",
              "    border-bottom-color: var(--fill-color);\n",
              "    animation:\n",
              "      spin 1s steps(1) infinite;\n",
              "  }\n",
              "\n",
              "  @keyframes spin {\n",
              "    0% {\n",
              "      border-color: transparent;\n",
              "      border-bottom-color: var(--fill-color);\n",
              "      border-left-color: var(--fill-color);\n",
              "    }\n",
              "    20% {\n",
              "      border-color: transparent;\n",
              "      border-left-color: var(--fill-color);\n",
              "      border-top-color: var(--fill-color);\n",
              "    }\n",
              "    30% {\n",
              "      border-color: transparent;\n",
              "      border-left-color: var(--fill-color);\n",
              "      border-top-color: var(--fill-color);\n",
              "      border-right-color: var(--fill-color);\n",
              "    }\n",
              "    40% {\n",
              "      border-color: transparent;\n",
              "      border-right-color: var(--fill-color);\n",
              "      border-top-color: var(--fill-color);\n",
              "    }\n",
              "    60% {\n",
              "      border-color: transparent;\n",
              "      border-right-color: var(--fill-color);\n",
              "    }\n",
              "    80% {\n",
              "      border-color: transparent;\n",
              "      border-right-color: var(--fill-color);\n",
              "      border-bottom-color: var(--fill-color);\n",
              "    }\n",
              "    90% {\n",
              "      border-color: transparent;\n",
              "      border-bottom-color: var(--fill-color);\n",
              "    }\n",
              "  }\n",
              "</style>\n",
              "\n",
              "  <script>\n",
              "    async function quickchart(key) {\n",
              "      const quickchartButtonEl =\n",
              "        document.querySelector('#' + key + ' button');\n",
              "      quickchartButtonEl.disabled = true;  // To prevent multiple clicks.\n",
              "      quickchartButtonEl.classList.add('colab-df-spinner');\n",
              "      try {\n",
              "        const charts = await google.colab.kernel.invokeFunction(\n",
              "            'suggestCharts', [key], {});\n",
              "      } catch (error) {\n",
              "        console.error('Error during call to suggestCharts:', error);\n",
              "      }\n",
              "      quickchartButtonEl.classList.remove('colab-df-spinner');\n",
              "      quickchartButtonEl.classList.add('colab-df-quickchart-complete');\n",
              "    }\n",
              "    (() => {\n",
              "      let quickchartButtonEl =\n",
              "        document.querySelector('#df-38982a82-5236-4da2-b3aa-1f373146fea1 button');\n",
              "      quickchartButtonEl.style.display =\n",
              "        google.colab.kernel.accessAllowed ? 'block' : 'none';\n",
              "    })();\n",
              "  </script>\n",
              "</div>\n",
              "\n",
              "  <div id=\"id_2a311d2a-19fa-469f-98f8-3c2d0340b6b0\">\n",
              "    <style>\n",
              "      .colab-df-generate {\n",
              "        background-color: #E8F0FE;\n",
              "        border: none;\n",
              "        border-radius: 50%;\n",
              "        cursor: pointer;\n",
              "        display: none;\n",
              "        fill: #1967D2;\n",
              "        height: 32px;\n",
              "        padding: 0 0 0 0;\n",
              "        width: 32px;\n",
              "      }\n",
              "\n",
              "      .colab-df-generate:hover {\n",
              "        background-color: #E2EBFA;\n",
              "        box-shadow: 0px 1px 2px rgba(60, 64, 67, 0.3), 0px 1px 3px 1px rgba(60, 64, 67, 0.15);\n",
              "        fill: #174EA6;\n",
              "      }\n",
              "\n",
              "      [theme=dark] .colab-df-generate {\n",
              "        background-color: #3B4455;\n",
              "        fill: #D2E3FC;\n",
              "      }\n",
              "\n",
              "      [theme=dark] .colab-df-generate:hover {\n",
              "        background-color: #434B5C;\n",
              "        box-shadow: 0px 1px 3px 1px rgba(0, 0, 0, 0.15);\n",
              "        filter: drop-shadow(0px 1px 2px rgba(0, 0, 0, 0.3));\n",
              "        fill: #FFFFFF;\n",
              "      }\n",
              "    </style>\n",
              "    <button class=\"colab-df-generate\" onclick=\"generateWithVariable('wine_df')\"\n",
              "            title=\"Generate code using this dataframe.\"\n",
              "            style=\"display:none;\">\n",
              "\n",
              "  <svg xmlns=\"http://www.w3.org/2000/svg\" height=\"24px\"viewBox=\"0 0 24 24\"\n",
              "       width=\"24px\">\n",
              "    <path d=\"M7,19H8.4L18.45,9,17,7.55,7,17.6ZM5,21V16.75L18.45,3.32a2,2,0,0,1,2.83,0l1.4,1.43a1.91,1.91,0,0,1,.58,1.4,1.91,1.91,0,0,1-.58,1.4L9.25,21ZM18.45,9,17,7.55Zm-12,3A5.31,5.31,0,0,0,4.9,8.1,5.31,5.31,0,0,0,1,6.5,5.31,5.31,0,0,0,4.9,4.9,5.31,5.31,0,0,0,6.5,1,5.31,5.31,0,0,0,8.1,4.9,5.31,5.31,0,0,0,12,6.5,5.46,5.46,0,0,0,6.5,12Z\"/>\n",
              "  </svg>\n",
              "    </button>\n",
              "    <script>\n",
              "      (() => {\n",
              "      const buttonEl =\n",
              "        document.querySelector('#id_2a311d2a-19fa-469f-98f8-3c2d0340b6b0 button.colab-df-generate');\n",
              "      buttonEl.style.display =\n",
              "        google.colab.kernel.accessAllowed ? 'block' : 'none';\n",
              "\n",
              "      buttonEl.onclick = () => {\n",
              "        google.colab.notebook.generateWithVariable('wine_df');\n",
              "      }\n",
              "      })();\n",
              "    </script>\n",
              "  </div>\n",
              "\n",
              "    </div>\n",
              "  </div>\n"
            ],
            "application/vnd.google.colaboratory.intrinsic+json": {
              "type": "dataframe",
              "variable_name": "wine_df",
              "summary": "{\n  \"name\": \"wine_df\",\n  \"rows\": 178,\n  \"fields\": [\n    {\n      \"column\": \"Class\",\n      \"properties\": {\n        \"dtype\": \"number\",\n        \"std\": 0,\n        \"min\": 1,\n        \"max\": 3,\n        \"num_unique_values\": 3,\n        \"samples\": [\n          1,\n          2,\n          3\n        ],\n        \"semantic_type\": \"\",\n        \"description\": \"\"\n      }\n    },\n    {\n      \"column\": \"Alcohol\",\n      \"properties\": {\n        \"dtype\": \"number\",\n        \"std\": 0.8118265380058575,\n        \"min\": 11.03,\n        \"max\": 14.83,\n        \"num_unique_values\": 126,\n        \"samples\": [\n          11.62,\n          13.64,\n          13.69\n        ],\n        \"semantic_type\": \"\",\n        \"description\": \"\"\n      }\n    },\n    {\n      \"column\": \"Malic acid\",\n      \"properties\": {\n        \"dtype\": \"number\",\n        \"std\": 1.1171460976144627,\n        \"min\": 0.74,\n        \"max\": 5.8,\n        \"num_unique_values\": 133,\n        \"samples\": [\n          1.21,\n          2.83,\n          1.8\n        ],\n        \"semantic_type\": \"\",\n        \"description\": \"\"\n      }\n    },\n    {\n      \"column\": \"Ash\",\n      \"properties\": {\n        \"dtype\": \"number\",\n        \"std\": 0.27434400906081485,\n        \"min\": 1.36,\n        \"max\": 3.23,\n        \"num_unique_values\": 79,\n        \"samples\": [\n          2.31,\n          2.43,\n          2.52\n        ],\n        \"semantic_type\": \"\",\n        \"description\": \"\"\n      }\n    },\n    {\n      \"column\": \"Alcalinity of ash\",\n      \"properties\": {\n        \"dtype\": \"number\",\n        \"std\": 3.339563767173505,\n        \"min\": 10.6,\n        \"max\": 30.0,\n        \"num_unique_values\": 63,\n        \"samples\": [\n          25.5,\n          28.5,\n          15.6\n        ],\n        \"semantic_type\": \"\",\n        \"description\": \"\"\n      }\n    },\n    {\n      \"column\": \"Magnesium\",\n      \"properties\": {\n        \"dtype\": \"number\",\n        \"std\": 14,\n        \"min\": 70,\n        \"max\": 162,\n        \"num_unique_values\": 53,\n        \"samples\": [\n          126,\n          85,\n          162\n        ],\n        \"semantic_type\": \"\",\n        \"description\": \"\"\n      }\n    },\n    {\n      \"column\": \"Total phenols\",\n      \"properties\": {\n        \"dtype\": \"number\",\n        \"std\": 0.6258510488339893,\n        \"min\": 0.98,\n        \"max\": 3.88,\n        \"num_unique_values\": 97,\n        \"samples\": [\n          1.68,\n          2.11,\n          1.35\n        ],\n        \"semantic_type\": \"\",\n        \"description\": \"\"\n      }\n    },\n    {\n      \"column\": \"Flavanoids\",\n      \"properties\": {\n        \"dtype\": \"number\",\n        \"std\": 0.9988586850169467,\n        \"min\": 0.34,\n        \"max\": 5.08,\n        \"num_unique_values\": 132,\n        \"samples\": [\n          3.18,\n          2.5,\n          3.17\n        ],\n        \"semantic_type\": \"\",\n        \"description\": \"\"\n      }\n    },\n    {\n      \"column\": \"Nonflavanoid phenols\",\n      \"properties\": {\n        \"dtype\": \"number\",\n        \"std\": 0.12445334029667937,\n        \"min\": 0.13,\n        \"max\": 0.66,\n        \"num_unique_values\": 39,\n        \"samples\": [\n          0.58,\n          0.41,\n          0.39\n        ],\n        \"semantic_type\": \"\",\n        \"description\": \"\"\n      }\n    },\n    {\n      \"column\": \"Proanthocyanins\",\n      \"properties\": {\n        \"dtype\": \"number\",\n        \"std\": 0.5723588626747613,\n        \"min\": 0.41,\n        \"max\": 3.58,\n        \"num_unique_values\": 101,\n        \"samples\": [\n          0.75,\n          1.77,\n          1.42\n        ],\n        \"semantic_type\": \"\",\n        \"description\": \"\"\n      }\n    },\n    {\n      \"column\": \"Color intensity\",\n      \"properties\": {\n        \"dtype\": \"number\",\n        \"std\": 2.318285871822413,\n        \"min\": 1.28,\n        \"max\": 13.0,\n        \"num_unique_values\": 132,\n        \"samples\": [\n          2.95,\n          3.3,\n          5.1\n        ],\n        \"semantic_type\": \"\",\n        \"description\": \"\"\n      }\n    },\n    {\n      \"column\": \"Hue\",\n      \"properties\": {\n        \"dtype\": \"number\",\n        \"std\": 0.22857156582982338,\n        \"min\": 0.48,\n        \"max\": 1.71,\n        \"num_unique_values\": 78,\n        \"samples\": [\n          1.22,\n          1.04,\n          1.45\n        ],\n        \"semantic_type\": \"\",\n        \"description\": \"\"\n      }\n    },\n    {\n      \"column\": \"OD280/OD315 of diluted wines\",\n      \"properties\": {\n        \"dtype\": \"number\",\n        \"std\": 0.7099904287650504,\n        \"min\": 1.27,\n        \"max\": 4.0,\n        \"num_unique_values\": 122,\n        \"samples\": [\n          4.0,\n          1.82,\n          1.59\n        ],\n        \"semantic_type\": \"\",\n        \"description\": \"\"\n      }\n    },\n    {\n      \"column\": \"Proline\",\n      \"properties\": {\n        \"dtype\": \"number\",\n        \"std\": 314,\n        \"min\": 278,\n        \"max\": 1680,\n        \"num_unique_values\": 121,\n        \"samples\": [\n          1375,\n          1270,\n          735\n        ],\n        \"semantic_type\": \"\",\n        \"description\": \"\"\n      }\n    }\n  ]\n}"
            }
          },
          "metadata": {}
        },
        {
          "output_type": "stream",
          "name": "stdout",
          "text": [
            "Info on wine_df:\n",
            "<class 'pandas.core.frame.DataFrame'>\n",
            "RangeIndex: 178 entries, 0 to 177\n",
            "Data columns (total 14 columns):\n",
            " #   Column                        Non-Null Count  Dtype  \n",
            "---  ------                        --------------  -----  \n",
            " 0   Class                         178 non-null    int64  \n",
            " 1   Alcohol                       178 non-null    float64\n",
            " 2   Malic acid                    178 non-null    float64\n",
            " 3   Ash                           178 non-null    float64\n",
            " 4   Alcalinity of ash             178 non-null    float64\n",
            " 5   Magnesium                     178 non-null    int64  \n",
            " 6   Total phenols                 178 non-null    float64\n",
            " 7   Flavanoids                    178 non-null    float64\n",
            " 8   Nonflavanoid phenols          178 non-null    float64\n",
            " 9   Proanthocyanins               178 non-null    float64\n",
            " 10  Color intensity               178 non-null    float64\n",
            " 11  Hue                           178 non-null    float64\n",
            " 12  OD280/OD315 of diluted wines  178 non-null    float64\n",
            " 13  Proline                       178 non-null    int64  \n",
            "dtypes: float64(11), int64(3)\n",
            "memory usage: 19.6 KB\n",
            "\n",
            "Description of wine_df:\n"
          ]
        },
        {
          "output_type": "execute_result",
          "data": {
            "text/plain": [
              "            Class     Alcohol  Malic acid         Ash  Alcalinity of ash  \\\n",
              "count  178.000000  178.000000  178.000000  178.000000         178.000000   \n",
              "mean     1.938202   13.000618    2.336348    2.366517          19.494944   \n",
              "std      0.775035    0.811827    1.117146    0.274344           3.339564   \n",
              "min      1.000000   11.030000    0.740000    1.360000          10.600000   \n",
              "25%      1.000000   12.362500    1.602500    2.210000          17.200000   \n",
              "50%      2.000000   13.050000    1.865000    2.360000          19.500000   \n",
              "75%      3.000000   13.677500    3.082500    2.557500          21.500000   \n",
              "max      3.000000   14.830000    5.800000    3.230000          30.000000   \n",
              "\n",
              "        Magnesium  Total phenols  Flavanoids  Nonflavanoid phenols  \\\n",
              "count  178.000000     178.000000  178.000000            178.000000   \n",
              "mean    99.741573       2.295112    2.029270              0.361854   \n",
              "std     14.282484       0.625851    0.998859              0.124453   \n",
              "min     70.000000       0.980000    0.340000              0.130000   \n",
              "25%     88.000000       1.742500    1.205000              0.270000   \n",
              "50%     98.000000       2.355000    2.135000              0.340000   \n",
              "75%    107.000000       2.800000    2.875000              0.437500   \n",
              "max    162.000000       3.880000    5.080000              0.660000   \n",
              "\n",
              "       Proanthocyanins  Color intensity         Hue  \\\n",
              "count       178.000000       178.000000  178.000000   \n",
              "mean          1.590899         5.058090    0.957449   \n",
              "std           0.572359         2.318286    0.228572   \n",
              "min           0.410000         1.280000    0.480000   \n",
              "25%           1.250000         3.220000    0.782500   \n",
              "50%           1.555000         4.690000    0.965000   \n",
              "75%           1.950000         6.200000    1.120000   \n",
              "max           3.580000        13.000000    1.710000   \n",
              "\n",
              "       OD280/OD315 of diluted wines      Proline  \n",
              "count                    178.000000   178.000000  \n",
              "mean                       2.611685   746.893258  \n",
              "std                        0.709990   314.907474  \n",
              "min                        1.270000   278.000000  \n",
              "25%                        1.937500   500.500000  \n",
              "50%                        2.780000   673.500000  \n",
              "75%                        3.170000   985.000000  \n",
              "max                        4.000000  1680.000000  "
            ],
            "text/html": [
              "\n",
              "  <div id=\"df-ded3fade-ac79-41f4-abb2-8f266c7ca7c9\" class=\"colab-df-container\">\n",
              "    <div>\n",
              "<style scoped>\n",
              "    .dataframe tbody tr th:only-of-type {\n",
              "        vertical-align: middle;\n",
              "    }\n",
              "\n",
              "    .dataframe tbody tr th {\n",
              "        vertical-align: top;\n",
              "    }\n",
              "\n",
              "    .dataframe thead th {\n",
              "        text-align: right;\n",
              "    }\n",
              "</style>\n",
              "<table border=\"1\" class=\"dataframe\">\n",
              "  <thead>\n",
              "    <tr style=\"text-align: right;\">\n",
              "      <th></th>\n",
              "      <th>Class</th>\n",
              "      <th>Alcohol</th>\n",
              "      <th>Malic acid</th>\n",
              "      <th>Ash</th>\n",
              "      <th>Alcalinity of ash</th>\n",
              "      <th>Magnesium</th>\n",
              "      <th>Total phenols</th>\n",
              "      <th>Flavanoids</th>\n",
              "      <th>Nonflavanoid phenols</th>\n",
              "      <th>Proanthocyanins</th>\n",
              "      <th>Color intensity</th>\n",
              "      <th>Hue</th>\n",
              "      <th>OD280/OD315 of diluted wines</th>\n",
              "      <th>Proline</th>\n",
              "    </tr>\n",
              "  </thead>\n",
              "  <tbody>\n",
              "    <tr>\n",
              "      <th>count</th>\n",
              "      <td>178.000000</td>\n",
              "      <td>178.000000</td>\n",
              "      <td>178.000000</td>\n",
              "      <td>178.000000</td>\n",
              "      <td>178.000000</td>\n",
              "      <td>178.000000</td>\n",
              "      <td>178.000000</td>\n",
              "      <td>178.000000</td>\n",
              "      <td>178.000000</td>\n",
              "      <td>178.000000</td>\n",
              "      <td>178.000000</td>\n",
              "      <td>178.000000</td>\n",
              "      <td>178.000000</td>\n",
              "      <td>178.000000</td>\n",
              "    </tr>\n",
              "    <tr>\n",
              "      <th>mean</th>\n",
              "      <td>1.938202</td>\n",
              "      <td>13.000618</td>\n",
              "      <td>2.336348</td>\n",
              "      <td>2.366517</td>\n",
              "      <td>19.494944</td>\n",
              "      <td>99.741573</td>\n",
              "      <td>2.295112</td>\n",
              "      <td>2.029270</td>\n",
              "      <td>0.361854</td>\n",
              "      <td>1.590899</td>\n",
              "      <td>5.058090</td>\n",
              "      <td>0.957449</td>\n",
              "      <td>2.611685</td>\n",
              "      <td>746.893258</td>\n",
              "    </tr>\n",
              "    <tr>\n",
              "      <th>std</th>\n",
              "      <td>0.775035</td>\n",
              "      <td>0.811827</td>\n",
              "      <td>1.117146</td>\n",
              "      <td>0.274344</td>\n",
              "      <td>3.339564</td>\n",
              "      <td>14.282484</td>\n",
              "      <td>0.625851</td>\n",
              "      <td>0.998859</td>\n",
              "      <td>0.124453</td>\n",
              "      <td>0.572359</td>\n",
              "      <td>2.318286</td>\n",
              "      <td>0.228572</td>\n",
              "      <td>0.709990</td>\n",
              "      <td>314.907474</td>\n",
              "    </tr>\n",
              "    <tr>\n",
              "      <th>min</th>\n",
              "      <td>1.000000</td>\n",
              "      <td>11.030000</td>\n",
              "      <td>0.740000</td>\n",
              "      <td>1.360000</td>\n",
              "      <td>10.600000</td>\n",
              "      <td>70.000000</td>\n",
              "      <td>0.980000</td>\n",
              "      <td>0.340000</td>\n",
              "      <td>0.130000</td>\n",
              "      <td>0.410000</td>\n",
              "      <td>1.280000</td>\n",
              "      <td>0.480000</td>\n",
              "      <td>1.270000</td>\n",
              "      <td>278.000000</td>\n",
              "    </tr>\n",
              "    <tr>\n",
              "      <th>25%</th>\n",
              "      <td>1.000000</td>\n",
              "      <td>12.362500</td>\n",
              "      <td>1.602500</td>\n",
              "      <td>2.210000</td>\n",
              "      <td>17.200000</td>\n",
              "      <td>88.000000</td>\n",
              "      <td>1.742500</td>\n",
              "      <td>1.205000</td>\n",
              "      <td>0.270000</td>\n",
              "      <td>1.250000</td>\n",
              "      <td>3.220000</td>\n",
              "      <td>0.782500</td>\n",
              "      <td>1.937500</td>\n",
              "      <td>500.500000</td>\n",
              "    </tr>\n",
              "    <tr>\n",
              "      <th>50%</th>\n",
              "      <td>2.000000</td>\n",
              "      <td>13.050000</td>\n",
              "      <td>1.865000</td>\n",
              "      <td>2.360000</td>\n",
              "      <td>19.500000</td>\n",
              "      <td>98.000000</td>\n",
              "      <td>2.355000</td>\n",
              "      <td>2.135000</td>\n",
              "      <td>0.340000</td>\n",
              "      <td>1.555000</td>\n",
              "      <td>4.690000</td>\n",
              "      <td>0.965000</td>\n",
              "      <td>2.780000</td>\n",
              "      <td>673.500000</td>\n",
              "    </tr>\n",
              "    <tr>\n",
              "      <th>75%</th>\n",
              "      <td>3.000000</td>\n",
              "      <td>13.677500</td>\n",
              "      <td>3.082500</td>\n",
              "      <td>2.557500</td>\n",
              "      <td>21.500000</td>\n",
              "      <td>107.000000</td>\n",
              "      <td>2.800000</td>\n",
              "      <td>2.875000</td>\n",
              "      <td>0.437500</td>\n",
              "      <td>1.950000</td>\n",
              "      <td>6.200000</td>\n",
              "      <td>1.120000</td>\n",
              "      <td>3.170000</td>\n",
              "      <td>985.000000</td>\n",
              "    </tr>\n",
              "    <tr>\n",
              "      <th>max</th>\n",
              "      <td>3.000000</td>\n",
              "      <td>14.830000</td>\n",
              "      <td>5.800000</td>\n",
              "      <td>3.230000</td>\n",
              "      <td>30.000000</td>\n",
              "      <td>162.000000</td>\n",
              "      <td>3.880000</td>\n",
              "      <td>5.080000</td>\n",
              "      <td>0.660000</td>\n",
              "      <td>3.580000</td>\n",
              "      <td>13.000000</td>\n",
              "      <td>1.710000</td>\n",
              "      <td>4.000000</td>\n",
              "      <td>1680.000000</td>\n",
              "    </tr>\n",
              "  </tbody>\n",
              "</table>\n",
              "</div>\n",
              "    <div class=\"colab-df-buttons\">\n",
              "\n",
              "  <div class=\"colab-df-container\">\n",
              "    <button class=\"colab-df-convert\" onclick=\"convertToInteractive('df-ded3fade-ac79-41f4-abb2-8f266c7ca7c9')\"\n",
              "            title=\"Convert this dataframe to an interactive table.\"\n",
              "            style=\"display:none;\">\n",
              "\n",
              "  <svg xmlns=\"http://www.w3.org/2000/svg\" height=\"24px\" viewBox=\"0 -960 960 960\">\n",
              "    <path d=\"M120-120v-720h720v720H120Zm60-500h600v-160H180v160Zm220 220h160v-160H400v160Zm0 220h160v-160H400v160ZM180-400h160v-160H180v160Zm440 0h160v-160H620v160ZM180-180h160v-160H180v160Zm440 0h160v-160H620v160Z\"/>\n",
              "  </svg>\n",
              "    </button>\n",
              "\n",
              "  <style>\n",
              "    .colab-df-container {\n",
              "      display:flex;\n",
              "      gap: 12px;\n",
              "    }\n",
              "\n",
              "    .colab-df-convert {\n",
              "      background-color: #E8F0FE;\n",
              "      border: none;\n",
              "      border-radius: 50%;\n",
              "      cursor: pointer;\n",
              "      display: none;\n",
              "      fill: #1967D2;\n",
              "      height: 32px;\n",
              "      padding: 0 0 0 0;\n",
              "      width: 32px;\n",
              "    }\n",
              "\n",
              "    .colab-df-convert:hover {\n",
              "      background-color: #E2EBFA;\n",
              "      box-shadow: 0px 1px 2px rgba(60, 64, 67, 0.3), 0px 1px 3px 1px rgba(60, 64, 67, 0.15);\n",
              "      fill: #174EA6;\n",
              "    }\n",
              "\n",
              "    .colab-df-buttons div {\n",
              "      margin-bottom: 4px;\n",
              "    }\n",
              "\n",
              "    [theme=dark] .colab-df-convert {\n",
              "      background-color: #3B4455;\n",
              "      fill: #D2E3FC;\n",
              "    }\n",
              "\n",
              "    [theme=dark] .colab-df-convert:hover {\n",
              "      background-color: #434B5C;\n",
              "      box-shadow: 0px 1px 3px 1px rgba(0, 0, 0, 0.15);\n",
              "      filter: drop-shadow(0px 1px 2px rgba(0, 0, 0, 0.3));\n",
              "      fill: #FFFFFF;\n",
              "    }\n",
              "  </style>\n",
              "\n",
              "    <script>\n",
              "      const buttonEl =\n",
              "        document.querySelector('#df-ded3fade-ac79-41f4-abb2-8f266c7ca7c9 button.colab-df-convert');\n",
              "      buttonEl.style.display =\n",
              "        google.colab.kernel.accessAllowed ? 'block' : 'none';\n",
              "\n",
              "      async function convertToInteractive(key) {\n",
              "        const element = document.querySelector('#df-ded3fade-ac79-41f4-abb2-8f266c7ca7c9');\n",
              "        const dataTable =\n",
              "          await google.colab.kernel.invokeFunction('convertToInteractive',\n",
              "                                                    [key], {});\n",
              "        if (!dataTable) return;\n",
              "\n",
              "        const docLinkHtml = 'Like what you see? Visit the ' +\n",
              "          '<a target=\"_blank\" href=https://colab.research.google.com/notebooks/data_table.ipynb>data table notebook</a>'\n",
              "          + ' to learn more about interactive tables.';\n",
              "        element.innerHTML = '';\n",
              "        dataTable['output_type'] = 'display_data';\n",
              "        await google.colab.output.renderOutput(dataTable, element);\n",
              "        const docLink = document.createElement('div');\n",
              "        docLink.innerHTML = docLinkHtml;\n",
              "        element.appendChild(docLink);\n",
              "      }\n",
              "    </script>\n",
              "  </div>\n",
              "\n",
              "\n",
              "<div id=\"df-06d1961b-f496-4fc2-83a1-e01d5fb305e6\">\n",
              "  <button class=\"colab-df-quickchart\" onclick=\"quickchart('df-06d1961b-f496-4fc2-83a1-e01d5fb305e6')\"\n",
              "            title=\"Suggest charts\"\n",
              "            style=\"display:none;\">\n",
              "\n",
              "<svg xmlns=\"http://www.w3.org/2000/svg\" height=\"24px\"viewBox=\"0 0 24 24\"\n",
              "     width=\"24px\">\n",
              "    <g>\n",
              "        <path d=\"M19 3H5c-1.1 0-2 .9-2 2v14c0 1.1.9 2 2 2h14c1.1 0 2-.9 2-2V5c0-1.1-.9-2-2-2zM9 17H7v-7h2v7zm4 0h-2V7h2v10zm4 0h-2v-4h2v4z\"/>\n",
              "    </g>\n",
              "</svg>\n",
              "  </button>\n",
              "\n",
              "<style>\n",
              "  .colab-df-quickchart {\n",
              "      --bg-color: #E8F0FE;\n",
              "      --fill-color: #1967D2;\n",
              "      --hover-bg-color: #E2EBFA;\n",
              "      --hover-fill-color: #174EA6;\n",
              "      --disabled-fill-color: #AAA;\n",
              "      --disabled-bg-color: #DDD;\n",
              "  }\n",
              "\n",
              "  [theme=dark] .colab-df-quickchart {\n",
              "      --bg-color: #3B4455;\n",
              "      --fill-color: #D2E3FC;\n",
              "      --hover-bg-color: #434B5C;\n",
              "      --hover-fill-color: #FFFFFF;\n",
              "      --disabled-bg-color: #3B4455;\n",
              "      --disabled-fill-color: #666;\n",
              "  }\n",
              "\n",
              "  .colab-df-quickchart {\n",
              "    background-color: var(--bg-color);\n",
              "    border: none;\n",
              "    border-radius: 50%;\n",
              "    cursor: pointer;\n",
              "    display: none;\n",
              "    fill: var(--fill-color);\n",
              "    height: 32px;\n",
              "    padding: 0;\n",
              "    width: 32px;\n",
              "  }\n",
              "\n",
              "  .colab-df-quickchart:hover {\n",
              "    background-color: var(--hover-bg-color);\n",
              "    box-shadow: 0 1px 2px rgba(60, 64, 67, 0.3), 0 1px 3px 1px rgba(60, 64, 67, 0.15);\n",
              "    fill: var(--button-hover-fill-color);\n",
              "  }\n",
              "\n",
              "  .colab-df-quickchart-complete:disabled,\n",
              "  .colab-df-quickchart-complete:disabled:hover {\n",
              "    background-color: var(--disabled-bg-color);\n",
              "    fill: var(--disabled-fill-color);\n",
              "    box-shadow: none;\n",
              "  }\n",
              "\n",
              "  .colab-df-spinner {\n",
              "    border: 2px solid var(--fill-color);\n",
              "    border-color: transparent;\n",
              "    border-bottom-color: var(--fill-color);\n",
              "    animation:\n",
              "      spin 1s steps(1) infinite;\n",
              "  }\n",
              "\n",
              "  @keyframes spin {\n",
              "    0% {\n",
              "      border-color: transparent;\n",
              "      border-bottom-color: var(--fill-color);\n",
              "      border-left-color: var(--fill-color);\n",
              "    }\n",
              "    20% {\n",
              "      border-color: transparent;\n",
              "      border-left-color: var(--fill-color);\n",
              "      border-top-color: var(--fill-color);\n",
              "    }\n",
              "    30% {\n",
              "      border-color: transparent;\n",
              "      border-left-color: var(--fill-color);\n",
              "      border-top-color: var(--fill-color);\n",
              "      border-right-color: var(--fill-color);\n",
              "    }\n",
              "    40% {\n",
              "      border-color: transparent;\n",
              "      border-right-color: var(--fill-color);\n",
              "      border-top-color: var(--fill-color);\n",
              "    }\n",
              "    60% {\n",
              "      border-color: transparent;\n",
              "      border-right-color: var(--fill-color);\n",
              "    }\n",
              "    80% {\n",
              "      border-color: transparent;\n",
              "      border-right-color: var(--fill-color);\n",
              "      border-bottom-color: var(--fill-color);\n",
              "    }\n",
              "    90% {\n",
              "      border-color: transparent;\n",
              "      border-bottom-color: var(--fill-color);\n",
              "    }\n",
              "  }\n",
              "</style>\n",
              "\n",
              "  <script>\n",
              "    async function quickchart(key) {\n",
              "      const quickchartButtonEl =\n",
              "        document.querySelector('#' + key + ' button');\n",
              "      quickchartButtonEl.disabled = true;  // To prevent multiple clicks.\n",
              "      quickchartButtonEl.classList.add('colab-df-spinner');\n",
              "      try {\n",
              "        const charts = await google.colab.kernel.invokeFunction(\n",
              "            'suggestCharts', [key], {});\n",
              "      } catch (error) {\n",
              "        console.error('Error during call to suggestCharts:', error);\n",
              "      }\n",
              "      quickchartButtonEl.classList.remove('colab-df-spinner');\n",
              "      quickchartButtonEl.classList.add('colab-df-quickchart-complete');\n",
              "    }\n",
              "    (() => {\n",
              "      let quickchartButtonEl =\n",
              "        document.querySelector('#df-06d1961b-f496-4fc2-83a1-e01d5fb305e6 button');\n",
              "      quickchartButtonEl.style.display =\n",
              "        google.colab.kernel.accessAllowed ? 'block' : 'none';\n",
              "    })();\n",
              "  </script>\n",
              "</div>\n",
              "\n",
              "    </div>\n",
              "  </div>\n"
            ],
            "application/vnd.google.colaboratory.intrinsic+json": {
              "type": "dataframe",
              "summary": "{\n  \"name\": \"wine_df\",\n  \"rows\": 8,\n  \"fields\": [\n    {\n      \"column\": \"Class\",\n      \"properties\": {\n        \"dtype\": \"number\",\n        \"std\": 62.2964284117262,\n        \"min\": 0.7750349899850564,\n        \"max\": 178.0,\n        \"num_unique_values\": 6,\n        \"samples\": [\n          178.0,\n          1.9382022471910112,\n          3.0\n        ],\n        \"semantic_type\": \"\",\n        \"description\": \"\"\n      }\n    },\n    {\n      \"column\": \"Alcohol\",\n      \"properties\": {\n        \"dtype\": \"number\",\n        \"std\": 59.11804622765535,\n        \"min\": 0.8118265380058575,\n        \"max\": 178.0,\n        \"num_unique_values\": 8,\n        \"samples\": [\n          13.00061797752809,\n          13.05,\n          178.0\n        ],\n        \"semantic_type\": \"\",\n        \"description\": \"\"\n      }\n    },\n    {\n      \"column\": \"Malic acid\",\n      \"properties\": {\n        \"dtype\": \"number\",\n        \"std\": 62.116878053835904,\n        \"min\": 0.74,\n        \"max\": 178.0,\n        \"num_unique_values\": 8,\n        \"samples\": [\n          2.3363483146067416,\n          1.8650000000000002,\n          178.0\n        ],\n        \"semantic_type\": \"\",\n        \"description\": \"\"\n      }\n    },\n    {\n      \"column\": \"Ash\",\n      \"properties\": {\n        \"dtype\": \"number\",\n        \"std\": 62.213612771606805,\n        \"min\": 0.27434400906081485,\n        \"max\": 178.0,\n        \"num_unique_values\": 8,\n        \"samples\": [\n          2.3665168539325845,\n          2.36,\n          178.0\n        ],\n        \"semantic_type\": \"\",\n        \"description\": \"\"\n      }\n    },\n    {\n      \"column\": \"Alcalinity of ash\",\n      \"properties\": {\n        \"dtype\": \"number\",\n        \"std\": 57.32526338306687,\n        \"min\": 3.339563767173505,\n        \"max\": 178.0,\n        \"num_unique_values\": 8,\n        \"samples\": [\n          19.49494382022472,\n          19.5,\n          178.0\n        ],\n        \"semantic_type\": \"\",\n        \"description\": \"\"\n      }\n    },\n    {\n      \"column\": \"Magnesium\",\n      \"properties\": {\n        \"dtype\": \"number\",\n        \"std\": 51.18081686409121,\n        \"min\": 14.282483515295665,\n        \"max\": 178.0,\n        \"num_unique_values\": 8,\n        \"samples\": [\n          99.74157303370787,\n          98.0,\n          178.0\n        ],\n        \"semantic_type\": \"\",\n        \"description\": \"\"\n      }\n    },\n    {\n      \"column\": \"Total phenols\",\n      \"properties\": {\n        \"dtype\": \"number\",\n        \"std\": 62.19953212829461,\n        \"min\": 0.6258510488339893,\n        \"max\": 178.0,\n        \"num_unique_values\": 8,\n        \"samples\": [\n          2.295112359550562,\n          2.355,\n          178.0\n        ],\n        \"semantic_type\": \"\",\n        \"description\": \"\"\n      }\n    },\n    {\n      \"column\": \"Flavanoids\",\n      \"properties\": {\n        \"dtype\": \"number\",\n        \"std\": 62.20866774807846,\n        \"min\": 0.34,\n        \"max\": 178.0,\n        \"num_unique_values\": 8,\n        \"samples\": [\n          2.0292696629213487,\n          2.135,\n          178.0\n        ],\n        \"semantic_type\": \"\",\n        \"description\": \"\"\n      }\n    },\n    {\n      \"column\": \"Nonflavanoid phenols\",\n      \"properties\": {\n        \"dtype\": \"number\",\n        \"std\": 62.81536936528359,\n        \"min\": 0.12445334029667937,\n        \"max\": 178.0,\n        \"num_unique_values\": 8,\n        \"samples\": [\n          0.3618539325842696,\n          0.34,\n          178.0\n        ],\n        \"semantic_type\": \"\",\n        \"description\": \"\"\n      }\n    },\n    {\n      \"column\": \"Proanthocyanins\",\n      \"properties\": {\n        \"dtype\": \"number\",\n        \"std\": 62.389141510191415,\n        \"min\": 0.41,\n        \"max\": 178.0,\n        \"num_unique_values\": 8,\n        \"samples\": [\n          1.5908988764044945,\n          1.5550000000000002,\n          178.0\n        ],\n        \"semantic_type\": \"\",\n        \"description\": \"\"\n      }\n    },\n    {\n      \"column\": \"Color intensity\",\n      \"properties\": {\n        \"dtype\": \"number\",\n        \"std\": 61.23070389608627,\n        \"min\": 1.28,\n        \"max\": 178.0,\n        \"num_unique_values\": 8,\n        \"samples\": [\n          5.058089882022472,\n          4.6899999999999995,\n          178.0\n        ],\n        \"semantic_type\": \"\",\n        \"description\": \"\"\n      }\n    },\n    {\n      \"column\": \"Hue\",\n      \"properties\": {\n        \"dtype\": \"number\",\n        \"std\": 62.618701002452724,\n        \"min\": 0.22857156582982338,\n        \"max\": 178.0,\n        \"num_unique_values\": 8,\n        \"samples\": [\n          0.9574494382022471,\n          0.965,\n          178.0\n        ],\n        \"semantic_type\": \"\",\n        \"description\": \"\"\n      }\n    },\n    {\n      \"column\": \"OD280/OD315 of diluted wines\",\n      \"properties\": {\n        \"dtype\": \"number\",\n        \"std\": 62.109005977625,\n        \"min\": 0.7099904287650504,\n        \"max\": 178.0,\n        \"num_unique_values\": 8,\n        \"samples\": [\n          2.6116853932584267,\n          2.78,\n          178.0\n        ],\n        \"semantic_type\": \"\",\n        \"description\": \"\"\n      }\n    },\n    {\n      \"column\": \"Proline\",\n      \"properties\": {\n        \"dtype\": \"number\",\n        \"std\": 489.2848273029377,\n        \"min\": 178.0,\n        \"max\": 1680.0,\n        \"num_unique_values\": 8,\n        \"samples\": [\n          746.8932584269663,\n          673.5,\n          178.0\n        ],\n        \"semantic_type\": \"\",\n        \"description\": \"\"\n      }\n    }\n  ]\n}"
            }
          },
          "metadata": {},
          "execution_count": 1
        }
      ],
      "source": [
        "import pandas as pd\n",
        "\n",
        "# URL of the dataset\n",
        "url = \"https://archive.ics.uci.edu/ml/machine-learning-databases/wine/wine.data\"\n",
        "\n",
        "\n",
        "# Load the dataset into DataFrame\n",
        "wine_df = pd.read_csv(url, header=None, index_col=False, names=[\n",
        "                'Class', 'Alcohol', 'Malic acid', 'Ash', 'Alcalinity of ash',\n",
        "                'Magnesium', 'Total phenols', 'Flavanoids', 'Nonflavanoid phenols',\n",
        "                'Proanthocyanins', 'Color intensity', 'Hue', 'OD280/OD315 of diluted wines',\n",
        "                'Proline'])\n",
        "\n",
        "# Display wine_data DF and check that all features are listed\n",
        "display(wine_df)\n",
        "\n",
        "# Show info on wine_df\n",
        "print(\"Info on wine_df:\")\n",
        "wine_df.info()\n",
        "print()\n",
        "\n",
        "# Show description of wine_df\n",
        "print(\"Description of wine_df:\")\n",
        "wine_df.describe()"
      ]
    },
    {
      "cell_type": "code",
      "source": [
        "# Utilize scikitlearn for a stratify split\n",
        "from sklearn.model_selection import StratifiedShuffleSplit\n",
        "\n",
        "# Separate the features (X) and the target variable (y) aka Class\n",
        "X = wine_df.drop('Class', axis=1)\n",
        "y = wine_df['Class']\n",
        "\n",
        "# Create StratifiedShuffleSplit with 1 split, 20% test size, 80% training and random state 42\n",
        "split = StratifiedShuffleSplit(n_splits=1, test_size=0.2, random_state=42)\n",
        "# Split data\n",
        "for train_index, test_index in split.split(X, y):\n",
        "   X_train = X.iloc[train_index]\n",
        "   X_test = X.iloc[test_index]\n",
        "   y_train = y.iloc[train_index]\n",
        "   y_test = y.iloc[test_index]\n",
        "\n",
        "# Check to confirm successful 80 : 20 split\n",
        "print(\"X_train:\", X_train.shape)\n",
        "print(\"X_test:\", X_test.shape)\n",
        "print(\"y_train:\", y_train.shape)\n",
        "print(\"y_test:\", y_test.shape)"
      ],
      "metadata": {
        "colab": {
          "base_uri": "https://localhost:8080/"
        },
        "id": "jpv84xEqvBsF",
        "outputId": "1d3f4b6f-3554-40a4-d2d0-ba4769e6e108"
      },
      "execution_count": 2,
      "outputs": [
        {
          "output_type": "stream",
          "name": "stdout",
          "text": [
            "X_train: (142, 13)\n",
            "X_test: (36, 13)\n",
            "y_train: (142,)\n",
            "y_test: (36,)\n"
          ]
        }
      ]
    },
    {
      "cell_type": "code",
      "source": [
        "# Checking missing values in training set\n",
        "\n",
        "# Check for missing values in X_train\n",
        "missing_values = X_train.isnull().sum()\n",
        "\n",
        "# Print missing values in X_train\n",
        "print(\"Missing Values in X_train:\")\n",
        "print(missing_values)\n",
        "print()\n",
        "\n",
        "# Check for missing values in y_train\n",
        "missing_values = y_train.isnull().sum()\n",
        "\n",
        "# Print missing values in y_train\n",
        "print(\"Missing Values in y_train:\")\n",
        "print(missing_values)\n",
        "print()\n",
        "\n",
        "# Checking missing values in test set\n",
        "\n",
        "# Check for missing values in X_test\n",
        "missing_values = X_test.isnull().sum()\n",
        "\n",
        "# Print missing values in X_test\n",
        "print(\"Missing Values in X_test:\")\n",
        "print(missing_values)\n",
        "print()\n",
        "\n",
        "# Check for missing values in y_test\n",
        "missing_values = y_test.isnull().sum()\n",
        "\n",
        "# Print missing values in y_test\n",
        "print(\"Missing Values in y_test:\")\n",
        "print(missing_values)"
      ],
      "metadata": {
        "colab": {
          "base_uri": "https://localhost:8080/"
        },
        "id": "n-Zz6bbzvR0F",
        "outputId": "5f12118c-9231-44e2-e464-e8bc26179443"
      },
      "execution_count": 3,
      "outputs": [
        {
          "output_type": "stream",
          "name": "stdout",
          "text": [
            "Missing Values in X_train:\n",
            "Alcohol                         0\n",
            "Malic acid                      0\n",
            "Ash                             0\n",
            "Alcalinity of ash               0\n",
            "Magnesium                       0\n",
            "Total phenols                   0\n",
            "Flavanoids                      0\n",
            "Nonflavanoid phenols            0\n",
            "Proanthocyanins                 0\n",
            "Color intensity                 0\n",
            "Hue                             0\n",
            "OD280/OD315 of diluted wines    0\n",
            "Proline                         0\n",
            "dtype: int64\n",
            "\n",
            "Missing Values in y_train:\n",
            "0\n",
            "\n",
            "Missing Values in X_test:\n",
            "Alcohol                         0\n",
            "Malic acid                      0\n",
            "Ash                             0\n",
            "Alcalinity of ash               0\n",
            "Magnesium                       0\n",
            "Total phenols                   0\n",
            "Flavanoids                      0\n",
            "Nonflavanoid phenols            0\n",
            "Proanthocyanins                 0\n",
            "Color intensity                 0\n",
            "Hue                             0\n",
            "OD280/OD315 of diluted wines    0\n",
            "Proline                         0\n",
            "dtype: int64\n",
            "\n",
            "Missing Values in y_test:\n",
            "0\n"
          ]
        }
      ]
    },
    {
      "cell_type": "markdown",
      "source": [
        "# Step 2: (If not already done in Project 1) Prepare your data\n",
        "\n",
        "\n",
        "\n",
        "*   Make sure that all your appropriate variables are converted to categorical variables (as ordinal or one hot)\n",
        "*   Perform any necessary feature scaling\n",
        "\n",
        "\n",
        "\n"
      ],
      "metadata": {
        "id": "Wg6AcKnjfvcR"
      }
    },
    {
      "cell_type": "code",
      "source": [
        "# Target is already encoded as integer 1, 2 or 3. No need to hot encode.\n",
        "display(y_train)"
      ],
      "metadata": {
        "colab": {
          "base_uri": "https://localhost:8080/",
          "height": 0
        },
        "id": "Oo4frQs9BPlW",
        "outputId": "e30169ec-1a1b-4557-e060-bdfed25a56dc"
      },
      "execution_count": 4,
      "outputs": [
        {
          "output_type": "display_data",
          "data": {
            "text/plain": [
              "36     1\n",
              "30     1\n",
              "26     1\n",
              "12     1\n",
              "148    3\n",
              "      ..\n",
              "142    3\n",
              "87     2\n",
              "34     1\n",
              "163    3\n",
              "131    3\n",
              "Name: Class, Length: 142, dtype: int64"
            ]
          },
          "metadata": {}
        }
      ]
    },
    {
      "cell_type": "code",
      "source": [
        "# Feature Scaling on X_train, no scaling needed for y_train\n",
        "# Scaling method below used from class 6 lab answers\n",
        "\n",
        "# Compute the minimum value per feature on the training set\n",
        "min_on_training = X_train.min(axis=0)\n",
        "\n",
        "# Compute the range of each feature (max - min) on the training set\n",
        "range_on_training = (X_train - min_on_training).max(axis=0)\n",
        "\n",
        "# subtract the min, divide by range\n",
        "# afterward, min=0 and max=1 for each feature\n",
        "X_train_scaled = (X_train - min_on_training) / range_on_training\n",
        "print(\"X_train: Minimum for each feature\\n\", X_train_scaled.min(axis=0))\n",
        "print()\n",
        "print(\"X_train: Maximum for each feature\\n\", X_train_scaled.max(axis=0))\n",
        "print()\n",
        "\n",
        "# Feature Scaling on X_test, no scaling needed for y_test\n",
        "\n",
        "# Compute the minimum value per feature on the test set\n",
        "min_on_testing = X_test.min(axis=0)\n",
        "\n",
        "# Compute the range of each feature (max - min) on the test set\n",
        "range_on_testing = (X_test - min_on_testing).max(axis=0)\n",
        "\n",
        "# subtract the min, divide by range\n",
        "# afterward, min=0 and max=1 for each feature\n",
        "X_test_scaled = (X_test - min_on_testing) / range_on_testing\n",
        "print(\"X_test: Minimum for each feature\\n\", X_test_scaled.min(axis=0))\n",
        "print()\n",
        "print(\"X_test: Maximum for each feature\\n\", X_test_scaled.max(axis=0))"
      ],
      "metadata": {
        "colab": {
          "base_uri": "https://localhost:8080/"
        },
        "id": "AAIbVEzeAkhq",
        "outputId": "8481fe10-e4ff-4a1a-f481-c0eb303c2d08"
      },
      "execution_count": 5,
      "outputs": [
        {
          "output_type": "stream",
          "name": "stdout",
          "text": [
            "X_train: Minimum for each feature\n",
            " Alcohol                         0.0\n",
            "Malic acid                      0.0\n",
            "Ash                             0.0\n",
            "Alcalinity of ash               0.0\n",
            "Magnesium                       0.0\n",
            "Total phenols                   0.0\n",
            "Flavanoids                      0.0\n",
            "Nonflavanoid phenols            0.0\n",
            "Proanthocyanins                 0.0\n",
            "Color intensity                 0.0\n",
            "Hue                             0.0\n",
            "OD280/OD315 of diluted wines    0.0\n",
            "Proline                         0.0\n",
            "dtype: float64\n",
            "\n",
            "X_train: Maximum for each feature\n",
            " Alcohol                         1.0\n",
            "Malic acid                      1.0\n",
            "Ash                             1.0\n",
            "Alcalinity of ash               1.0\n",
            "Magnesium                       1.0\n",
            "Total phenols                   1.0\n",
            "Flavanoids                      1.0\n",
            "Nonflavanoid phenols            1.0\n",
            "Proanthocyanins                 1.0\n",
            "Color intensity                 1.0\n",
            "Hue                             1.0\n",
            "OD280/OD315 of diluted wines    1.0\n",
            "Proline                         1.0\n",
            "dtype: float64\n",
            "\n",
            "X_test: Minimum for each feature\n",
            " Alcohol                         0.0\n",
            "Malic acid                      0.0\n",
            "Ash                             0.0\n",
            "Alcalinity of ash               0.0\n",
            "Magnesium                       0.0\n",
            "Total phenols                   0.0\n",
            "Flavanoids                      0.0\n",
            "Nonflavanoid phenols            0.0\n",
            "Proanthocyanins                 0.0\n",
            "Color intensity                 0.0\n",
            "Hue                             0.0\n",
            "OD280/OD315 of diluted wines    0.0\n",
            "Proline                         0.0\n",
            "dtype: float64\n",
            "\n",
            "X_test: Maximum for each feature\n",
            " Alcohol                         1.0\n",
            "Malic acid                      1.0\n",
            "Ash                             1.0\n",
            "Alcalinity of ash               1.0\n",
            "Magnesium                       1.0\n",
            "Total phenols                   1.0\n",
            "Flavanoids                      1.0\n",
            "Nonflavanoid phenols            1.0\n",
            "Proanthocyanins                 1.0\n",
            "Color intensity                 1.0\n",
            "Hue                             1.0\n",
            "OD280/OD315 of diluted wines    1.0\n",
            "Proline                         1.0\n",
            "dtype: float64\n"
          ]
        }
      ]
    },
    {
      "cell_type": "code",
      "source": [
        "# alterative scaling method\n",
        "#from sklearn.preprocessing import MinMaxScaler\n",
        "\n",
        "# Create an instance of MinMaxScaler\n",
        "#scaler = MinMaxScaler()\n",
        "\n",
        "# Fit on training data and transform both training and test data\n",
        "#X_train_scaled = scaler.fit_transform(X_train)\n",
        "#X_test_scaled = scaler.transform(X_test)\n",
        "\n",
        "#print(\"X_train: Maximum for each feature\\n\", X_train_scaled.max(axis=0))\n",
        "#print()\n",
        "#print(\"X_train: Minimum for each feature\\n\", X_train_scaled.min(axis=0))\n",
        "\n",
        "#print()\n",
        "#print(\"X:test: Maximum for each feature\\n\", X_test_scaled.max(axis=0))\n",
        "#print()\n",
        "#print(\"X_test: Minimum for each feature\\n\", X_test_scaled.min(axis=0))"
      ],
      "metadata": {
        "id": "BcIEl3auHBOt"
      },
      "execution_count": 6,
      "outputs": []
    },
    {
      "cell_type": "markdown",
      "source": [
        "# Step 3: Examine your target attribute.\n",
        "\n",
        "Based on the data exploration you did in Project 1, confirm and examine the attribute you are going to predict.\n",
        "\n",
        "*   Examine and plot the distribution of the target attribute in your training set (e.g., is it Gaussian, uniform, logarithmic). This will help you interpret the performance of different algorithms on your data.\n",
        "\n"
      ],
      "metadata": {
        "id": "AU7vhJOcf5ZI"
      }
    },
    {
      "cell_type": "code",
      "source": [
        "import matplotlib.pyplot as plt\n",
        "\n",
        "# y_train is the target variable (class)\n",
        "# Plotting histogram of class distribution in training set\n",
        "plt.figure(figsize=(8, 6))\n",
        "plt.hist(y_train, bins=3, alpha=0.7)\n",
        "plt.xlabel('Class')\n",
        "plt.ylabel('Frequency')\n",
        "plt.title('Distribution of \"Class\" in Training Set')\n",
        "plt.xticks([1, 2, 3])\n",
        "plt.grid(True)\n",
        "plt.show()"
      ],
      "metadata": {
        "colab": {
          "base_uri": "https://localhost:8080/",
          "height": 0
        },
        "id": "cdTFQ77VPjXV",
        "outputId": "4ea680db-1359-4ef5-f90e-67fc1f45f48d"
      },
      "execution_count": 7,
      "outputs": [
        {
          "output_type": "display_data",
          "data": {
            "text/plain": [
              "<Figure size 800x600 with 1 Axes>"
            ],
            "image/png": "[encoded data removed]"
          },
          "metadata": {}
        }
      ]
    },
    {
      "cell_type": "markdown",
      "source": [
        "Distribution  is close to Gaussian showing a bell-shaped curve and the counts are close to being balanced with Class 2 having more instances than class 1 and 3. Classes are balanced and evenly represented in the training set."
      ],
      "metadata": {
        "id": "ENpFALBpb6qV"
      }
    },
    {
      "cell_type": "markdown",
      "source": [
        "# Step 4: Selected two of the following supervised learning algorithms, ideally one from the first half of the list and one from the second half of the list\n",
        "\n",
        "*   K-Nearest Neighbor\n",
        "*   Linear Models\n",
        "*   Naïve Bayes\n",
        "*   Decision Trees (Single Tree, Random Forest, Gradient Descent decision trees)\n",
        "*   Support Vectors Machines"
      ],
      "metadata": {
        "id": "YjA48cWWgC4P"
      }
    },
    {
      "cell_type": "markdown",
      "source": [
        "# K-Nearest Neighbor"
      ],
      "metadata": {
        "id": "9xyNpKERe1AZ"
      }
    },
    {
      "cell_type": "code",
      "source": [
        "from sklearn.neighbors import KNeighborsClassifier\n",
        "from sklearn.metrics import classification_report\n",
        "import numpy as np"
      ],
      "metadata": {
        "id": "ymCs1Kv8xtgU"
      },
      "execution_count": 28,
      "outputs": []
    },
    {
      "cell_type": "code",
      "source": [
        "# Calculate KNN score with X_train\n",
        "\n",
        "# k = 4\n",
        "knn = KNeighborsClassifier(n_neighbors=4)\n",
        "knn.fit(X_train, y_train)\n",
        "print(\"knn score k=4: {}\".format(knn.score(X_train, y_train)))\n",
        "\n",
        "# Checking other values for K to determine if there is an impact\n",
        "\n",
        "# k=3\n",
        "knn = KNeighborsClassifier(n_neighbors=3)\n",
        "knn.fit(X_train, y_train)\n",
        "print(\"knn score k=3: {}\".format(knn.score(X_train, y_train)))\n",
        "# k=5\n",
        "knn = KNeighborsClassifier(n_neighbors=5)\n",
        "knn.fit(X_train, y_train)\n",
        "print(\"knn score k=5: {}\".format(knn.score(X_train, y_train)))\n"
      ],
      "metadata": {
        "colab": {
          "base_uri": "https://localhost:8080/"
        },
        "id": "3J-UK8olutq9",
        "outputId": "a9483a9a-cd94-49ce-be15-4ee64952aeac"
      },
      "execution_count": 9,
      "outputs": [
        {
          "output_type": "stream",
          "name": "stdout",
          "text": [
            "knn score k=4: 0.7605633802816901\n",
            "knn score k=3: 0.823943661971831\n",
            "knn score k=5: 0.7816901408450704\n"
          ]
        }
      ]
    },
    {
      "cell_type": "markdown",
      "source": [
        "unscaled data preformance was good"
      ],
      "metadata": {
        "id": "jQnLt3xZwMYV"
      }
    },
    {
      "cell_type": "code",
      "source": [
        "# KNN with X_train_scaled\n",
        "\n",
        "# k = 4\n",
        "knn = KNeighborsClassifier(n_neighbors=4)\n",
        "knn.fit(X_train_scaled, y_train)\n",
        "print(\"knn score k=4: {}\".format(knn.score(X_train_scaled, y_train)))\n",
        "\n",
        "# Checking other values for K to determine if there is an impact\n",
        "# k = 3\n",
        "knn = KNeighborsClassifier(n_neighbors=3)\n",
        "knn.fit(X_train_scaled, y_train)\n",
        "print(\"knn score k=3: {}\".format(knn.score(X_train_scaled, y_train)))\n",
        "\n",
        "# k = 5\n",
        "knn = KNeighborsClassifier(n_neighbors=5)\n",
        "knn.fit(X_train_scaled, y_train)\n",
        "print(\"knn score k=5: {}\".format(knn.score(X_train_scaled, y_train)))\n",
        "y_pred = knn.predict(X_test_scaled)\n"
      ],
      "metadata": {
        "colab": {
          "base_uri": "https://localhost:8080/"
        },
        "id": "JdkQ9vtXuxIw",
        "outputId": "1c0f96e9-7675-40c4-bf44-b046d228478a"
      },
      "execution_count": 10,
      "outputs": [
        {
          "output_type": "stream",
          "name": "stdout",
          "text": [
            "knn score k=4: 0.971830985915493\n",
            "knn score k=3: 0.9647887323943662\n",
            "knn score k=5: 0.971830985915493\n"
          ]
        }
      ]
    },
    {
      "cell_type": "markdown",
      "source": [
        "knn scores are very high with scaled data. A k of 4 or 5 is indicating that KNN correctly predicted 97% of the insteances in the dataset indicaing great preformance. This will proceed with utlizing X_train_scaled."
      ],
      "metadata": {
        "id": "n0qoxFEJv7j1"
      }
    },
    {
      "cell_type": "markdown",
      "source": [
        "Distances\n",
        "\n",
        "Knn using Euclidean distance metric plotted below."
      ],
      "metadata": {
        "id": "ahipamp2aF5K"
      }
    },
    {
      "cell_type": "code",
      "source": [
        "# Test with cross validation on test set\n",
        "# Lists to store training and test accuracies\n",
        "training_accuracy = []\n",
        "test_accuracy = []\n",
        "\n",
        "# Define range of neighbors settings to try\n",
        "neighbors_settings = range(1, 11)\n",
        "\n",
        "\n",
        "# Loop over different values of n_neighbors\n",
        "for n_neighbors in neighbors_settings:\n",
        "    # Build the model with Euclidean distance\n",
        "    knn = KNeighborsClassifier(n_neighbors=n_neighbors, metric='euclidean')\n",
        "    knn.fit(X_train_scaled, y_train)\n",
        "    # Record training set accuracy\n",
        "    training_accuracy.append(knn.score(X_train_scaled, y_train))\n",
        "    # Record generalization accuracy\n",
        "    test_accuracy.append(knn.score(X_test_scaled, y_test))\n",
        "\n",
        "plt.plot(neighbors_settings, training_accuracy, label=\"training accuracy\")\n",
        "plt.plot(neighbors_settings, test_accuracy, label=\"test accuracy\")\n",
        "plt.title(\"K-Nearest Neighbors (Euclidean Distance): Accuracy vs. Number of Neighbors\")\n",
        "plt.ylabel(\"Accuracy\")\n",
        "plt.xlabel(\"n_neighbors\")\n",
        "plt.legend()"
      ],
      "metadata": {
        "colab": {
          "base_uri": "https://localhost:8080/",
          "height": 489
        },
        "id": "ZA5qPX00ae94",
        "outputId": "da099f54-8c2a-4069-be37-69630ccca4f3"
      },
      "execution_count": 11,
      "outputs": [
        {
          "output_type": "execute_result",
          "data": {
            "text/plain": [
              "<matplotlib.legend.Legend at 0x7f4488c64dc0>"
            ]
          },
          "metadata": {},
          "execution_count": 11
        },
        {
          "output_type": "display_data",
          "data": {
            "text/plain": [
              "<Figure size 640x480 with 1 Axes>"
            ],
            "image/png": "[encoded data removed]"
          },
          "metadata": {}
        }
      ]
    },
    {
      "cell_type": "markdown",
      "source": [
        "The graph above is shoind that the high training accuracy indicated that the model can classify most training points correctly. The test accuracy is usually higher than training indacating that the model is preforming well. K of interest would be k=6 and k=10 because both training and testing accuracy are high.\n",
        "\n",
        "However, looking at the testing from 8-10 seeing the plateau may indacate an overfitting of the data."
      ],
      "metadata": {
        "id": "Cp2Xgsyab_IK"
      }
    },
    {
      "cell_type": "markdown",
      "source": [
        "Grid Search on X_train_scaled training set\n",
        "Helping to find the optimal hyperparameters for"
      ],
      "metadata": {
        "id": "9M79kZsc2DDq"
      }
    },
    {
      "cell_type": "code",
      "source": [
        "from sklearn.model_selection import GridSearchCV\n",
        "\n",
        "# Parameter validation on training set\n",
        "\n",
        "knn2 = KNeighborsClassifier()\n",
        "\n",
        "# Dictionary of all values of k\n",
        "param_grid = {\"n_neighbors\": np.arange(1, 25)}\n",
        "\n",
        "# Grid search on all values of k in dictionary\n",
        "knn_gscv = GridSearchCV(knn2, param_grid, cv=5)\n",
        "knn_gscv.fit(X_train_scaled, y_train)"
      ],
      "metadata": {
        "colab": {
          "base_uri": "https://localhost:8080/",
          "height": 119
        },
        "id": "LNeIZghe2HgZ",
        "outputId": "564eb057-8756-4221-bcd8-2cc3d44ec265"
      },
      "execution_count": 12,
      "outputs": [
        {
          "output_type": "execute_result",
          "data": {
            "text/plain": [
              "GridSearchCV(cv=5, estimator=KNeighborsClassifier(),\n",
              "             param_grid={'n_neighbors': array([ 1,  2,  3,  4,  5,  6,  7,  8,  9, 10, 11, 12, 13, 14, 15, 16, 17,\n",
              "       18, 19, 20, 21, 22, 23, 24])})"
            ],
            "text/html": [
              "<style>#sk-container-id-1 {color: black;background-color: white;}#sk-container-id-1 pre{padding: 0;}#sk-container-id-1 div.sk-toggleable {background-color: white;}#sk-container-id-1 label.sk-toggleable__label {cursor: pointer;display: block;width: 100%;margin-bottom: 0;padding: 0.3em;box-sizing: border-box;text-align: center;}#sk-container-id-1 label.sk-toggleable__label-arrow:before {content: \"▸\";float: left;margin-right: 0.25em;color: #696969;}#sk-container-id-1 label.sk-toggleable__label-arrow:hover:before {color: black;}#sk-container-id-1 div.sk-estimator:hover label.sk-toggleable__label-arrow:before {color: black;}#sk-container-id-1 div.sk-toggleable__content {max-height: 0;max-width: 0;overflow: hidden;text-align: left;background-color: #f0f8ff;}#sk-container-id-1 div.sk-toggleable__content pre {margin: 0.2em;color: black;border-radius: 0.25em;background-color: #f0f8ff;}#sk-container-id-1 input.sk-toggleable__control:checked~div.sk-toggleable__content {max-height: 200px;max-width: 100%;overflow: auto;}#sk-container-id-1 input.sk-toggleable__control:checked~label.sk-toggleable__label-arrow:before {content: \"▾\";}#sk-container-id-1 div.sk-estimator input.sk-toggleable__control:checked~label.sk-toggleable__label {background-color: #d4ebff;}#sk-container-id-1 div.sk-label input.sk-toggleable__control:checked~label.sk-toggleable__label {background-color: #d4ebff;}#sk-container-id-1 input.sk-hidden--visually {border: 0;clip: rect(1px 1px 1px 1px);clip: rect(1px, 1px, 1px, 1px);height: 1px;margin: -1px;overflow: hidden;padding: 0;position: absolute;width: 1px;}#sk-container-id-1 div.sk-estimator {font-family: monospace;background-color: #f0f8ff;border: 1px dotted black;border-radius: 0.25em;box-sizing: border-box;margin-bottom: 0.5em;}#sk-container-id-1 div.sk-estimator:hover {background-color: #d4ebff;}#sk-container-id-1 div.sk-parallel-item::after {content: \"\";width: 100%;border-bottom: 1px solid gray;flex-grow: 1;}#sk-container-id-1 div.sk-label:hover label.sk-toggleable__label {background-color: #d4ebff;}#sk-container-id-1 div.sk-serial::before {content: \"\";position: absolute;border-left: 1px solid gray;box-sizing: border-box;top: 0;bottom: 0;left: 50%;z-index: 0;}#sk-container-id-1 div.sk-serial {display: flex;flex-direction: column;align-items: center;background-color: white;padding-right: 0.2em;padding-left: 0.2em;position: relative;}#sk-container-id-1 div.sk-item {position: relative;z-index: 1;}#sk-container-id-1 div.sk-parallel {display: flex;align-items: stretch;justify-content: center;background-color: white;position: relative;}#sk-container-id-1 div.sk-item::before, #sk-container-id-1 div.sk-parallel-item::before {content: \"\";position: absolute;border-left: 1px solid gray;box-sizing: border-box;top: 0;bottom: 0;left: 50%;z-index: -1;}#sk-container-id-1 div.sk-parallel-item {display: flex;flex-direction: column;z-index: 1;position: relative;background-color: white;}#sk-container-id-1 div.sk-parallel-item:first-child::after {align-self: flex-end;width: 50%;}#sk-container-id-1 div.sk-parallel-item:last-child::after {align-self: flex-start;width: 50%;}#sk-container-id-1 div.sk-parallel-item:only-child::after {width: 0;}#sk-container-id-1 div.sk-dashed-wrapped {border: 1px dashed gray;margin: 0 0.4em 0.5em 0.4em;box-sizing: border-box;padding-bottom: 0.4em;background-color: white;}#sk-container-id-1 div.sk-label label {font-family: monospace;font-weight: bold;display: inline-block;line-height: 1.2em;}#sk-container-id-1 div.sk-label-container {text-align: center;}#sk-container-id-1 div.sk-container {/* jupyter's `normalize.less` sets `[hidden] { display: none; }` but bootstrap.min.css set `[hidden] { display: none !important; }` so we also need the `!important` here to be able to override the default hidden behavior on the sphinx rendered scikit-learn.org. See: https://github.com/scikit-learn/scikit-learn/issues/21755 */display: inline-block !important;position: relative;}#sk-container-id-1 div.sk-text-repr-fallback {display: none;}</style><div id=\"sk-container-id-1\" class=\"sk-top-container\"><div class=\"sk-text-repr-fallback\"><pre>GridSearchCV(cv=5, estimator=KNeighborsClassifier(),\n",
              "             param_grid={&#x27;n_neighbors&#x27;: array([ 1,  2,  3,  4,  5,  6,  7,  8,  9, 10, 11, 12, 13, 14, 15, 16, 17,\n",
              "       18, 19, 20, 21, 22, 23, 24])})</pre><b>In a Jupyter environment, please rerun this cell to show the HTML representation or trust the notebook. <br />On GitHub, the HTML representation is unable to render, please try loading this page with nbviewer.org.</b></div><div class=\"sk-container\" hidden><div class=\"sk-item sk-dashed-wrapped\"><div class=\"sk-label-container\"><div class=\"sk-label sk-toggleable\"><input class=\"sk-toggleable__control sk-hidden--visually\" id=\"sk-estimator-id-1\" type=\"checkbox\" ><label for=\"sk-estimator-id-1\" class=\"sk-toggleable__label sk-toggleable__label-arrow\">GridSearchCV</label><div class=\"sk-toggleable__content\"><pre>GridSearchCV(cv=5, estimator=KNeighborsClassifier(),\n",
              "             param_grid={&#x27;n_neighbors&#x27;: array([ 1,  2,  3,  4,  5,  6,  7,  8,  9, 10, 11, 12, 13, 14, 15, 16, 17,\n",
              "       18, 19, 20, 21, 22, 23, 24])})</pre></div></div></div><div class=\"sk-parallel\"><div class=\"sk-parallel-item\"><div class=\"sk-item\"><div class=\"sk-label-container\"><div class=\"sk-label sk-toggleable\"><input class=\"sk-toggleable__control sk-hidden--visually\" id=\"sk-estimator-id-2\" type=\"checkbox\" ><label for=\"sk-estimator-id-2\" class=\"sk-toggleable__label sk-toggleable__label-arrow\">estimator: KNeighborsClassifier</label><div class=\"sk-toggleable__content\"><pre>KNeighborsClassifier()</pre></div></div></div><div class=\"sk-serial\"><div class=\"sk-item\"><div class=\"sk-estimator sk-toggleable\"><input class=\"sk-toggleable__control sk-hidden--visually\" id=\"sk-estimator-id-3\" type=\"checkbox\" ><label for=\"sk-estimator-id-3\" class=\"sk-toggleable__label sk-toggleable__label-arrow\">KNeighborsClassifier</label><div class=\"sk-toggleable__content\"><pre>KNeighborsClassifier()</pre></div></div></div></div></div></div></div></div></div></div>"
            ]
          },
          "metadata": {},
          "execution_count": 12
        }
      ]
    },
    {
      "cell_type": "code",
      "source": [
        "# What is the best performing k (on training set)\n",
        "knn_gscv.best_params_"
      ],
      "metadata": {
        "colab": {
          "base_uri": "https://localhost:8080/"
        },
        "id": "d_c3v5B22V4z",
        "outputId": "87a6391f-2e57-43fa-96a1-6405468751f9"
      },
      "execution_count": 13,
      "outputs": [
        {
          "output_type": "execute_result",
          "data": {
            "text/plain": [
              "{'n_neighbors': 10}"
            ]
          },
          "metadata": {},
          "execution_count": 13
        }
      ]
    },
    {
      "cell_type": "code",
      "source": [
        "# Accuracy of best performing k\n",
        "knn_gscv.best_score_"
      ],
      "metadata": {
        "colab": {
          "base_uri": "https://localhost:8080/"
        },
        "id": "41TIVfsn2dvi",
        "outputId": "eca5c596-7fcf-46f5-d939-cd7894d88107"
      },
      "execution_count": 14,
      "outputs": [
        {
          "output_type": "execute_result",
          "data": {
            "text/plain": [
              "0.9790640394088669"
            ]
          },
          "metadata": {},
          "execution_count": 14
        }
      ]
    },
    {
      "cell_type": "code",
      "source": [
        "# Full cross valiadation results from grid search\n",
        "knn_gscv.cv_results_"
      ],
      "metadata": {
        "colab": {
          "base_uri": "https://localhost:8080/"
        },
        "id": "wgcIC-_D27HA",
        "outputId": "7cb96c5d-e904-47d4-e455-1f9dc2a5ec71"
      },
      "execution_count": 15,
      "outputs": [
        {
          "output_type": "execute_result",
          "data": {
            "text/plain": [
              "{'mean_fit_time': array([0.01440763, 0.01511912, 0.01212263, 0.01213927, 0.01488013,\n",
              "        0.01253376, 0.01648622, 0.01432781, 0.01859612, 0.0069932 ,\n",
              "        0.01021094, 0.01718373, 0.01186514, 0.02932644, 0.01898217,\n",
              "        0.01648793, 0.01235399, 0.00854073, 0.01160297, 0.00774899,\n",
              "        0.00940156, 0.0145133 , 0.00967274, 0.01140971]),\n",
              " 'std_fit_time': array([0.00686533, 0.00778974, 0.00662238, 0.01166269, 0.01120716,\n",
              "        0.00719752, 0.01397267, 0.00596417, 0.0033563 , 0.00119845,\n",
              "        0.00277354, 0.00980565, 0.00743912, 0.02735467, 0.00824268,\n",
              "        0.00531911, 0.00670711, 0.00541269, 0.00511366, 0.00146795,\n",
              "        0.00336083, 0.01480776, 0.00614868, 0.00801664]),\n",
              " 'mean_score_time': array([0.03394051, 0.0286562 , 0.02561474, 0.01956725, 0.02035789,\n",
              "        0.01951294, 0.02268867, 0.02012029, 0.034197  , 0.01446352,\n",
              "        0.02238746, 0.02385545, 0.018784  , 0.03518605, 0.01836886,\n",
              "        0.02789054, 0.02332349, 0.01564498, 0.01992645, 0.01366053,\n",
              "        0.03316784, 0.01828413, 0.01346955, 0.01992264]),\n",
              " 'std_score_time': array([0.01771046, 0.01148079, 0.01624406, 0.00792382, 0.00904601,\n",
              "        0.01492824, 0.0111696 , 0.01359243, 0.01885451, 0.00885173,\n",
              "        0.02037527, 0.01609451, 0.00893625, 0.02131779, 0.00370759,\n",
              "        0.009702  , 0.00905217, 0.00836813, 0.00793712, 0.00238408,\n",
              "        0.01822592, 0.0145048 , 0.00375391, 0.01152093]),\n",
              " 'param_n_neighbors': masked_array(data=[1, 2, 3, 4, 5, 6, 7, 8, 9, 10, 11, 12, 13, 14, 15, 16,\n",
              "                    17, 18, 19, 20, 21, 22, 23, 24],\n",
              "              mask=[False, False, False, False, False, False, False, False,\n",
              "                    False, False, False, False, False, False, False, False,\n",
              "                    False, False, False, False, False, False, False, False],\n",
              "        fill_value='?',\n",
              "             dtype=object),\n",
              " 'params': [{'n_neighbors': 1},\n",
              "  {'n_neighbors': 2},\n",
              "  {'n_neighbors': 3},\n",
              "  {'n_neighbors': 4},\n",
              "  {'n_neighbors': 5},\n",
              "  {'n_neighbors': 6},\n",
              "  {'n_neighbors': 7},\n",
              "  {'n_neighbors': 8},\n",
              "  {'n_neighbors': 9},\n",
              "  {'n_neighbors': 10},\n",
              "  {'n_neighbors': 11},\n",
              "  {'n_neighbors': 12},\n",
              "  {'n_neighbors': 13},\n",
              "  {'n_neighbors': 14},\n",
              "  {'n_neighbors': 15},\n",
              "  {'n_neighbors': 16},\n",
              "  {'n_neighbors': 17},\n",
              "  {'n_neighbors': 18},\n",
              "  {'n_neighbors': 19},\n",
              "  {'n_neighbors': 20},\n",
              "  {'n_neighbors': 21},\n",
              "  {'n_neighbors': 22},\n",
              "  {'n_neighbors': 23},\n",
              "  {'n_neighbors': 24}],\n",
              " 'split0_test_score': array([0.89655172, 0.89655172, 0.96551724, 0.93103448, 1.        ,\n",
              "        0.96551724, 0.96551724, 0.96551724, 1.        , 1.        ,\n",
              "        1.        , 0.96551724, 1.        , 1.        , 1.        ,\n",
              "        1.        , 1.        , 0.96551724, 0.96551724, 0.96551724,\n",
              "        0.96551724, 0.96551724, 0.96551724, 0.96551724]),\n",
              " 'split1_test_score': array([0.93103448, 0.93103448, 0.89655172, 0.96551724, 0.89655172,\n",
              "        0.93103448, 0.93103448, 0.93103448, 0.89655172, 0.93103448,\n",
              "        0.93103448, 0.93103448, 0.93103448, 0.93103448, 0.93103448,\n",
              "        0.93103448, 0.93103448, 0.93103448, 0.93103448, 0.93103448,\n",
              "        0.93103448, 0.93103448, 0.93103448, 0.93103448]),\n",
              " 'split2_test_score': array([0.96428571, 0.96428571, 0.96428571, 0.89285714, 0.96428571,\n",
              "        0.96428571, 0.96428571, 0.96428571, 0.96428571, 0.96428571,\n",
              "        0.96428571, 0.96428571, 0.96428571, 0.96428571, 0.96428571,\n",
              "        0.96428571, 0.96428571, 0.96428571, 0.92857143, 0.96428571,\n",
              "        0.92857143, 0.92857143, 0.92857143, 0.92857143]),\n",
              " 'split3_test_score': array([0.92857143, 0.96428571, 0.96428571, 1.        , 0.96428571,\n",
              "        1.        , 1.        , 1.        , 1.        , 1.        ,\n",
              "        1.        , 1.        , 0.96428571, 0.96428571, 0.96428571,\n",
              "        0.96428571, 0.96428571, 1.        , 0.96428571, 1.        ,\n",
              "        0.96428571, 1.        , 0.92857143, 0.96428571]),\n",
              " 'split4_test_score': array([0.96428571, 0.96428571, 0.96428571, 0.96428571, 1.        ,\n",
              "        0.96428571, 1.        , 1.        , 1.        , 1.        ,\n",
              "        1.        , 1.        , 1.        , 1.        , 1.        ,\n",
              "        1.        , 1.        , 1.        , 1.        , 1.        ,\n",
              "        1.        , 1.        , 1.        , 1.        ]),\n",
              " 'mean_test_score': array([0.93694581, 0.94408867, 0.95098522, 0.95073892, 0.96502463,\n",
              "        0.96502463, 0.97216749, 0.97216749, 0.97216749, 0.97906404,\n",
              "        0.97906404, 0.97216749, 0.97192118, 0.97192118, 0.97192118,\n",
              "        0.97192118, 0.97192118, 0.97216749, 0.95788177, 0.97216749,\n",
              "        0.95788177, 0.96502463, 0.95073892, 0.95788177]),\n",
              " 'std_test_score': array([0.02542321, 0.02703307, 0.02722093, 0.03624123, 0.03777879,\n",
              "        0.02181716, 0.02587497, 0.02587497, 0.04025869, 0.02771346,\n",
              "        0.02771346, 0.02587497, 0.02594287, 0.02594287, 0.02594287,\n",
              "        0.02594287, 0.02594287, 0.02587497, 0.02627976, 0.02587497,\n",
              "        0.02627976, 0.0314037 , 0.02834118, 0.02627976]),\n",
              " 'rank_test_score': array([24, 23, 20, 21, 14, 14,  3,  3,  3,  1,  1,  3,  9,  9,  9,  9,  9,\n",
              "         3, 17,  3, 17, 14, 21, 17], dtype=int32)}"
            ]
          },
          "metadata": {},
          "execution_count": 15
        }
      ]
    },
    {
      "cell_type": "markdown",
      "source": [
        "Based off the rank_test_score which uses the information in mean_test_score, it can bee seen that 10 and 11 ranks as 1st place indicating that it is the best preforming."
      ],
      "metadata": {
        "id": "yCc_Ia8E5ZwQ"
      }
    },
    {
      "cell_type": "code",
      "source": [
        "# accuracy of k = 10 on testing data (#1) BEST PREFORMER\n",
        "knn10 = KNeighborsClassifier(n_neighbors=10)\n",
        "knn10.fit(X_train_scaled, y_train)\n",
        "print(\"knn score: {}\".format(knn10.score(X_test_scaled, y_test)))"
      ],
      "metadata": {
        "colab": {
          "base_uri": "https://localhost:8080/"
        },
        "id": "rytOEegu5ZLi",
        "outputId": "9bb68942-b033-4507-cc88-732ab829e00a"
      },
      "execution_count": 16,
      "outputs": [
        {
          "output_type": "stream",
          "name": "stdout",
          "text": [
            "knn score: 1.0\n"
          ]
        }
      ]
    },
    {
      "cell_type": "markdown",
      "source": [
        "Knn score of 1 shows that the accuracy is 100%"
      ],
      "metadata": {
        "id": "NDY0gcc--BEd"
      }
    },
    {
      "cell_type": "code",
      "source": [
        "# accuracy of k = 1 on testing data WORST PerFORMER\n",
        "knn1 = KNeighborsClassifier(n_neighbors=1)\n",
        "knn1.fit(X_train_scaled, y_train)\n",
        "print(\"knn score: {}\".format(knn1.score(X_test_scaled, y_test)))"
      ],
      "metadata": {
        "colab": {
          "base_uri": "https://localhost:8080/"
        },
        "id": "e42SKLY2OnyX",
        "outputId": "042fe42b-7863-402e-e9de-5e141e2faafb"
      },
      "execution_count": 17,
      "outputs": [
        {
          "output_type": "stream",
          "name": "stdout",
          "text": [
            "knn score: 0.9444444444444444\n"
          ]
        }
      ]
    },
    {
      "cell_type": "markdown",
      "source": [
        "KNN score with the worst prefermorer has accuracy at 94% with the scaled data"
      ],
      "metadata": {
        "id": "UntuoraEPN3d"
      }
    },
    {
      "cell_type": "markdown",
      "source": [
        "Cross validation\n",
        "\n",
        "using cv= 5"
      ],
      "metadata": {
        "id": "HaKQvFrH6a94"
      }
    },
    {
      "cell_type": "code",
      "source": [
        "# Cross Validation on training set X_train for KNN\n",
        "\n",
        "from sklearn.model_selection import cross_val_score\n",
        "\n",
        "knn_cv = KNeighborsClassifier(n_neighbors=10)\n",
        "\n",
        "# 5-fold cross validation\n",
        "cv_scores = cross_val_score(knn_cv, X_train_scaled, y_train, cv=5)\n",
        "\n",
        "print(\"cv_scores:\\n{}\".format(cv_scores))\n",
        "print(\"cv_scores mean:\\n{}\".format(np.mean(cv_scores)))"
      ],
      "metadata": {
        "colab": {
          "base_uri": "https://localhost:8080/"
        },
        "id": "pSZ8pKhu6auD",
        "outputId": "aa186532-e458-48a3-f74a-931390a01a9e"
      },
      "execution_count": 18,
      "outputs": [
        {
          "output_type": "stream",
          "name": "stdout",
          "text": [
            "cv_scores:\n",
            "[1.         0.93103448 0.96428571 1.         1.        ]\n",
            "cv_scores mean:\n",
            "0.9790640394088669\n"
          ]
        }
      ]
    },
    {
      "cell_type": "markdown",
      "source": [
        "Cross validation of X_train_scaled at k=10 shows that a high score is consistent across the subsets of data. It shows the models preformance acoss different splits (cv=5). It can be seen that split 1,4 and 5 had 100% accuracy, while split 2 had 93% accuracy and split 3 had 96%.\n",
        "\n",
        "The cv_score mean shows that over the 5 splits the model had 97.9% accuracy.\n",
        "\n",
        "This high accuracy shows that the KNN model is high preforming on the X_train_scaled"
      ],
      "metadata": {
        "id": "n1-HJKkV-Wjp"
      }
    },
    {
      "cell_type": "markdown",
      "source": [
        "# Decision Tree\n"
      ],
      "metadata": {
        "id": "OeZTjw98fSLy"
      }
    },
    {
      "cell_type": "code",
      "source": [
        "from sklearn.tree import DecisionTreeClassifier\n",
        "from sklearn.metrics import classification_report"
      ],
      "metadata": {
        "id": "pKaNql-Lh6OZ"
      },
      "execution_count": 29,
      "outputs": []
    },
    {
      "cell_type": "code",
      "source": [
        "# Accuracy\n",
        "\n",
        "# Instantiate the DecisionTreeClassifier\n",
        "tree = DecisionTreeClassifier(random_state=0)\n",
        "\n",
        "# Not going to use the X_train_scaled as it is not needed for Decision trees\n",
        "# Fit the model\n",
        "tree.fit(X_train, y_train)\n",
        "\n",
        "# Evaluate model's accuracy\n",
        "print(\"Accuracy on training set: {:.3f}\".format(tree.score(X_train, y_train)))\n",
        "print(\"Accuracy on test set: {:.3f}\".format(tree.score(X_test, y_test)))\n"
      ],
      "metadata": {
        "colab": {
          "base_uri": "https://localhost:8080/"
        },
        "id": "Ar0M2as2h9N2",
        "outputId": "c2b06895-122c-4978-aa86-a16c22937803"
      },
      "execution_count": 30,
      "outputs": [
        {
          "output_type": "stream",
          "name": "stdout",
          "text": [
            "Accuracy on training set: 1.000\n",
            "Accuracy on test set: 0.944\n"
          ]
        }
      ]
    },
    {
      "cell_type": "markdown",
      "source": [
        "Overall model does preform well.\n",
        "\n",
        "The training accuracy of 100% indictes that the decision tree has perfectly classifed all training samples without errors. However, this could potientally indicate the model has overfitted the training set.\n",
        "\n",
        "The test set accuracy is also high at 94% which is good and let's me know that its a well generalized modeling, meaning it performs well on unseen data. but there could be some loss in generalization.\n",
        "\n",
        "Overfitting is indicated by model preforming well on the training data but worse on the testing data. While the gap isn't lage between training and testing (~6%) and it does not strongly suggest overfitting, it would be of interest to further examine if this is overfitted.\n",
        "\n",
        "Will need to prune the tree and cross validate to account for overfitting.\n"
      ],
      "metadata": {
        "id": "370uddlCCaoJ"
      }
    },
    {
      "cell_type": "code",
      "source": [
        "# Classification Report\n",
        "\n",
        "print(classification_report(y_test, tree.predict(X_test),\n",
        "                            target_names=[\"class 1\", \"class 2\",\"class 3\"]))"
      ],
      "metadata": {
        "colab": {
          "base_uri": "https://localhost:8080/"
        },
        "id": "nN0RTN297yIy",
        "outputId": "1317c912-7bbf-441d-b78a-c8cbb82a87c5"
      },
      "execution_count": 31,
      "outputs": [
        {
          "output_type": "stream",
          "name": "stdout",
          "text": [
            "              precision    recall  f1-score   support\n",
            "\n",
            "     class 1       0.92      0.92      0.92        12\n",
            "     class 2       0.93      0.93      0.93        14\n",
            "     class 3       1.00      1.00      1.00        10\n",
            "\n",
            "    accuracy                           0.94        36\n",
            "   macro avg       0.95      0.95      0.95        36\n",
            "weighted avg       0.94      0.94      0.94        36\n",
            "\n"
          ]
        }
      ]
    },
    {
      "cell_type": "code",
      "source": [
        "# Print Feature Importances\n",
        "\n",
        "print(\"Feature importances:\")\n",
        "print(tree.feature_importances_)"
      ],
      "metadata": {
        "colab": {
          "base_uri": "https://localhost:8080/"
        },
        "id": "LKhiQPsv8JBk",
        "outputId": "2f799553-ff41-4ba4-c783-44375b04a452"
      },
      "execution_count": 32,
      "outputs": [
        {
          "output_type": "stream",
          "name": "stdout",
          "text": [
            "Feature importances:\n",
            "[0.         0.         0.02016329 0.         0.01873775 0.\n",
            " 0.40807303 0.         0.         0.40018907 0.02086548 0.02098628\n",
            " 0.11098512]\n"
          ]
        }
      ]
    },
    {
      "cell_type": "markdown",
      "source": [
        "Feature importance for decision trees indicates the significance of each feature in predicting the target variable. A higher value is an important feature and impacts the model predicitons. Low scores are less important, possible can be prunned in next ideration."
      ],
      "metadata": {
        "id": "LF5UkHORIFrm"
      }
    },
    {
      "cell_type": "code",
      "source": [
        "# Feature names for plotting\n",
        "feature_names = ['Alcohol', 'Malic Acid', 'Ash', 'Alcalinity of Ash', 'Magnesium', 'Total Phenols',\n",
        "                 'Flavanoids', 'Nonflavanoid Phenols', 'Proanthocyanins', 'Color Intensity', 'Hue',\n",
        "                 'OD280/OD315 of Diluted Wines', 'Proline']\n",
        "\n",
        "# Plotting feature importances\n",
        "def plot_feature_importances(model):\n",
        "    n_features = X_train.shape[1]\n",
        "    plt.barh(np.arange(n_features), model.feature_importances_, align='center')\n",
        "    plt.yticks(np.arange(n_features), feature_names)\n",
        "    plt.xlabel(\"Feature Importance\")\n",
        "    plt.ylabel(\"Feature\")\n",
        "    plt.title(\"Feature Importances in Decision Tree\")\n",
        "    plt.ylim(-1, n_features)\n",
        "    plt.show()\n",
        "\n",
        "\n",
        "plot_feature_importances(tree)"
      ],
      "metadata": {
        "colab": {
          "base_uri": "https://localhost:8080/",
          "height": 472
        },
        "id": "1x_yiCoeJ12S",
        "outputId": "5e8071c1-7ab4-4e7d-8614-a2a16a01fa50"
      },
      "execution_count": 33,
      "outputs": [
        {
          "output_type": "display_data",
          "data": {
            "text/plain": [
              "<Figure size 640x480 with 1 Axes>"
            ],
            "image/png": "[encoded data removed]"
          },
          "metadata": {}
        }
      ]
    },
    {
      "cell_type": "markdown",
      "source": [
        "When mapping the features, the features with the highest importance are Flavanoids, followed by color intensity, then Proline. Features with the least importance include Alcohol, Malic acid, Alcalinity of ash, Total phenols, nonflavanoid phenols, and Proanthocyanins. Due to their score of zero, they do not influence the model and can be removed."
      ],
      "metadata": {
        "id": "K-fiuqPXJPDe"
      }
    },
    {
      "cell_type": "code",
      "source": [
        "# Cross Validation for decision tree on training\n",
        "\n",
        "# 5 Fold cross validaiton\n",
        "cv_tree = cross_val_score(tree, X_train, y_train, cv=5)\n",
        "\n",
        "# Print Scores and Mean of cross validation\n",
        "print(\"cv_scores:\\n{}\".format(cv_tree))\n",
        "print(\"cv_scores mean:\\n{}\".format(np.mean(cv_tree)))"
      ],
      "metadata": {
        "colab": {
          "base_uri": "https://localhost:8080/"
        },
        "id": "DiGAPxGMBTTX",
        "outputId": "bfd30a26-b520-41c6-8f31-b700e63c62ab"
      },
      "execution_count": 34,
      "outputs": [
        {
          "output_type": "stream",
          "name": "stdout",
          "text": [
            "cv_scores:\n",
            "[0.86206897 0.89655172 0.89285714 0.89285714 1.        ]\n",
            "cv_scores mean:\n",
            "0.9088669950738917\n"
          ]
        }
      ]
    },
    {
      "cell_type": "markdown",
      "source": [
        "Examining the output of a 5 split cross validation shows the mean score across the 5 splits to be about 90.8%. Verifying that the model has a high accuracy across the splits. It shows that the model is preforming well. The model likely generalizes well since it is closer to 100%."
      ],
      "metadata": {
        "id": "bbWWh1wUL3XU"
      }
    },
    {
      "cell_type": "markdown",
      "source": [
        "# Step 5: For each of your selected models\n",
        "\n",
        "\n",
        "\n",
        "*   Run with the default parameters, training on your training set and testing on your testing set\n",
        "  *   Calculate precision, recall, and F1\n",
        "\n",
        "\n",
        "\n",
        "*   Run with the default parameters using cross-validation on the whole dataset\n",
        "  *   Calculate precision, recall, and F1\n",
        "\n",
        "\n",
        "\n",
        "\n",
        "*   (Where possible) adjust 2-3 parameters for each model using grid search\n",
        "  *   Report evaluation metrics for the best and worst-performing parameter settings\n",
        "\n",
        "\n",
        "\n",
        "\n",
        "\n"
      ],
      "metadata": {
        "id": "O0WJud_-gu6Q"
      }
    },
    {
      "cell_type": "code",
      "source": [
        "from sklearn.metrics import classification_report\n",
        "from sklearn.model_selection import GridSearchCV\n",
        "from sklearn.metrics import confusion_matrix"
      ],
      "metadata": {
        "id": "R5yZm03tYP2Y"
      },
      "execution_count": 55,
      "outputs": []
    },
    {
      "cell_type": "markdown",
      "source": [
        "# KNN precision, recall and F1 with default parameters"
      ],
      "metadata": {
        "id": "vQTfcwfBgpY_"
      }
    },
    {
      "cell_type": "code",
      "source": [
        "# Classification Report\n",
        "\n",
        "print(classification_report(y_test, knn.predict(X_test),\n",
        "                            target_names=[\"class 1\", \"class 2\",\"class 3\"]))"
      ],
      "metadata": {
        "colab": {
          "base_uri": "https://localhost:8080/"
        },
        "id": "UByMnPpWqmWX",
        "outputId": "e539dca4-091b-4543-bcb7-b248ef3a433f"
      },
      "execution_count": 56,
      "outputs": [
        {
          "output_type": "stream",
          "name": "stdout",
          "text": [
            "              precision    recall  f1-score   support\n",
            "\n",
            "     class 1       0.33      1.00      0.50        12\n",
            "     class 2       0.00      0.00      0.00        14\n",
            "     class 3       0.00      0.00      0.00        10\n",
            "\n",
            "    accuracy                           0.33        36\n",
            "   macro avg       0.11      0.33      0.17        36\n",
            "weighted avg       0.11      0.33      0.17        36\n",
            "\n"
          ]
        },
        {
          "output_type": "stream",
          "name": "stderr",
          "text": [
            "/usr/local/lib/python3.10/dist-packages/sklearn/metrics/_classification.py:1344: UndefinedMetricWarning: Precision and F-score are ill-defined and being set to 0.0 in labels with no predicted samples. Use `zero_division` parameter to control this behavior.\n",
            "  _warn_prf(average, modifier, msg_start, len(result))\n",
            "/usr/local/lib/python3.10/dist-packages/sklearn/metrics/_classification.py:1344: UndefinedMetricWarning: Precision and F-score are ill-defined and being set to 0.0 in labels with no predicted samples. Use `zero_division` parameter to control this behavior.\n",
            "  _warn_prf(average, modifier, msg_start, len(result))\n",
            "/usr/local/lib/python3.10/dist-packages/sklearn/metrics/_classification.py:1344: UndefinedMetricWarning: Precision and F-score are ill-defined and being set to 0.0 in labels with no predicted samples. Use `zero_division` parameter to control this behavior.\n",
            "  _warn_prf(average, modifier, msg_start, len(result))\n"
          ]
        }
      ]
    },
    {
      "cell_type": "markdown",
      "source": [
        "# KNN precision, recall and F1 with cross validation"
      ],
      "metadata": {
        "id": "9Jm4LaG5hii-"
      }
    },
    {
      "cell_type": "code",
      "source": [
        "# Instantiate the KNN classifier\n",
        "knn_cv = KNeighborsClassifier(n_neighbors=4)\n",
        "\n",
        "# Perform 5-fold cross-validation on the entire dataset\n",
        "cv_scores_all = cross_val_score(knn_cv, X, y, cv=5)\n",
        "\n",
        "# Print cross-validation scores and mean\n",
        "print(\"cv_scores:\\n{}\".format(cv_scores_all))\n",
        "print(\"cv_scores mean:\\n{}\".format(np.mean(cv_scores_all)))"
      ],
      "metadata": {
        "colab": {
          "base_uri": "https://localhost:8080/"
        },
        "id": "juTablB7qELG",
        "outputId": "7b996598-b1de-4279-e047-0056a7487707"
      },
      "execution_count": 57,
      "outputs": [
        {
          "output_type": "stream",
          "name": "stdout",
          "text": [
            "cv_scores:\n",
            "[0.63888889 0.69444444 0.63888889 0.65714286 0.77142857]\n",
            "cv_scores mean:\n",
            "0.6801587301587302\n"
          ]
        }
      ]
    },
    {
      "cell_type": "markdown",
      "source": [
        "# KNN adjust parameters using grid search for best and worst performing parameters"
      ],
      "metadata": {
        "id": "bM2fGw0ShmcH"
      }
    },
    {
      "cell_type": "code",
      "source": [
        "\n",
        "# Dictionary of all values of k\n",
        "param_grid = {\"n_neighbors\": np.arange(1, 25)}\n",
        "\n",
        "# Grid search on all values of k in dictionary\n",
        "knn_gscv = GridSearchCV(knn, param_grid, cv=5)\n",
        "knn_gscv.fit(X_train_scaled, y_train)"
      ],
      "metadata": {
        "colab": {
          "base_uri": "https://localhost:8080/",
          "height": 0
        },
        "id": "AM2q2kq6xXhY",
        "outputId": "7a466046-bc35-4439-bee4-29e51be551b0"
      },
      "execution_count": 58,
      "outputs": [
        {
          "output_type": "execute_result",
          "data": {
            "text/plain": [
              "GridSearchCV(cv=5,\n",
              "             estimator=KNeighborsClassifier(metric='manhattan', n_neighbors=24),\n",
              "             param_grid={'n_neighbors': array([ 1,  2,  3,  4,  5,  6,  7,  8,  9, 10, 11, 12, 13, 14, 15, 16, 17,\n",
              "       18, 19, 20, 21, 22, 23, 24])})"
            ],
            "text/html": [
              "<style>#sk-container-id-5 {color: black;background-color: white;}#sk-container-id-5 pre{padding: 0;}#sk-container-id-5 div.sk-toggleable {background-color: white;}#sk-container-id-5 label.sk-toggleable__label {cursor: pointer;display: block;width: 100%;margin-bottom: 0;padding: 0.3em;box-sizing: border-box;text-align: center;}#sk-container-id-5 label.sk-toggleable__label-arrow:before {content: \"▸\";float: left;margin-right: 0.25em;color: #696969;}#sk-container-id-5 label.sk-toggleable__label-arrow:hover:before {color: black;}#sk-container-id-5 div.sk-estimator:hover label.sk-toggleable__label-arrow:before {color: black;}#sk-container-id-5 div.sk-toggleable__content {max-height: 0;max-width: 0;overflow: hidden;text-align: left;background-color: #f0f8ff;}#sk-container-id-5 div.sk-toggleable__content pre {margin: 0.2em;color: black;border-radius: 0.25em;background-color: #f0f8ff;}#sk-container-id-5 input.sk-toggleable__control:checked~div.sk-toggleable__content {max-height: 200px;max-width: 100%;overflow: auto;}#sk-container-id-5 input.sk-toggleable__control:checked~label.sk-toggleable__label-arrow:before {content: \"▾\";}#sk-container-id-5 div.sk-estimator input.sk-toggleable__control:checked~label.sk-toggleable__label {background-color: #d4ebff;}#sk-container-id-5 div.sk-label input.sk-toggleable__control:checked~label.sk-toggleable__label {background-color: #d4ebff;}#sk-container-id-5 input.sk-hidden--visually {border: 0;clip: rect(1px 1px 1px 1px);clip: rect(1px, 1px, 1px, 1px);height: 1px;margin: -1px;overflow: hidden;padding: 0;position: absolute;width: 1px;}#sk-container-id-5 div.sk-estimator {font-family: monospace;background-color: #f0f8ff;border: 1px dotted black;border-radius: 0.25em;box-sizing: border-box;margin-bottom: 0.5em;}#sk-container-id-5 div.sk-estimator:hover {background-color: #d4ebff;}#sk-container-id-5 div.sk-parallel-item::after {content: \"\";width: 100%;border-bottom: 1px solid gray;flex-grow: 1;}#sk-container-id-5 div.sk-label:hover label.sk-toggleable__label {background-color: #d4ebff;}#sk-container-id-5 div.sk-serial::before {content: \"\";position: absolute;border-left: 1px solid gray;box-sizing: border-box;top: 0;bottom: 0;left: 50%;z-index: 0;}#sk-container-id-5 div.sk-serial {display: flex;flex-direction: column;align-items: center;background-color: white;padding-right: 0.2em;padding-left: 0.2em;position: relative;}#sk-container-id-5 div.sk-item {position: relative;z-index: 1;}#sk-container-id-5 div.sk-parallel {display: flex;align-items: stretch;justify-content: center;background-color: white;position: relative;}#sk-container-id-5 div.sk-item::before, #sk-container-id-5 div.sk-parallel-item::before {content: \"\";position: absolute;border-left: 1px solid gray;box-sizing: border-box;top: 0;bottom: 0;left: 50%;z-index: -1;}#sk-container-id-5 div.sk-parallel-item {display: flex;flex-direction: column;z-index: 1;position: relative;background-color: white;}#sk-container-id-5 div.sk-parallel-item:first-child::after {align-self: flex-end;width: 50%;}#sk-container-id-5 div.sk-parallel-item:last-child::after {align-self: flex-start;width: 50%;}#sk-container-id-5 div.sk-parallel-item:only-child::after {width: 0;}#sk-container-id-5 div.sk-dashed-wrapped {border: 1px dashed gray;margin: 0 0.4em 0.5em 0.4em;box-sizing: border-box;padding-bottom: 0.4em;background-color: white;}#sk-container-id-5 div.sk-label label {font-family: monospace;font-weight: bold;display: inline-block;line-height: 1.2em;}#sk-container-id-5 div.sk-label-container {text-align: center;}#sk-container-id-5 div.sk-container {/* jupyter's `normalize.less` sets `[hidden] { display: none; }` but bootstrap.min.css set `[hidden] { display: none !important; }` so we also need the `!important` here to be able to override the default hidden behavior on the sphinx rendered scikit-learn.org. See: https://github.com/scikit-learn/scikit-learn/issues/21755 */display: inline-block !important;position: relative;}#sk-container-id-5 div.sk-text-repr-fallback {display: none;}</style><div id=\"sk-container-id-5\" class=\"sk-top-container\"><div class=\"sk-text-repr-fallback\"><pre>GridSearchCV(cv=5,\n",
              "             estimator=KNeighborsClassifier(metric=&#x27;manhattan&#x27;, n_neighbors=24),\n",
              "             param_grid={&#x27;n_neighbors&#x27;: array([ 1,  2,  3,  4,  5,  6,  7,  8,  9, 10, 11, 12, 13, 14, 15, 16, 17,\n",
              "       18, 19, 20, 21, 22, 23, 24])})</pre><b>In a Jupyter environment, please rerun this cell to show the HTML representation or trust the notebook. <br />On GitHub, the HTML representation is unable to render, please try loading this page with nbviewer.org.</b></div><div class=\"sk-container\" hidden><div class=\"sk-item sk-dashed-wrapped\"><div class=\"sk-label-container\"><div class=\"sk-label sk-toggleable\"><input class=\"sk-toggleable__control sk-hidden--visually\" id=\"sk-estimator-id-13\" type=\"checkbox\" ><label for=\"sk-estimator-id-13\" class=\"sk-toggleable__label sk-toggleable__label-arrow\">GridSearchCV</label><div class=\"sk-toggleable__content\"><pre>GridSearchCV(cv=5,\n",
              "             estimator=KNeighborsClassifier(metric=&#x27;manhattan&#x27;, n_neighbors=24),\n",
              "             param_grid={&#x27;n_neighbors&#x27;: array([ 1,  2,  3,  4,  5,  6,  7,  8,  9, 10, 11, 12, 13, 14, 15, 16, 17,\n",
              "       18, 19, 20, 21, 22, 23, 24])})</pre></div></div></div><div class=\"sk-parallel\"><div class=\"sk-parallel-item\"><div class=\"sk-item\"><div class=\"sk-label-container\"><div class=\"sk-label sk-toggleable\"><input class=\"sk-toggleable__control sk-hidden--visually\" id=\"sk-estimator-id-14\" type=\"checkbox\" ><label for=\"sk-estimator-id-14\" class=\"sk-toggleable__label sk-toggleable__label-arrow\">estimator: KNeighborsClassifier</label><div class=\"sk-toggleable__content\"><pre>KNeighborsClassifier(metric=&#x27;manhattan&#x27;, n_neighbors=24)</pre></div></div></div><div class=\"sk-serial\"><div class=\"sk-item\"><div class=\"sk-estimator sk-toggleable\"><input class=\"sk-toggleable__control sk-hidden--visually\" id=\"sk-estimator-id-15\" type=\"checkbox\" ><label for=\"sk-estimator-id-15\" class=\"sk-toggleable__label sk-toggleable__label-arrow\">KNeighborsClassifier</label><div class=\"sk-toggleable__content\"><pre>KNeighborsClassifier(metric=&#x27;manhattan&#x27;, n_neighbors=24)</pre></div></div></div></div></div></div></div></div></div></div>"
            ]
          },
          "metadata": {},
          "execution_count": 58
        }
      ]
    },
    {
      "cell_type": "code",
      "source": [
        "# Best performing k (on training set)\n",
        "knn_gscv.best_params_"
      ],
      "metadata": {
        "colab": {
          "base_uri": "https://localhost:8080/"
        },
        "id": "LSJGtehhxwTJ",
        "outputId": "1d13975b-7a4f-4d26-e130-0dfda683a7a4"
      },
      "execution_count": 59,
      "outputs": [
        {
          "output_type": "execute_result",
          "data": {
            "text/plain": [
              "{'n_neighbors': 14}"
            ]
          },
          "metadata": {},
          "execution_count": 59
        }
      ]
    },
    {
      "cell_type": "code",
      "source": [
        "# Accuracy of best performing k\n",
        "knn_gscv.best_score_"
      ],
      "metadata": {
        "colab": {
          "base_uri": "https://localhost:8080/"
        },
        "id": "VkOF-XSNx0fj",
        "outputId": "dd37d3f9-ec3f-43d2-c720-6ddf5efe94c1"
      },
      "execution_count": 60,
      "outputs": [
        {
          "output_type": "execute_result",
          "data": {
            "text/plain": [
              "0.9793103448275862"
            ]
          },
          "metadata": {},
          "execution_count": 60
        }
      ]
    },
    {
      "cell_type": "code",
      "source": [
        "# Cross validation results\n",
        "knn_gscv.cv_results_"
      ],
      "metadata": {
        "colab": {
          "base_uri": "https://localhost:8080/"
        },
        "id": "FWy9M1g_yFrG",
        "outputId": "1c4dadb6-6606-4308-e08d-408a835b5449"
      },
      "execution_count": 61,
      "outputs": [
        {
          "output_type": "execute_result",
          "data": {
            "text/plain": [
              "{'mean_fit_time': array([0.00365801, 0.00339751, 0.00313044, 0.00439162, 0.00328655,\n",
              "        0.00352473, 0.00440483, 0.00341096, 0.00441885, 0.00334606,\n",
              "        0.00329289, 0.003409  , 0.00343485, 0.00444078, 0.00466647,\n",
              "        0.00302   , 0.00341139, 0.00435958, 0.0035676 , 0.00439897,\n",
              "        0.00310178, 0.00306578, 0.00352206, 0.00281415]),\n",
              " 'std_fit_time': array([0.00057289, 0.0002682 , 0.000159  , 0.00168336, 0.00015864,\n",
              "        0.00074639, 0.00084264, 0.00067086, 0.00100516, 0.0002505 ,\n",
              "        0.00036728, 0.00018672, 0.00051407, 0.00114508, 0.00109288,\n",
              "        0.00010344, 0.0002859 , 0.00102142, 0.00024869, 0.00080291,\n",
              "        0.00060924, 0.00026067, 0.0005818 , 0.00021472]),\n",
              " 'mean_score_time': array([0.00560765, 0.00562625, 0.00552411, 0.00709004, 0.00553088,\n",
              "        0.00650887, 0.00853744, 0.00607877, 0.00605035, 0.00522714,\n",
              "        0.00568423, 0.00562453, 0.00585828, 0.00732732, 0.00646276,\n",
              "        0.00512905, 0.00585523, 0.00662303, 0.00673366, 0.00612082,\n",
              "        0.00556741, 0.00514073, 0.00552797, 0.00506525]),\n",
              " 'std_score_time': array([0.00060078, 0.00068007, 0.00096323, 0.00218656, 0.00038521,\n",
              "        0.00255735, 0.00203597, 0.00115506, 0.00071254, 0.0002076 ,\n",
              "        0.00054007, 0.0003222 , 0.00057787, 0.00225028, 0.00145797,\n",
              "        0.00026036, 0.0006257 , 0.00130093, 0.0012311 , 0.00031407,\n",
              "        0.00149662, 0.00031086, 0.00064752, 0.00066677]),\n",
              " 'param_n_neighbors': masked_array(data=[1, 2, 3, 4, 5, 6, 7, 8, 9, 10, 11, 12, 13, 14, 15, 16,\n",
              "                    17, 18, 19, 20, 21, 22, 23, 24],\n",
              "              mask=[False, False, False, False, False, False, False, False,\n",
              "                    False, False, False, False, False, False, False, False,\n",
              "                    False, False, False, False, False, False, False, False],\n",
              "        fill_value='?',\n",
              "             dtype=object),\n",
              " 'params': [{'n_neighbors': 1},\n",
              "  {'n_neighbors': 2},\n",
              "  {'n_neighbors': 3},\n",
              "  {'n_neighbors': 4},\n",
              "  {'n_neighbors': 5},\n",
              "  {'n_neighbors': 6},\n",
              "  {'n_neighbors': 7},\n",
              "  {'n_neighbors': 8},\n",
              "  {'n_neighbors': 9},\n",
              "  {'n_neighbors': 10},\n",
              "  {'n_neighbors': 11},\n",
              "  {'n_neighbors': 12},\n",
              "  {'n_neighbors': 13},\n",
              "  {'n_neighbors': 14},\n",
              "  {'n_neighbors': 15},\n",
              "  {'n_neighbors': 16},\n",
              "  {'n_neighbors': 17},\n",
              "  {'n_neighbors': 18},\n",
              "  {'n_neighbors': 19},\n",
              "  {'n_neighbors': 20},\n",
              "  {'n_neighbors': 21},\n",
              "  {'n_neighbors': 22},\n",
              "  {'n_neighbors': 23},\n",
              "  {'n_neighbors': 24}],\n",
              " 'split0_test_score': array([0.93103448, 0.89655172, 0.96551724, 0.96551724, 1.        ,\n",
              "        1.        , 1.        , 0.93103448, 0.93103448, 0.93103448,\n",
              "        0.93103448, 0.93103448, 0.96551724, 0.96551724, 0.96551724,\n",
              "        0.96551724, 0.96551724, 0.96551724, 0.96551724, 0.96551724,\n",
              "        0.96551724, 0.96551724, 1.        , 1.        ]),\n",
              " 'split1_test_score': array([1.        , 0.96551724, 0.96551724, 0.96551724, 0.96551724,\n",
              "        0.96551724, 0.93103448, 0.96551724, 0.93103448, 0.93103448,\n",
              "        0.93103448, 0.93103448, 0.93103448, 0.93103448, 0.93103448,\n",
              "        0.93103448, 0.93103448, 0.93103448, 0.93103448, 0.93103448,\n",
              "        0.93103448, 0.93103448, 0.93103448, 0.93103448]),\n",
              " 'split2_test_score': array([0.96428571, 0.96428571, 0.96428571, 0.96428571, 0.96428571,\n",
              "        0.96428571, 0.96428571, 1.        , 1.        , 1.        ,\n",
              "        1.        , 1.        , 0.96428571, 1.        , 1.        ,\n",
              "        0.96428571, 0.96428571, 0.96428571, 0.92857143, 0.96428571,\n",
              "        0.92857143, 0.92857143, 0.92857143, 0.92857143]),\n",
              " 'split3_test_score': array([1.        , 1.        , 1.        , 1.        , 0.96428571,\n",
              "        1.        , 1.        , 1.        , 1.        , 1.        ,\n",
              "        0.96428571, 0.96428571, 0.96428571, 1.        , 1.        ,\n",
              "        1.        , 0.96428571, 0.96428571, 0.96428571, 1.        ,\n",
              "        0.96428571, 1.        , 1.        , 1.        ]),\n",
              " 'split4_test_score': array([1.        , 0.96428571, 0.96428571, 0.96428571, 1.        ,\n",
              "        0.92857143, 0.96428571, 0.96428571, 1.        , 1.        ,\n",
              "        1.        , 1.        , 1.        , 1.        , 1.        ,\n",
              "        1.        , 1.        , 1.        , 1.        , 1.        ,\n",
              "        1.        , 1.        , 1.        , 0.96428571]),\n",
              " 'mean_test_score': array([0.97906404, 0.95812808, 0.97192118, 0.97192118, 0.97881773,\n",
              "        0.97167488, 0.97192118, 0.97216749, 0.97241379, 0.97241379,\n",
              "        0.96527094, 0.96527094, 0.96502463, 0.97931034, 0.97931034,\n",
              "        0.97216749, 0.96502463, 0.96502463, 0.95788177, 0.97216749,\n",
              "        0.95788177, 0.96502463, 0.97192118, 0.96477833]),\n",
              " 'std_test_score': array([0.02771346, 0.03369076, 0.01405021, 0.01405021, 0.01730109,\n",
              "        0.02666477, 0.02594287, 0.02587497, 0.03378607, 0.03378607,\n",
              "        0.03084625, 0.03084625, 0.02181716, 0.02758621, 0.02758621,\n",
              "        0.02587497, 0.02181716, 0.02181716, 0.02627976, 0.02587497,\n",
              "        0.02627976, 0.0314037 , 0.03439821, 0.0314037 ]),\n",
              " 'rank_test_score': array([ 3, 22, 10, 10,  4, 14, 10,  9,  5,  5, 15, 15, 17,  1,  1,  7, 17,\n",
              "        17, 23,  7, 23, 17, 10, 21], dtype=int32)}"
            ]
          },
          "metadata": {},
          "execution_count": 61
        }
      ]
    },
    {
      "cell_type": "markdown",
      "source": [
        "Best Performing"
      ],
      "metadata": {
        "id": "SnkNDCxSyKVd"
      }
    },
    {
      "cell_type": "code",
      "source": [
        "# Accuracy of k = 10 on testing data\n",
        "knn10 = KNeighborsClassifier(n_neighbors=10)\n",
        "knn10.fit(X_train_scaled, y_train)\n",
        "print(\"knn score: {}\".format(knn10.score(X_test_scaled, y_test)))"
      ],
      "metadata": {
        "colab": {
          "base_uri": "https://localhost:8080/"
        },
        "id": "FTx4-s1nyJy6",
        "outputId": "1cf942be-6b1c-4b00-af60-abe506bc38f2"
      },
      "execution_count": 62,
      "outputs": [
        {
          "output_type": "stream",
          "name": "stdout",
          "text": [
            "knn score: 1.0\n"
          ]
        }
      ]
    },
    {
      "cell_type": "markdown",
      "source": [
        "Worst Performing"
      ],
      "metadata": {
        "id": "Mjs-F8JiyX9U"
      }
    },
    {
      "cell_type": "code",
      "source": [
        "# accuracy of k = 1 on testing data WORST PerFORMER\n",
        "knn1 = KNeighborsClassifier(n_neighbors=1)\n",
        "knn1.fit(X_train_scaled, y_train)\n",
        "print(\"knn score: {}\".format(knn1.score(X_test_scaled, y_test)))"
      ],
      "metadata": {
        "colab": {
          "base_uri": "https://localhost:8080/"
        },
        "id": "BxCv35Oqyb2B",
        "outputId": "adba85a8-6e95-4502-ff7c-ec76b1cdd5f6"
      },
      "execution_count": 63,
      "outputs": [
        {
          "output_type": "stream",
          "name": "stdout",
          "text": [
            "knn score: 0.9444444444444444\n"
          ]
        }
      ]
    },
    {
      "cell_type": "markdown",
      "source": [
        "performs worse with unscaled data at 33%"
      ],
      "metadata": {
        "id": "T46EeqrPcbWk"
      }
    },
    {
      "cell_type": "markdown",
      "source": [
        "# Adjusting KNN parameters version 1: Utilizing Manhattan distance\n",
        "\n",
        "\n"
      ],
      "metadata": {
        "id": "IGWhLpVl199K"
      }
    },
    {
      "cell_type": "code",
      "source": [
        "# test with cross validation on test set (common for small datasets)\n",
        "training_accuracy = []\n",
        "test_accuracy = []\n",
        "# try n_neighbors from 1 to 10\n",
        "neighbors_settings = range(1, 25)\n",
        "\n",
        "for n_neighbors in neighbors_settings:\n",
        "    # build the model\n",
        "    knn = KNeighborsClassifier(n_neighbors=n_neighbors,metric='manhattan')\n",
        "    knn.fit(X_train_scaled, y_train)\n",
        "    # record training set accuracy\n",
        "    training_accuracy.append(knn.score(X_train_scaled, y_train))\n",
        "    # record generalization accuracy\n",
        "    test_accuracy.append(knn.score(X_test_scaled, y_test))\n",
        "\n",
        "plt.plot(neighbors_settings, training_accuracy, label=\"training accuracy\")\n",
        "plt.plot(neighbors_settings, test_accuracy, label=\"test accuracy\")\n",
        "plt.title(\"K-Nearest Neighbors (Manhattan Distance): Accuracy vs. Number of Neighbors\")\n",
        "plt.ylabel(\"Accuracy\")\n",
        "plt.xlabel(\"n_neighbors\")\n",
        "plt.legend()"
      ],
      "metadata": {
        "colab": {
          "base_uri": "https://localhost:8080/",
          "height": 489
        },
        "id": "xniZ-AAvX4Y8",
        "outputId": "5a351a9c-1156-4e17-dd91-79bdeb83ea8f"
      },
      "execution_count": 64,
      "outputs": [
        {
          "output_type": "execute_result",
          "data": {
            "text/plain": [
              "<matplotlib.legend.Legend at 0x7f4488816c20>"
            ]
          },
          "metadata": {},
          "execution_count": 64
        },
        {
          "output_type": "display_data",
          "data": {
            "text/plain": [
              "<Figure size 640x480 with 1 Axes>"
            ],
            "image/png": "[encoded data removed]"
          },
          "metadata": {}
        }
      ]
    },
    {
      "cell_type": "code",
      "source": [
        "# Dictionary of all values of k\n",
        "param_grid = {\"n_neighbors\": np.arange(1, 25),\n",
        "              \"metric\": ['manhattan']}\n",
        "\n",
        "# Grid search on all values of k in dictionary\n",
        "grid_search_manhattan = GridSearchCV(knn, param_grid, cv=5)\n",
        "grid_search_manhattan.fit(X_train_scaled, y_train)"
      ],
      "metadata": {
        "colab": {
          "base_uri": "https://localhost:8080/",
          "height": 119
        },
        "id": "diimrr63Z49B",
        "outputId": "989d9354-3807-4331-eb09-94d9eba80e3c"
      },
      "execution_count": 65,
      "outputs": [
        {
          "output_type": "execute_result",
          "data": {
            "text/plain": [
              "GridSearchCV(cv=5,\n",
              "             estimator=KNeighborsClassifier(metric='manhattan', n_neighbors=24),\n",
              "             param_grid={'metric': ['manhattan'],\n",
              "                         'n_neighbors': array([ 1,  2,  3,  4,  5,  6,  7,  8,  9, 10, 11, 12, 13, 14, 15, 16, 17,\n",
              "       18, 19, 20, 21, 22, 23, 24])})"
            ],
            "text/html": [
              "<style>#sk-container-id-6 {color: black;background-color: white;}#sk-container-id-6 pre{padding: 0;}#sk-container-id-6 div.sk-toggleable {background-color: white;}#sk-container-id-6 label.sk-toggleable__label {cursor: pointer;display: block;width: 100%;margin-bottom: 0;padding: 0.3em;box-sizing: border-box;text-align: center;}#sk-container-id-6 label.sk-toggleable__label-arrow:before {content: \"▸\";float: left;margin-right: 0.25em;color: #696969;}#sk-container-id-6 label.sk-toggleable__label-arrow:hover:before {color: black;}#sk-container-id-6 div.sk-estimator:hover label.sk-toggleable__label-arrow:before {color: black;}#sk-container-id-6 div.sk-toggleable__content {max-height: 0;max-width: 0;overflow: hidden;text-align: left;background-color: #f0f8ff;}#sk-container-id-6 div.sk-toggleable__content pre {margin: 0.2em;color: black;border-radius: 0.25em;background-color: #f0f8ff;}#sk-container-id-6 input.sk-toggleable__control:checked~div.sk-toggleable__content {max-height: 200px;max-width: 100%;overflow: auto;}#sk-container-id-6 input.sk-toggleable__control:checked~label.sk-toggleable__label-arrow:before {content: \"▾\";}#sk-container-id-6 div.sk-estimator input.sk-toggleable__control:checked~label.sk-toggleable__label {background-color: #d4ebff;}#sk-container-id-6 div.sk-label input.sk-toggleable__control:checked~label.sk-toggleable__label {background-color: #d4ebff;}#sk-container-id-6 input.sk-hidden--visually {border: 0;clip: rect(1px 1px 1px 1px);clip: rect(1px, 1px, 1px, 1px);height: 1px;margin: -1px;overflow: hidden;padding: 0;position: absolute;width: 1px;}#sk-container-id-6 div.sk-estimator {font-family: monospace;background-color: #f0f8ff;border: 1px dotted black;border-radius: 0.25em;box-sizing: border-box;margin-bottom: 0.5em;}#sk-container-id-6 div.sk-estimator:hover {background-color: #d4ebff;}#sk-container-id-6 div.sk-parallel-item::after {content: \"\";width: 100%;border-bottom: 1px solid gray;flex-grow: 1;}#sk-container-id-6 div.sk-label:hover label.sk-toggleable__label {background-color: #d4ebff;}#sk-container-id-6 div.sk-serial::before {content: \"\";position: absolute;border-left: 1px solid gray;box-sizing: border-box;top: 0;bottom: 0;left: 50%;z-index: 0;}#sk-container-id-6 div.sk-serial {display: flex;flex-direction: column;align-items: center;background-color: white;padding-right: 0.2em;padding-left: 0.2em;position: relative;}#sk-container-id-6 div.sk-item {position: relative;z-index: 1;}#sk-container-id-6 div.sk-parallel {display: flex;align-items: stretch;justify-content: center;background-color: white;position: relative;}#sk-container-id-6 div.sk-item::before, #sk-container-id-6 div.sk-parallel-item::before {content: \"\";position: absolute;border-left: 1px solid gray;box-sizing: border-box;top: 0;bottom: 0;left: 50%;z-index: -1;}#sk-container-id-6 div.sk-parallel-item {display: flex;flex-direction: column;z-index: 1;position: relative;background-color: white;}#sk-container-id-6 div.sk-parallel-item:first-child::after {align-self: flex-end;width: 50%;}#sk-container-id-6 div.sk-parallel-item:last-child::after {align-self: flex-start;width: 50%;}#sk-container-id-6 div.sk-parallel-item:only-child::after {width: 0;}#sk-container-id-6 div.sk-dashed-wrapped {border: 1px dashed gray;margin: 0 0.4em 0.5em 0.4em;box-sizing: border-box;padding-bottom: 0.4em;background-color: white;}#sk-container-id-6 div.sk-label label {font-family: monospace;font-weight: bold;display: inline-block;line-height: 1.2em;}#sk-container-id-6 div.sk-label-container {text-align: center;}#sk-container-id-6 div.sk-container {/* jupyter's `normalize.less` sets `[hidden] { display: none; }` but bootstrap.min.css set `[hidden] { display: none !important; }` so we also need the `!important` here to be able to override the default hidden behavior on the sphinx rendered scikit-learn.org. See: https://github.com/scikit-learn/scikit-learn/issues/21755 */display: inline-block !important;position: relative;}#sk-container-id-6 div.sk-text-repr-fallback {display: none;}</style><div id=\"sk-container-id-6\" class=\"sk-top-container\"><div class=\"sk-text-repr-fallback\"><pre>GridSearchCV(cv=5,\n",
              "             estimator=KNeighborsClassifier(metric=&#x27;manhattan&#x27;, n_neighbors=24),\n",
              "             param_grid={&#x27;metric&#x27;: [&#x27;manhattan&#x27;],\n",
              "                         &#x27;n_neighbors&#x27;: array([ 1,  2,  3,  4,  5,  6,  7,  8,  9, 10, 11, 12, 13, 14, 15, 16, 17,\n",
              "       18, 19, 20, 21, 22, 23, 24])})</pre><b>In a Jupyter environment, please rerun this cell to show the HTML representation or trust the notebook. <br />On GitHub, the HTML representation is unable to render, please try loading this page with nbviewer.org.</b></div><div class=\"sk-container\" hidden><div class=\"sk-item sk-dashed-wrapped\"><div class=\"sk-label-container\"><div class=\"sk-label sk-toggleable\"><input class=\"sk-toggleable__control sk-hidden--visually\" id=\"sk-estimator-id-16\" type=\"checkbox\" ><label for=\"sk-estimator-id-16\" class=\"sk-toggleable__label sk-toggleable__label-arrow\">GridSearchCV</label><div class=\"sk-toggleable__content\"><pre>GridSearchCV(cv=5,\n",
              "             estimator=KNeighborsClassifier(metric=&#x27;manhattan&#x27;, n_neighbors=24),\n",
              "             param_grid={&#x27;metric&#x27;: [&#x27;manhattan&#x27;],\n",
              "                         &#x27;n_neighbors&#x27;: array([ 1,  2,  3,  4,  5,  6,  7,  8,  9, 10, 11, 12, 13, 14, 15, 16, 17,\n",
              "       18, 19, 20, 21, 22, 23, 24])})</pre></div></div></div><div class=\"sk-parallel\"><div class=\"sk-parallel-item\"><div class=\"sk-item\"><div class=\"sk-label-container\"><div class=\"sk-label sk-toggleable\"><input class=\"sk-toggleable__control sk-hidden--visually\" id=\"sk-estimator-id-17\" type=\"checkbox\" ><label for=\"sk-estimator-id-17\" class=\"sk-toggleable__label sk-toggleable__label-arrow\">estimator: KNeighborsClassifier</label><div class=\"sk-toggleable__content\"><pre>KNeighborsClassifier(metric=&#x27;manhattan&#x27;, n_neighbors=24)</pre></div></div></div><div class=\"sk-serial\"><div class=\"sk-item\"><div class=\"sk-estimator sk-toggleable\"><input class=\"sk-toggleable__control sk-hidden--visually\" id=\"sk-estimator-id-18\" type=\"checkbox\" ><label for=\"sk-estimator-id-18\" class=\"sk-toggleable__label sk-toggleable__label-arrow\">KNeighborsClassifier</label><div class=\"sk-toggleable__content\"><pre>KNeighborsClassifier(metric=&#x27;manhattan&#x27;, n_neighbors=24)</pre></div></div></div></div></div></div></div></div></div></div>"
            ]
          },
          "metadata": {},
          "execution_count": 65
        }
      ]
    },
    {
      "cell_type": "code",
      "source": [
        "# Best performing k (on training set)\n",
        "grid_search_manhattan.best_params_"
      ],
      "metadata": {
        "colab": {
          "base_uri": "https://localhost:8080/"
        },
        "id": "tFD1Qtm1a2Qn",
        "outputId": "f31d3c85-f5ef-4f0c-ce13-c6054946a6b5"
      },
      "execution_count": 66,
      "outputs": [
        {
          "output_type": "execute_result",
          "data": {
            "text/plain": [
              "{'metric': 'manhattan', 'n_neighbors': 14}"
            ]
          },
          "metadata": {},
          "execution_count": 66
        }
      ]
    },
    {
      "cell_type": "code",
      "source": [
        "# Accuracy of best performing k\n",
        "\n",
        "grid_search_manhattan.best_score_"
      ],
      "metadata": {
        "colab": {
          "base_uri": "https://localhost:8080/"
        },
        "id": "xSYKvoIUa-6W",
        "outputId": "cdadc8df-17cb-4976-8145-f762a32faa6b"
      },
      "execution_count": 67,
      "outputs": [
        {
          "output_type": "execute_result",
          "data": {
            "text/plain": [
              "0.9793103448275862"
            ]
          },
          "metadata": {},
          "execution_count": 67
        }
      ]
    },
    {
      "cell_type": "code",
      "source": [
        "# Cross validation results with Manhattan\n",
        "grid_search_manhattan.cv_results_"
      ],
      "metadata": {
        "colab": {
          "base_uri": "https://localhost:8080/"
        },
        "id": "he0XZWyzbRcS",
        "outputId": "1984b3bc-3779-4a77-afaf-55612711b22e"
      },
      "execution_count": 68,
      "outputs": [
        {
          "output_type": "execute_result",
          "data": {
            "text/plain": [
              "{'mean_fit_time': array([0.00484123, 0.00449748, 0.00452194, 0.00524831, 0.00479097,\n",
              "        0.00518427, 0.00416255, 0.00471144, 0.0043232 , 0.00492153,\n",
              "        0.0049427 , 0.00476141, 0.00413609, 0.00483646, 0.00443025,\n",
              "        0.00458946, 0.00405822, 0.00418043, 0.00457373, 0.00485926,\n",
              "        0.00444994, 0.00454526, 0.0044488 , 0.00468855]),\n",
              " 'std_fit_time': array([6.65450550e-04, 2.07801859e-04, 3.26927067e-04, 9.21408667e-04,\n",
              "        8.74606825e-04, 7.76174438e-04, 1.44934731e-04, 6.33824686e-04,\n",
              "        2.24033575e-04, 9.20552611e-04, 7.44866017e-04, 7.05754811e-04,\n",
              "        9.15913451e-05, 8.95099969e-04, 2.95841294e-04, 7.67101567e-04,\n",
              "        1.02663228e-04, 2.56789051e-04, 2.76673173e-04, 9.71579498e-04,\n",
              "        5.44843631e-04, 2.33700095e-04, 3.88412612e-04, 2.86619648e-04]),\n",
              " 'mean_score_time': array([0.00861363, 0.00872254, 0.00765419, 0.00922513, 0.00732388,\n",
              "        0.00916982, 0.00707655, 0.00771174, 0.00744457, 0.00750937,\n",
              "        0.00760369, 0.00725074, 0.00692339, 0.00846372, 0.00835223,\n",
              "        0.00818243, 0.00707698, 0.0073925 , 0.00791068, 0.00827579,\n",
              "        0.00782251, 0.00876665, 0.00813742, 0.00823622]),\n",
              " 'std_score_time': array([0.00079339, 0.00122056, 0.00030869, 0.0010956 , 0.0005251 ,\n",
              "        0.00139365, 0.00031556, 0.00098586, 0.00037783, 0.00042305,\n",
              "        0.00035362, 0.00035771, 0.00023727, 0.00211394, 0.0014972 ,\n",
              "        0.00199192, 0.00031198, 0.00079059, 0.00032466, 0.00156637,\n",
              "        0.00042204, 0.0019502 , 0.00124365, 0.00055989]),\n",
              " 'param_metric': masked_array(data=['manhattan', 'manhattan', 'manhattan', 'manhattan',\n",
              "                    'manhattan', 'manhattan', 'manhattan', 'manhattan',\n",
              "                    'manhattan', 'manhattan', 'manhattan', 'manhattan',\n",
              "                    'manhattan', 'manhattan', 'manhattan', 'manhattan',\n",
              "                    'manhattan', 'manhattan', 'manhattan', 'manhattan',\n",
              "                    'manhattan', 'manhattan', 'manhattan', 'manhattan'],\n",
              "              mask=[False, False, False, False, False, False, False, False,\n",
              "                    False, False, False, False, False, False, False, False,\n",
              "                    False, False, False, False, False, False, False, False],\n",
              "        fill_value='?',\n",
              "             dtype=object),\n",
              " 'param_n_neighbors': masked_array(data=[1, 2, 3, 4, 5, 6, 7, 8, 9, 10, 11, 12, 13, 14, 15, 16,\n",
              "                    17, 18, 19, 20, 21, 22, 23, 24],\n",
              "              mask=[False, False, False, False, False, False, False, False,\n",
              "                    False, False, False, False, False, False, False, False,\n",
              "                    False, False, False, False, False, False, False, False],\n",
              "        fill_value='?',\n",
              "             dtype=object),\n",
              " 'params': [{'metric': 'manhattan', 'n_neighbors': 1},\n",
              "  {'metric': 'manhattan', 'n_neighbors': 2},\n",
              "  {'metric': 'manhattan', 'n_neighbors': 3},\n",
              "  {'metric': 'manhattan', 'n_neighbors': 4},\n",
              "  {'metric': 'manhattan', 'n_neighbors': 5},\n",
              "  {'metric': 'manhattan', 'n_neighbors': 6},\n",
              "  {'metric': 'manhattan', 'n_neighbors': 7},\n",
              "  {'metric': 'manhattan', 'n_neighbors': 8},\n",
              "  {'metric': 'manhattan', 'n_neighbors': 9},\n",
              "  {'metric': 'manhattan', 'n_neighbors': 10},\n",
              "  {'metric': 'manhattan', 'n_neighbors': 11},\n",
              "  {'metric': 'manhattan', 'n_neighbors': 12},\n",
              "  {'metric': 'manhattan', 'n_neighbors': 13},\n",
              "  {'metric': 'manhattan', 'n_neighbors': 14},\n",
              "  {'metric': 'manhattan', 'n_neighbors': 15},\n",
              "  {'metric': 'manhattan', 'n_neighbors': 16},\n",
              "  {'metric': 'manhattan', 'n_neighbors': 17},\n",
              "  {'metric': 'manhattan', 'n_neighbors': 18},\n",
              "  {'metric': 'manhattan', 'n_neighbors': 19},\n",
              "  {'metric': 'manhattan', 'n_neighbors': 20},\n",
              "  {'metric': 'manhattan', 'n_neighbors': 21},\n",
              "  {'metric': 'manhattan', 'n_neighbors': 22},\n",
              "  {'metric': 'manhattan', 'n_neighbors': 23},\n",
              "  {'metric': 'manhattan', 'n_neighbors': 24}],\n",
              " 'split0_test_score': array([0.93103448, 0.89655172, 0.96551724, 0.96551724, 1.        ,\n",
              "        1.        , 1.        , 0.93103448, 0.93103448, 0.93103448,\n",
              "        0.93103448, 0.93103448, 0.96551724, 0.96551724, 0.96551724,\n",
              "        0.96551724, 0.96551724, 0.96551724, 0.96551724, 0.96551724,\n",
              "        0.96551724, 0.96551724, 1.        , 1.        ]),\n",
              " 'split1_test_score': array([1.        , 0.96551724, 0.96551724, 0.96551724, 0.96551724,\n",
              "        0.96551724, 0.93103448, 0.96551724, 0.93103448, 0.93103448,\n",
              "        0.93103448, 0.93103448, 0.93103448, 0.93103448, 0.93103448,\n",
              "        0.93103448, 0.93103448, 0.93103448, 0.93103448, 0.93103448,\n",
              "        0.93103448, 0.93103448, 0.93103448, 0.93103448]),\n",
              " 'split2_test_score': array([0.96428571, 0.96428571, 0.96428571, 0.96428571, 0.96428571,\n",
              "        0.96428571, 0.96428571, 1.        , 1.        , 1.        ,\n",
              "        1.        , 1.        , 0.96428571, 1.        , 1.        ,\n",
              "        0.96428571, 0.96428571, 0.96428571, 0.92857143, 0.96428571,\n",
              "        0.92857143, 0.92857143, 0.92857143, 0.92857143]),\n",
              " 'split3_test_score': array([1.        , 1.        , 1.        , 1.        , 0.96428571,\n",
              "        1.        , 1.        , 1.        , 1.        , 1.        ,\n",
              "        0.96428571, 0.96428571, 0.96428571, 1.        , 1.        ,\n",
              "        1.        , 0.96428571, 0.96428571, 0.96428571, 1.        ,\n",
              "        0.96428571, 1.        , 1.        , 1.        ]),\n",
              " 'split4_test_score': array([1.        , 0.96428571, 0.96428571, 0.96428571, 1.        ,\n",
              "        0.92857143, 0.96428571, 0.96428571, 1.        , 1.        ,\n",
              "        1.        , 1.        , 1.        , 1.        , 1.        ,\n",
              "        1.        , 1.        , 1.        , 1.        , 1.        ,\n",
              "        1.        , 1.        , 1.        , 0.96428571]),\n",
              " 'mean_test_score': array([0.97906404, 0.95812808, 0.97192118, 0.97192118, 0.97881773,\n",
              "        0.97167488, 0.97192118, 0.97216749, 0.97241379, 0.97241379,\n",
              "        0.96527094, 0.96527094, 0.96502463, 0.97931034, 0.97931034,\n",
              "        0.97216749, 0.96502463, 0.96502463, 0.95788177, 0.97216749,\n",
              "        0.95788177, 0.96502463, 0.97192118, 0.96477833]),\n",
              " 'std_test_score': array([0.02771346, 0.03369076, 0.01405021, 0.01405021, 0.01730109,\n",
              "        0.02666477, 0.02594287, 0.02587497, 0.03378607, 0.03378607,\n",
              "        0.03084625, 0.03084625, 0.02181716, 0.02758621, 0.02758621,\n",
              "        0.02587497, 0.02181716, 0.02181716, 0.02627976, 0.02587497,\n",
              "        0.02627976, 0.0314037 , 0.03439821, 0.0314037 ]),\n",
              " 'rank_test_score': array([ 3, 22, 10, 10,  4, 14, 10,  9,  5,  5, 15, 15, 17,  1,  1,  7, 17,\n",
              "        17, 23,  7, 23, 17, 10, 21], dtype=int32)}"
            ]
          },
          "metadata": {},
          "execution_count": 68
        }
      ]
    },
    {
      "cell_type": "markdown",
      "source": [
        "14 is the best performing and 19 is the worst performing"
      ],
      "metadata": {
        "id": "_5vfV5dOcn27"
      }
    },
    {
      "cell_type": "code",
      "source": [
        "# Best Performing Accuracy of k = 14 on testing data\n",
        "knn14 = KNeighborsClassifier(n_neighbors=14)\n",
        "knn14.fit(X_train_scaled, y_train)\n",
        "print(\"knn score: {}\".format(knn14.score(X_test_scaled, y_test)))"
      ],
      "metadata": {
        "colab": {
          "base_uri": "https://localhost:8080/"
        },
        "id": "W7lzBir-csh5",
        "outputId": "e477b4b4-c057-4742-fb43-40704af1a111"
      },
      "execution_count": 69,
      "outputs": [
        {
          "output_type": "stream",
          "name": "stdout",
          "text": [
            "knn score: 1.0\n"
          ]
        }
      ]
    },
    {
      "cell_type": "code",
      "source": [
        "# Worst Performing Accuracy of k = 19 on testing data\n",
        "knn19 = KNeighborsClassifier(n_neighbors=19)\n",
        "knn19.fit(X_train_scaled, y_train)\n",
        "print(\"knn score: {}\".format(knn19.score(X_test_scaled, y_test)))"
      ],
      "metadata": {
        "colab": {
          "base_uri": "https://localhost:8080/"
        },
        "id": "_EiECB3BdEzS",
        "outputId": "0247a74b-f4ba-40b6-e9da-052800b4f5f8"
      },
      "execution_count": 109,
      "outputs": [
        {
          "output_type": "stream",
          "name": "stdout",
          "text": [
            "knn score: 1.0\n"
          ]
        }
      ]
    },
    {
      "cell_type": "markdown",
      "source": [
        "The worst performer is still having an accuracy of 100% could this be due to overfitting? mean_test_score was very high for all in the cross validation."
      ],
      "metadata": {
        "id": "ImuSEjdAeOp4"
      }
    },
    {
      "cell_type": "code",
      "source": [
        "confusion = confusion_matrix(y_test, knn14.predict(X_test_scaled))\n",
        "print(\"Confusion matrix k =14:\\n{}\".format(confusion))"
      ],
      "metadata": {
        "colab": {
          "base_uri": "https://localhost:8080/"
        },
        "id": "jX8yTPY4ixDS",
        "outputId": "5a291330-b3aa-4d4d-f3df-73d7fefb1482"
      },
      "execution_count": 71,
      "outputs": [
        {
          "output_type": "stream",
          "name": "stdout",
          "text": [
            "Confusion matrix k =14:\n",
            "[[12  0  0]\n",
            " [ 0 14  0]\n",
            " [ 0  0 10]]\n"
          ]
        }
      ]
    },
    {
      "cell_type": "code",
      "source": [
        "confusion = confusion_matrix(y_test, knn19.predict(X_test_scaled))\n",
        "print(\"Confusion matrix k =19:\\n{}\".format(confusion))"
      ],
      "metadata": {
        "colab": {
          "base_uri": "https://localhost:8080/"
        },
        "id": "zX2xS_Hyi7CC",
        "outputId": "c8aa7f16-0570-4e0f-da14-69eb9fff8064"
      },
      "execution_count": 72,
      "outputs": [
        {
          "output_type": "stream",
          "name": "stdout",
          "text": [
            "Confusion matrix k =19:\n",
            "[[12  0  0]\n",
            " [ 0 14  0]\n",
            " [ 0  0 10]]\n"
          ]
        }
      ]
    },
    {
      "cell_type": "markdown",
      "source": [
        "# Adjusting KNN parameters version 2: Weighted with inverse of distance"
      ],
      "metadata": {
        "id": "FkNij_qLfg97"
      }
    },
    {
      "cell_type": "code",
      "source": [
        "# test with cross validation on test set (common for small datasets)\n",
        "training_accuracy = []\n",
        "test_accuracy = []\n",
        "# try n_neighbors from 1 to 10\n",
        "neighbors_settings = range(1, 11)\n",
        "\n",
        "for n_neighbors in neighbors_settings:\n",
        "    # build the model\n",
        "    knn = KNeighborsClassifier(n_neighbors=n_neighbors, weights='distance')\n",
        "    knn.fit(X_train_scaled, y_train)\n",
        "    # record training set accuracy\n",
        "    training_accuracy.append(knn.score(X_train_scaled, y_train))\n",
        "    # record generalization accuracy\n",
        "    test_accuracy.append(knn.score(X_test_scaled, y_test))\n",
        "\n",
        "plt.plot(neighbors_settings, training_accuracy, label=\"training accuracy\")\n",
        "plt.plot(neighbors_settings, test_accuracy, label=\"test accuracy\")\n",
        "plt.title(\"K-Nearest Neighbors (Weighted with inverse of distance): Accuracy vs. Number of Neighbors\")\n",
        "plt.ylabel(\"Accuracy\")\n",
        "plt.xlabel(\"n_neighbors\")\n",
        "plt.legend()"
      ],
      "metadata": {
        "colab": {
          "base_uri": "https://localhost:8080/",
          "height": 489
        },
        "id": "JYllerWRfuDz",
        "outputId": "ac8dd7a5-520a-4fce-dd55-66be746540bf"
      },
      "execution_count": 74,
      "outputs": [
        {
          "output_type": "execute_result",
          "data": {
            "text/plain": [
              "<matplotlib.legend.Legend at 0x7f4488c92da0>"
            ]
          },
          "metadata": {},
          "execution_count": 74
        },
        {
          "output_type": "display_data",
          "data": {
            "text/plain": [
              "<Figure size 640x480 with 1 Axes>"
            ],
            "image/png": "[encoded data removed]"
          },
          "metadata": {}
        }
      ]
    },
    {
      "cell_type": "code",
      "source": [
        "# Dictionary of all values of k\n",
        "param_grid = {\"n_neighbors\": np.arange(1, 25),\n",
        "              \"weights\": ['distance']}\n",
        "\n",
        "# Grid search on all values of k in dictionary\n",
        "grid_search_weights = GridSearchCV(knn, param_grid, cv=5)\n",
        "grid_search_weights.fit(X_train_scaled, y_train)"
      ],
      "metadata": {
        "colab": {
          "base_uri": "https://localhost:8080/",
          "height": 119
        },
        "id": "Nv3S0Gl8gTMt",
        "outputId": "a354dbce-1f61-4e28-8b5e-a7ca3b839afd"
      },
      "execution_count": 75,
      "outputs": [
        {
          "output_type": "execute_result",
          "data": {
            "text/plain": [
              "GridSearchCV(cv=5,\n",
              "             estimator=KNeighborsClassifier(n_neighbors=10, weights='distance'),\n",
              "             param_grid={'n_neighbors': array([ 1,  2,  3,  4,  5,  6,  7,  8,  9, 10, 11, 12, 13, 14, 15, 16, 17,\n",
              "       18, 19, 20, 21, 22, 23, 24]),\n",
              "                         'weights': ['distance']})"
            ],
            "text/html": [
              "<style>#sk-container-id-7 {color: black;background-color: white;}#sk-container-id-7 pre{padding: 0;}#sk-container-id-7 div.sk-toggleable {background-color: white;}#sk-container-id-7 label.sk-toggleable__label {cursor: pointer;display: block;width: 100%;margin-bottom: 0;padding: 0.3em;box-sizing: border-box;text-align: center;}#sk-container-id-7 label.sk-toggleable__label-arrow:before {content: \"▸\";float: left;margin-right: 0.25em;color: #696969;}#sk-container-id-7 label.sk-toggleable__label-arrow:hover:before {color: black;}#sk-container-id-7 div.sk-estimator:hover label.sk-toggleable__label-arrow:before {color: black;}#sk-container-id-7 div.sk-toggleable__content {max-height: 0;max-width: 0;overflow: hidden;text-align: left;background-color: #f0f8ff;}#sk-container-id-7 div.sk-toggleable__content pre {margin: 0.2em;color: black;border-radius: 0.25em;background-color: #f0f8ff;}#sk-container-id-7 input.sk-toggleable__control:checked~div.sk-toggleable__content {max-height: 200px;max-width: 100%;overflow: auto;}#sk-container-id-7 input.sk-toggleable__control:checked~label.sk-toggleable__label-arrow:before {content: \"▾\";}#sk-container-id-7 div.sk-estimator input.sk-toggleable__control:checked~label.sk-toggleable__label {background-color: #d4ebff;}#sk-container-id-7 div.sk-label input.sk-toggleable__control:checked~label.sk-toggleable__label {background-color: #d4ebff;}#sk-container-id-7 input.sk-hidden--visually {border: 0;clip: rect(1px 1px 1px 1px);clip: rect(1px, 1px, 1px, 1px);height: 1px;margin: -1px;overflow: hidden;padding: 0;position: absolute;width: 1px;}#sk-container-id-7 div.sk-estimator {font-family: monospace;background-color: #f0f8ff;border: 1px dotted black;border-radius: 0.25em;box-sizing: border-box;margin-bottom: 0.5em;}#sk-container-id-7 div.sk-estimator:hover {background-color: #d4ebff;}#sk-container-id-7 div.sk-parallel-item::after {content: \"\";width: 100%;border-bottom: 1px solid gray;flex-grow: 1;}#sk-container-id-7 div.sk-label:hover label.sk-toggleable__label {background-color: #d4ebff;}#sk-container-id-7 div.sk-serial::before {content: \"\";position: absolute;border-left: 1px solid gray;box-sizing: border-box;top: 0;bottom: 0;left: 50%;z-index: 0;}#sk-container-id-7 div.sk-serial {display: flex;flex-direction: column;align-items: center;background-color: white;padding-right: 0.2em;padding-left: 0.2em;position: relative;}#sk-container-id-7 div.sk-item {position: relative;z-index: 1;}#sk-container-id-7 div.sk-parallel {display: flex;align-items: stretch;justify-content: center;background-color: white;position: relative;}#sk-container-id-7 div.sk-item::before, #sk-container-id-7 div.sk-parallel-item::before {content: \"\";position: absolute;border-left: 1px solid gray;box-sizing: border-box;top: 0;bottom: 0;left: 50%;z-index: -1;}#sk-container-id-7 div.sk-parallel-item {display: flex;flex-direction: column;z-index: 1;position: relative;background-color: white;}#sk-container-id-7 div.sk-parallel-item:first-child::after {align-self: flex-end;width: 50%;}#sk-container-id-7 div.sk-parallel-item:last-child::after {align-self: flex-start;width: 50%;}#sk-container-id-7 div.sk-parallel-item:only-child::after {width: 0;}#sk-container-id-7 div.sk-dashed-wrapped {border: 1px dashed gray;margin: 0 0.4em 0.5em 0.4em;box-sizing: border-box;padding-bottom: 0.4em;background-color: white;}#sk-container-id-7 div.sk-label label {font-family: monospace;font-weight: bold;display: inline-block;line-height: 1.2em;}#sk-container-id-7 div.sk-label-container {text-align: center;}#sk-container-id-7 div.sk-container {/* jupyter's `normalize.less` sets `[hidden] { display: none; }` but bootstrap.min.css set `[hidden] { display: none !important; }` so we also need the `!important` here to be able to override the default hidden behavior on the sphinx rendered scikit-learn.org. See: https://github.com/scikit-learn/scikit-learn/issues/21755 */display: inline-block !important;position: relative;}#sk-container-id-7 div.sk-text-repr-fallback {display: none;}</style><div id=\"sk-container-id-7\" class=\"sk-top-container\"><div class=\"sk-text-repr-fallback\"><pre>GridSearchCV(cv=5,\n",
              "             estimator=KNeighborsClassifier(n_neighbors=10, weights=&#x27;distance&#x27;),\n",
              "             param_grid={&#x27;n_neighbors&#x27;: array([ 1,  2,  3,  4,  5,  6,  7,  8,  9, 10, 11, 12, 13, 14, 15, 16, 17,\n",
              "       18, 19, 20, 21, 22, 23, 24]),\n",
              "                         &#x27;weights&#x27;: [&#x27;distance&#x27;]})</pre><b>In a Jupyter environment, please rerun this cell to show the HTML representation or trust the notebook. <br />On GitHub, the HTML representation is unable to render, please try loading this page with nbviewer.org.</b></div><div class=\"sk-container\" hidden><div class=\"sk-item sk-dashed-wrapped\"><div class=\"sk-label-container\"><div class=\"sk-label sk-toggleable\"><input class=\"sk-toggleable__control sk-hidden--visually\" id=\"sk-estimator-id-19\" type=\"checkbox\" ><label for=\"sk-estimator-id-19\" class=\"sk-toggleable__label sk-toggleable__label-arrow\">GridSearchCV</label><div class=\"sk-toggleable__content\"><pre>GridSearchCV(cv=5,\n",
              "             estimator=KNeighborsClassifier(n_neighbors=10, weights=&#x27;distance&#x27;),\n",
              "             param_grid={&#x27;n_neighbors&#x27;: array([ 1,  2,  3,  4,  5,  6,  7,  8,  9, 10, 11, 12, 13, 14, 15, 16, 17,\n",
              "       18, 19, 20, 21, 22, 23, 24]),\n",
              "                         &#x27;weights&#x27;: [&#x27;distance&#x27;]})</pre></div></div></div><div class=\"sk-parallel\"><div class=\"sk-parallel-item\"><div class=\"sk-item\"><div class=\"sk-label-container\"><div class=\"sk-label sk-toggleable\"><input class=\"sk-toggleable__control sk-hidden--visually\" id=\"sk-estimator-id-20\" type=\"checkbox\" ><label for=\"sk-estimator-id-20\" class=\"sk-toggleable__label sk-toggleable__label-arrow\">estimator: KNeighborsClassifier</label><div class=\"sk-toggleable__content\"><pre>KNeighborsClassifier(n_neighbors=10, weights=&#x27;distance&#x27;)</pre></div></div></div><div class=\"sk-serial\"><div class=\"sk-item\"><div class=\"sk-estimator sk-toggleable\"><input class=\"sk-toggleable__control sk-hidden--visually\" id=\"sk-estimator-id-21\" type=\"checkbox\" ><label for=\"sk-estimator-id-21\" class=\"sk-toggleable__label sk-toggleable__label-arrow\">KNeighborsClassifier</label><div class=\"sk-toggleable__content\"><pre>KNeighborsClassifier(n_neighbors=10, weights=&#x27;distance&#x27;)</pre></div></div></div></div></div></div></div></div></div></div>"
            ]
          },
          "metadata": {},
          "execution_count": 75
        }
      ]
    },
    {
      "cell_type": "code",
      "source": [
        "# Best performing k (on training set)\n",
        "grid_search_weights.best_params_"
      ],
      "metadata": {
        "colab": {
          "base_uri": "https://localhost:8080/"
        },
        "id": "A27-AS_egvmU",
        "outputId": "8d4eefe8-df45-4a46-f68d-d6ccf704d7f6"
      },
      "execution_count": 76,
      "outputs": [
        {
          "output_type": "execute_result",
          "data": {
            "text/plain": [
              "{'n_neighbors': 10, 'weights': 'distance'}"
            ]
          },
          "metadata": {},
          "execution_count": 76
        }
      ]
    },
    {
      "cell_type": "code",
      "source": [
        "# Accuracy of best performing k\n",
        "\n",
        "grid_search_weights.best_score_"
      ],
      "metadata": {
        "colab": {
          "base_uri": "https://localhost:8080/"
        },
        "id": "c9J7JpjOg4nh",
        "outputId": "b6445b28-91dd-489a-9782-0851dc5cfd8f"
      },
      "execution_count": 77,
      "outputs": [
        {
          "output_type": "execute_result",
          "data": {
            "text/plain": [
              "0.9790640394088669"
            ]
          },
          "metadata": {},
          "execution_count": 77
        }
      ]
    },
    {
      "cell_type": "code",
      "source": [
        "# Cross validation results with weights\n",
        "grid_search_weights.cv_results_"
      ],
      "metadata": {
        "colab": {
          "base_uri": "https://localhost:8080/"
        },
        "id": "3kwBi0Pchbcc",
        "outputId": "e97e2b1f-83d7-47e5-dae4-31867e4b4930"
      },
      "execution_count": 78,
      "outputs": [
        {
          "output_type": "execute_result",
          "data": {
            "text/plain": [
              "{'mean_fit_time': array([0.00689902, 0.0082283 , 0.00580058, 0.01136222, 0.00639443,\n",
              "        0.00660138, 0.00808797, 0.00602441, 0.00601563, 0.00594082,\n",
              "        0.00574241, 0.00552888, 0.00524154, 0.00563445, 0.00459142,\n",
              "        0.01694412, 0.00330238, 0.00315557, 0.00277271, 0.00363007,\n",
              "        0.00327826, 0.00290513, 0.00256672, 0.00263014]),\n",
              " 'std_fit_time': array([0.00053806, 0.00245678, 0.00039043, 0.004834  , 0.00083604,\n",
              "        0.00037213, 0.00440877, 0.00026667, 0.00042139, 0.00045434,\n",
              "        0.00035966, 0.00051982, 0.00032394, 0.00094982, 0.00013019,\n",
              "        0.00722055, 0.00075287, 0.00028312, 0.00026896, 0.00078574,\n",
              "        0.00039436, 0.00037775, 0.00013436, 0.0002981 ]),\n",
              " 'mean_score_time': array([0.00680609, 0.00792308, 0.00551496, 0.00986233, 0.00579743,\n",
              "        0.00791411, 0.00663872, 0.00578976, 0.00559072, 0.00623145,\n",
              "        0.00604792, 0.00558591, 0.00514417, 0.00535321, 0.00451336,\n",
              "        0.01198835, 0.0034205 , 0.00316176, 0.00322256, 0.00333838,\n",
              "        0.00323548, 0.00299406, 0.00270023, 0.00259609]),\n",
              " 'std_score_time': array([1.76442283e-03, 2.82114049e-03, 4.64853444e-04, 4.95731166e-03,\n",
              "        3.73000953e-04, 2.91053817e-03, 2.58873999e-03, 3.98393636e-04,\n",
              "        2.06652026e-04, 1.43011598e-03, 1.30868717e-03, 1.13712501e-03,\n",
              "        3.02784439e-04, 1.08425014e-03, 2.15051264e-04, 8.19140915e-03,\n",
              "        4.86451395e-04, 2.79393723e-04, 9.20142665e-04, 5.83131029e-04,\n",
              "        4.62661130e-04, 5.51578443e-04, 1.72563909e-04, 5.65134316e-05]),\n",
              " 'param_n_neighbors': masked_array(data=[1, 2, 3, 4, 5, 6, 7, 8, 9, 10, 11, 12, 13, 14, 15, 16,\n",
              "                    17, 18, 19, 20, 21, 22, 23, 24],\n",
              "              mask=[False, False, False, False, False, False, False, False,\n",
              "                    False, False, False, False, False, False, False, False,\n",
              "                    False, False, False, False, False, False, False, False],\n",
              "        fill_value='?',\n",
              "             dtype=object),\n",
              " 'param_weights': masked_array(data=['distance', 'distance', 'distance', 'distance',\n",
              "                    'distance', 'distance', 'distance', 'distance',\n",
              "                    'distance', 'distance', 'distance', 'distance',\n",
              "                    'distance', 'distance', 'distance', 'distance',\n",
              "                    'distance', 'distance', 'distance', 'distance',\n",
              "                    'distance', 'distance', 'distance', 'distance'],\n",
              "              mask=[False, False, False, False, False, False, False, False,\n",
              "                    False, False, False, False, False, False, False, False,\n",
              "                    False, False, False, False, False, False, False, False],\n",
              "        fill_value='?',\n",
              "             dtype=object),\n",
              " 'params': [{'n_neighbors': 1, 'weights': 'distance'},\n",
              "  {'n_neighbors': 2, 'weights': 'distance'},\n",
              "  {'n_neighbors': 3, 'weights': 'distance'},\n",
              "  {'n_neighbors': 4, 'weights': 'distance'},\n",
              "  {'n_neighbors': 5, 'weights': 'distance'},\n",
              "  {'n_neighbors': 6, 'weights': 'distance'},\n",
              "  {'n_neighbors': 7, 'weights': 'distance'},\n",
              "  {'n_neighbors': 8, 'weights': 'distance'},\n",
              "  {'n_neighbors': 9, 'weights': 'distance'},\n",
              "  {'n_neighbors': 10, 'weights': 'distance'},\n",
              "  {'n_neighbors': 11, 'weights': 'distance'},\n",
              "  {'n_neighbors': 12, 'weights': 'distance'},\n",
              "  {'n_neighbors': 13, 'weights': 'distance'},\n",
              "  {'n_neighbors': 14, 'weights': 'distance'},\n",
              "  {'n_neighbors': 15, 'weights': 'distance'},\n",
              "  {'n_neighbors': 16, 'weights': 'distance'},\n",
              "  {'n_neighbors': 17, 'weights': 'distance'},\n",
              "  {'n_neighbors': 18, 'weights': 'distance'},\n",
              "  {'n_neighbors': 19, 'weights': 'distance'},\n",
              "  {'n_neighbors': 20, 'weights': 'distance'},\n",
              "  {'n_neighbors': 21, 'weights': 'distance'},\n",
              "  {'n_neighbors': 22, 'weights': 'distance'},\n",
              "  {'n_neighbors': 23, 'weights': 'distance'},\n",
              "  {'n_neighbors': 24, 'weights': 'distance'}],\n",
              " 'split0_test_score': array([0.89655172, 0.89655172, 0.96551724, 0.96551724, 1.        ,\n",
              "        0.96551724, 0.96551724, 0.96551724, 1.        , 1.        ,\n",
              "        1.        , 0.96551724, 1.        , 1.        , 1.        ,\n",
              "        1.        , 1.        , 1.        , 0.96551724, 0.96551724,\n",
              "        0.96551724, 1.        , 0.96551724, 0.96551724]),\n",
              " 'split1_test_score': array([0.93103448, 0.93103448, 0.89655172, 0.93103448, 0.89655172,\n",
              "        0.93103448, 0.93103448, 0.93103448, 0.89655172, 0.93103448,\n",
              "        0.93103448, 0.93103448, 0.93103448, 0.93103448, 0.93103448,\n",
              "        0.93103448, 0.93103448, 0.93103448, 0.93103448, 0.93103448,\n",
              "        0.93103448, 0.93103448, 0.93103448, 0.93103448]),\n",
              " 'split2_test_score': array([0.96428571, 0.96428571, 0.96428571, 0.96428571, 0.96428571,\n",
              "        0.96428571, 0.96428571, 0.92857143, 0.96428571, 0.96428571,\n",
              "        0.96428571, 0.96428571, 0.96428571, 0.96428571, 0.96428571,\n",
              "        0.96428571, 0.96428571, 0.92857143, 0.92857143, 0.92857143,\n",
              "        0.92857143, 0.92857143, 0.92857143, 0.92857143]),\n",
              " 'split3_test_score': array([0.92857143, 0.92857143, 0.96428571, 0.96428571, 0.96428571,\n",
              "        0.92857143, 1.        , 1.        , 1.        , 1.        ,\n",
              "        1.        , 1.        , 0.96428571, 0.96428571, 0.96428571,\n",
              "        0.96428571, 0.96428571, 1.        , 0.96428571, 1.        ,\n",
              "        0.96428571, 1.        , 0.92857143, 0.96428571]),\n",
              " 'split4_test_score': array([0.96428571, 0.96428571, 0.96428571, 0.96428571, 1.        ,\n",
              "        0.96428571, 1.        , 1.        , 1.        , 1.        ,\n",
              "        1.        , 1.        , 1.        , 1.        , 1.        ,\n",
              "        1.        , 1.        , 1.        , 1.        , 1.        ,\n",
              "        1.        , 1.        , 1.        , 1.        ]),\n",
              " 'mean_test_score': array([0.93694581, 0.93694581, 0.95098522, 0.95788177, 0.96502463,\n",
              "        0.95073892, 0.97216749, 0.96502463, 0.97216749, 0.97906404,\n",
              "        0.97906404, 0.97216749, 0.97192118, 0.97192118, 0.97192118,\n",
              "        0.97192118, 0.97192118, 0.97192118, 0.95788177, 0.96502463,\n",
              "        0.95788177, 0.97192118, 0.95073892, 0.95788177]),\n",
              " 'std_test_score': array([0.02542321, 0.02542321, 0.02722093, 0.01343212, 0.03777879,\n",
              "        0.01711778, 0.02587497, 0.0314037 , 0.04025869, 0.02771346,\n",
              "        0.02771346, 0.02587497, 0.02594287, 0.02594287, 0.02594287,\n",
              "        0.02594287, 0.02594287, 0.03439821, 0.02627976, 0.0314037 ,\n",
              "        0.02627976, 0.03439821, 0.02834118, 0.02627976]),\n",
              " 'rank_test_score': array([23, 23, 20, 16, 13, 21,  3, 13,  3,  1,  1,  3,  6,  6,  6,  6,  6,\n",
              "        11, 16, 13, 16, 11, 21, 16], dtype=int32)}"
            ]
          },
          "metadata": {},
          "execution_count": 78
        }
      ]
    },
    {
      "cell_type": "markdown",
      "source": [
        "10 is best preforming an 1 and 2 are worst performing. Similar to eculidean distance"
      ],
      "metadata": {
        "id": "u-zoBfVmhjvy"
      }
    },
    {
      "cell_type": "code",
      "source": [
        "# Best Performing Accuracy of k = 10 on testing data\n",
        "knn10 = KNeighborsClassifier(n_neighbors=10)\n",
        "knn10.fit(X_train_scaled, y_train)\n",
        "print(\"knn score: {}\".format(knn10.score(X_test_scaled, y_test)))"
      ],
      "metadata": {
        "colab": {
          "base_uri": "https://localhost:8080/"
        },
        "id": "VmL8ESlwhv2R",
        "outputId": "d11c46a4-4383-40a6-b06e-1fb375a4d311"
      },
      "execution_count": 79,
      "outputs": [
        {
          "output_type": "stream",
          "name": "stdout",
          "text": [
            "knn score: 1.0\n"
          ]
        }
      ]
    },
    {
      "cell_type": "markdown",
      "source": [],
      "metadata": {
        "id": "TTalhTYxjsh_"
      }
    },
    {
      "cell_type": "code",
      "source": [
        "# Worst Performing Accuracy of k = 2 on testing data\n",
        "knn2 = KNeighborsClassifier(n_neighbors=2)\n",
        "knn2.fit(X_train_scaled, y_train)\n",
        "print(\"knn score: {}\".format(knn2.score(X_test_scaled, y_test)))"
      ],
      "metadata": {
        "colab": {
          "base_uri": "https://localhost:8080/"
        },
        "id": "EVEcc1W0h3Fg",
        "outputId": "dfbc0822-37ce-4a67-a925-e26243a2514c"
      },
      "execution_count": 80,
      "outputs": [
        {
          "output_type": "stream",
          "name": "stdout",
          "text": [
            "knn score: 0.9444444444444444\n"
          ]
        }
      ]
    },
    {
      "cell_type": "code",
      "source": [
        "confusion = confusion_matrix(y_test, knn10.predict(X_test_scaled))\n",
        "print(\"Confusion matrix k =10:\\n{}\".format(confusion))"
      ],
      "metadata": {
        "colab": {
          "base_uri": "https://localhost:8080/"
        },
        "id": "HCVQvCwtji_y",
        "outputId": "85f89716-8faf-4ae8-e79f-a211a66690b9"
      },
      "execution_count": 81,
      "outputs": [
        {
          "output_type": "stream",
          "name": "stdout",
          "text": [
            "Confusion matrix k =10:\n",
            "[[12  0  0]\n",
            " [ 0 14  0]\n",
            " [ 0  0 10]]\n"
          ]
        }
      ]
    },
    {
      "cell_type": "code",
      "source": [
        "confusion = confusion_matrix(y_test, knn2.predict(X_test_scaled))\n",
        "print(\"Confusion matrix k =2:\\n{}\".format(confusion))"
      ],
      "metadata": {
        "colab": {
          "base_uri": "https://localhost:8080/"
        },
        "id": "WB5hQ2AUjnpU",
        "outputId": "07b827b4-2fcb-4906-c1c0-0e592afa09cc"
      },
      "execution_count": 82,
      "outputs": [
        {
          "output_type": "stream",
          "name": "stdout",
          "text": [
            "Confusion matrix k =2:\n",
            "[[12  0  0]\n",
            " [ 1 13  0]\n",
            " [ 0  1  9]]\n"
          ]
        }
      ]
    },
    {
      "cell_type": "markdown",
      "source": [
        "# Decision Tree precision, recall and F1 with default parameters"
      ],
      "metadata": {
        "id": "mji0RF11hyEw"
      }
    },
    {
      "cell_type": "code",
      "source": [
        "# Classification Report\n",
        "\n",
        "tree = DecisionTreeClassifier(random_state=0)\n",
        "tree.fit(X_train, y_train)\n",
        "\n",
        "print(\"Accuracy on training set: {:.3f}\".format(tree.score(X_train, y_train)))\n",
        "print(\"Accuracy on test set: {:.3f}\".format(tree.score(X_test, y_test)))\n",
        "print(classification_report(y_test, tree.predict(X_test),\n",
        "                            target_names=[\"class 1\", \"class 2\",\"class 3\"]))"
      ],
      "metadata": {
        "colab": {
          "base_uri": "https://localhost:8080/"
        },
        "id": "CSZ7FhpYj4a_",
        "outputId": "c21956f8-56cb-4f05-ca9a-c1022ce19c94"
      },
      "execution_count": 106,
      "outputs": [
        {
          "output_type": "stream",
          "name": "stdout",
          "text": [
            "Accuracy on training set: 1.000\n",
            "Accuracy on test set: 0.944\n",
            "              precision    recall  f1-score   support\n",
            "\n",
            "     class 1       0.92      0.92      0.92        12\n",
            "     class 2       0.93      0.93      0.93        14\n",
            "     class 3       1.00      1.00      1.00        10\n",
            "\n",
            "    accuracy                           0.94        36\n",
            "   macro avg       0.95      0.95      0.95        36\n",
            "weighted avg       0.94      0.94      0.94        36\n",
            "\n"
          ]
        }
      ]
    },
    {
      "cell_type": "markdown",
      "source": [
        "# Decision Tree precision, recall and F1 with cross validation"
      ],
      "metadata": {
        "id": "rOuke6UBh0ne"
      }
    },
    {
      "cell_type": "code",
      "source": [
        "# Instantiate the Decision Tree classifier\n",
        "tree_cv = DecisionTreeClassifier(random_state=0)\n",
        "\n",
        "# Perform 5-fold cross-validation on the entire dataset\n",
        "cv_scores_all = cross_val_score(tree_cv, X, y, cv=5)\n",
        "\n",
        "# Print cross-validation scores and mean\n",
        "print(\"cv_scores:\\n{}\".format(cv_scores_all))\n",
        "print(\"cv_scores mean:\\n{}\".format(np.mean(cv_scores_all)))"
      ],
      "metadata": {
        "colab": {
          "base_uri": "https://localhost:8080/"
        },
        "id": "l-eWx7ocqUit",
        "outputId": "1ca83acd-db44-4d07-cfb9-f53f6d0ca684"
      },
      "execution_count": 84,
      "outputs": [
        {
          "output_type": "stream",
          "name": "stdout",
          "text": [
            "cv_scores:\n",
            "[0.94444444 0.83333333 0.88888889 0.91428571 0.85714286]\n",
            "cv_scores mean:\n",
            "0.8876190476190475\n"
          ]
        }
      ]
    },
    {
      "cell_type": "markdown",
      "source": [
        "# Decision Tree adjust parameters using grid search for best and worst performing parameters"
      ],
      "metadata": {
        "id": "usvdBmSXh3WX"
      }
    },
    {
      "cell_type": "markdown",
      "source": [
        "# Adjusting Decision Tree Parameters 1: Max_depth"
      ],
      "metadata": {
        "id": "MQ4X5y6jdi3a"
      }
    },
    {
      "cell_type": "markdown",
      "source": [
        "chosen to help determine overfitting by limiting the depth to prevent overcomplextion and overfitting of training data"
      ],
      "metadata": {
        "id": "U6Oyu67ohWqr"
      }
    },
    {
      "cell_type": "code",
      "source": [
        "# Max_depth\n",
        "param_grid = {\"max_depth\": [None, 2, 4, 6, 8, 10]}\n",
        "\n",
        "# Grid search on all values of k in dictionary\n",
        "grid_search_max_depth = GridSearchCV(DecisionTreeClassifier(random_state=0), param_grid, cv=5)\n",
        "grid_search_max_depth.fit(X_train, y_train)"
      ],
      "metadata": {
        "colab": {
          "base_uri": "https://localhost:8080/",
          "height": 119
        },
        "id": "yAy1-X3Uan4L",
        "outputId": "c412ad1b-5b83-4b92-9218-fa1f25768f14"
      },
      "execution_count": 98,
      "outputs": [
        {
          "output_type": "execute_result",
          "data": {
            "text/plain": [
              "GridSearchCV(cv=5, estimator=DecisionTreeClassifier(random_state=0),\n",
              "             param_grid={'max_depth': [None, 2, 4, 6, 8, 10]})"
            ],
            "text/html": [
              "<style>#sk-container-id-11 {color: black;background-color: white;}#sk-container-id-11 pre{padding: 0;}#sk-container-id-11 div.sk-toggleable {background-color: white;}#sk-container-id-11 label.sk-toggleable__label {cursor: pointer;display: block;width: 100%;margin-bottom: 0;padding: 0.3em;box-sizing: border-box;text-align: center;}#sk-container-id-11 label.sk-toggleable__label-arrow:before {content: \"▸\";float: left;margin-right: 0.25em;color: #696969;}#sk-container-id-11 label.sk-toggleable__label-arrow:hover:before {color: black;}#sk-container-id-11 div.sk-estimator:hover label.sk-toggleable__label-arrow:before {color: black;}#sk-container-id-11 div.sk-toggleable__content {max-height: 0;max-width: 0;overflow: hidden;text-align: left;background-color: #f0f8ff;}#sk-container-id-11 div.sk-toggleable__content pre {margin: 0.2em;color: black;border-radius: 0.25em;background-color: #f0f8ff;}#sk-container-id-11 input.sk-toggleable__control:checked~div.sk-toggleable__content {max-height: 200px;max-width: 100%;overflow: auto;}#sk-container-id-11 input.sk-toggleable__control:checked~label.sk-toggleable__label-arrow:before {content: \"▾\";}#sk-container-id-11 div.sk-estimator input.sk-toggleable__control:checked~label.sk-toggleable__label {background-color: #d4ebff;}#sk-container-id-11 div.sk-label input.sk-toggleable__control:checked~label.sk-toggleable__label {background-color: #d4ebff;}#sk-container-id-11 input.sk-hidden--visually {border: 0;clip: rect(1px 1px 1px 1px);clip: rect(1px, 1px, 1px, 1px);height: 1px;margin: -1px;overflow: hidden;padding: 0;position: absolute;width: 1px;}#sk-container-id-11 div.sk-estimator {font-family: monospace;background-color: #f0f8ff;border: 1px dotted black;border-radius: 0.25em;box-sizing: border-box;margin-bottom: 0.5em;}#sk-container-id-11 div.sk-estimator:hover {background-color: #d4ebff;}#sk-container-id-11 div.sk-parallel-item::after {content: \"\";width: 100%;border-bottom: 1px solid gray;flex-grow: 1;}#sk-container-id-11 div.sk-label:hover label.sk-toggleable__label {background-color: #d4ebff;}#sk-container-id-11 div.sk-serial::before {content: \"\";position: absolute;border-left: 1px solid gray;box-sizing: border-box;top: 0;bottom: 0;left: 50%;z-index: 0;}#sk-container-id-11 div.sk-serial {display: flex;flex-direction: column;align-items: center;background-color: white;padding-right: 0.2em;padding-left: 0.2em;position: relative;}#sk-container-id-11 div.sk-item {position: relative;z-index: 1;}#sk-container-id-11 div.sk-parallel {display: flex;align-items: stretch;justify-content: center;background-color: white;position: relative;}#sk-container-id-11 div.sk-item::before, #sk-container-id-11 div.sk-parallel-item::before {content: \"\";position: absolute;border-left: 1px solid gray;box-sizing: border-box;top: 0;bottom: 0;left: 50%;z-index: -1;}#sk-container-id-11 div.sk-parallel-item {display: flex;flex-direction: column;z-index: 1;position: relative;background-color: white;}#sk-container-id-11 div.sk-parallel-item:first-child::after {align-self: flex-end;width: 50%;}#sk-container-id-11 div.sk-parallel-item:last-child::after {align-self: flex-start;width: 50%;}#sk-container-id-11 div.sk-parallel-item:only-child::after {width: 0;}#sk-container-id-11 div.sk-dashed-wrapped {border: 1px dashed gray;margin: 0 0.4em 0.5em 0.4em;box-sizing: border-box;padding-bottom: 0.4em;background-color: white;}#sk-container-id-11 div.sk-label label {font-family: monospace;font-weight: bold;display: inline-block;line-height: 1.2em;}#sk-container-id-11 div.sk-label-container {text-align: center;}#sk-container-id-11 div.sk-container {/* jupyter's `normalize.less` sets `[hidden] { display: none; }` but bootstrap.min.css set `[hidden] { display: none !important; }` so we also need the `!important` here to be able to override the default hidden behavior on the sphinx rendered scikit-learn.org. See: https://github.com/scikit-learn/scikit-learn/issues/21755 */display: inline-block !important;position: relative;}#sk-container-id-11 div.sk-text-repr-fallback {display: none;}</style><div id=\"sk-container-id-11\" class=\"sk-top-container\"><div class=\"sk-text-repr-fallback\"><pre>GridSearchCV(cv=5, estimator=DecisionTreeClassifier(random_state=0),\n",
              "             param_grid={&#x27;max_depth&#x27;: [None, 2, 4, 6, 8, 10]})</pre><b>In a Jupyter environment, please rerun this cell to show the HTML representation or trust the notebook. <br />On GitHub, the HTML representation is unable to render, please try loading this page with nbviewer.org.</b></div><div class=\"sk-container\" hidden><div class=\"sk-item sk-dashed-wrapped\"><div class=\"sk-label-container\"><div class=\"sk-label sk-toggleable\"><input class=\"sk-toggleable__control sk-hidden--visually\" id=\"sk-estimator-id-31\" type=\"checkbox\" ><label for=\"sk-estimator-id-31\" class=\"sk-toggleable__label sk-toggleable__label-arrow\">GridSearchCV</label><div class=\"sk-toggleable__content\"><pre>GridSearchCV(cv=5, estimator=DecisionTreeClassifier(random_state=0),\n",
              "             param_grid={&#x27;max_depth&#x27;: [None, 2, 4, 6, 8, 10]})</pre></div></div></div><div class=\"sk-parallel\"><div class=\"sk-parallel-item\"><div class=\"sk-item\"><div class=\"sk-label-container\"><div class=\"sk-label sk-toggleable\"><input class=\"sk-toggleable__control sk-hidden--visually\" id=\"sk-estimator-id-32\" type=\"checkbox\" ><label for=\"sk-estimator-id-32\" class=\"sk-toggleable__label sk-toggleable__label-arrow\">estimator: DecisionTreeClassifier</label><div class=\"sk-toggleable__content\"><pre>DecisionTreeClassifier(random_state=0)</pre></div></div></div><div class=\"sk-serial\"><div class=\"sk-item\"><div class=\"sk-estimator sk-toggleable\"><input class=\"sk-toggleable__control sk-hidden--visually\" id=\"sk-estimator-id-33\" type=\"checkbox\" ><label for=\"sk-estimator-id-33\" class=\"sk-toggleable__label sk-toggleable__label-arrow\">DecisionTreeClassifier</label><div class=\"sk-toggleable__content\"><pre>DecisionTreeClassifier(random_state=0)</pre></div></div></div></div></div></div></div></div></div></div>"
            ]
          },
          "metadata": {},
          "execution_count": 98
        }
      ]
    },
    {
      "cell_type": "code",
      "source": [
        "# Best performing\n",
        "grid_search_max_depth.best_params_"
      ],
      "metadata": {
        "colab": {
          "base_uri": "https://localhost:8080/"
        },
        "id": "2Km-CGa2b8cz",
        "outputId": "07b31a3f-093d-49b3-cc4c-c39d19aed52c"
      },
      "execution_count": 99,
      "outputs": [
        {
          "output_type": "execute_result",
          "data": {
            "text/plain": [
              "{'max_depth': None}"
            ]
          },
          "metadata": {},
          "execution_count": 99
        }
      ]
    },
    {
      "cell_type": "code",
      "source": [
        "# Accuracy of best performing\n",
        "\n",
        "grid_search_max_depth.best_score_"
      ],
      "metadata": {
        "colab": {
          "base_uri": "https://localhost:8080/"
        },
        "id": "IQvqU8mecJq8",
        "outputId": "c43299d0-5fae-4ab0-fc23-84ffb1710247"
      },
      "execution_count": 100,
      "outputs": [
        {
          "output_type": "execute_result",
          "data": {
            "text/plain": [
              "0.9088669950738917"
            ]
          },
          "metadata": {},
          "execution_count": 100
        }
      ]
    },
    {
      "cell_type": "code",
      "source": [
        "# Cross validation results with max_depth\n",
        "grid_search_max_depth.cv_results_"
      ],
      "metadata": {
        "colab": {
          "base_uri": "https://localhost:8080/"
        },
        "id": "04OqpK7kcUQ3",
        "outputId": "5dcd73f6-a162-4e36-b675-57ac29245a6e"
      },
      "execution_count": 101,
      "outputs": [
        {
          "output_type": "execute_result",
          "data": {
            "text/plain": [
              "{'mean_fit_time': array([0.00518236, 0.00446024, 0.0047194 , 0.0044199 , 0.0152493 ,\n",
              "        0.01096807]),\n",
              " 'std_fit_time': array([0.00048849, 0.00015764, 0.00039581, 0.00053136, 0.00939911,\n",
              "        0.0031901 ]),\n",
              " 'mean_score_time': array([0.00330763, 0.00320644, 0.00303802, 0.00298896, 0.01189594,\n",
              "        0.01305909]),\n",
              " 'std_score_time': array([0.00033344, 0.00039251, 0.00014284, 0.00026531, 0.01133351,\n",
              "        0.01159011]),\n",
              " 'param_max_depth': masked_array(data=[None, 2, 4, 6, 8, 10],\n",
              "              mask=[False, False, False, False, False, False],\n",
              "        fill_value='?',\n",
              "             dtype=object),\n",
              " 'params': [{'max_depth': None},\n",
              "  {'max_depth': 2},\n",
              "  {'max_depth': 4},\n",
              "  {'max_depth': 6},\n",
              "  {'max_depth': 8},\n",
              "  {'max_depth': 10}],\n",
              " 'split0_test_score': array([0.86206897, 0.82758621, 0.86206897, 0.86206897, 0.86206897,\n",
              "        0.86206897]),\n",
              " 'split1_test_score': array([0.89655172, 0.86206897, 0.89655172, 0.89655172, 0.89655172,\n",
              "        0.89655172]),\n",
              " 'split2_test_score': array([0.89285714, 0.92857143, 0.89285714, 0.89285714, 0.89285714,\n",
              "        0.89285714]),\n",
              " 'split3_test_score': array([0.89285714, 0.89285714, 0.89285714, 0.89285714, 0.89285714,\n",
              "        0.89285714]),\n",
              " 'split4_test_score': array([1.        , 0.96428571, 1.        , 1.        , 1.        ,\n",
              "        1.        ]),\n",
              " 'mean_test_score': array([0.908867  , 0.89507389, 0.908867  , 0.908867  , 0.908867  ,\n",
              "        0.908867  ]),\n",
              " 'std_test_score': array([0.04724315, 0.04808573, 0.04724315, 0.04724315, 0.04724315,\n",
              "        0.04724315]),\n",
              " 'rank_test_score': array([1, 6, 1, 1, 1, 1], dtype=int32)}"
            ]
          },
          "metadata": {},
          "execution_count": 101
        }
      ]
    },
    {
      "cell_type": "code",
      "source": [
        "# Best Performing Accuracy of max_depth None on testing data\n",
        "tree_none = DecisionTreeClassifier(max_depth=None, random_state=0)\n",
        "tree_none.fit(X_train, y_train)\n",
        "print(\"Accuracy: {}\".format(tree_none.score(X_test, y_test)))"
      ],
      "metadata": {
        "colab": {
          "base_uri": "https://localhost:8080/"
        },
        "id": "BaDJ_JvVcucu",
        "outputId": "f3513eb9-e2ae-44d2-fbee-89dfb6b63c4e"
      },
      "execution_count": 102,
      "outputs": [
        {
          "output_type": "stream",
          "name": "stdout",
          "text": [
            "Accuracy: 0.9444444444444444\n"
          ]
        }
      ]
    },
    {
      "cell_type": "code",
      "source": [
        "# worst Performing Accuracy of max_depth 1 on testing data\n",
        "tree_1 = DecisionTreeClassifier(max_depth=1, random_state=0)\n",
        "tree_1.fit(X_train, y_train)\n",
        "print(\"Accuracy: {}\".format(tree_1.score(X_test, y_test)))"
      ],
      "metadata": {
        "colab": {
          "base_uri": "https://localhost:8080/"
        },
        "id": "KnoisHFIdMUk",
        "outputId": "536eefb2-0d74-4fbe-db98-d43f3f8faeca"
      },
      "execution_count": 105,
      "outputs": [
        {
          "output_type": "stream",
          "name": "stdout",
          "text": [
            "Accuracy: 0.5833333333333334\n"
          ]
        }
      ]
    },
    {
      "cell_type": "code",
      "source": [
        "confusion = confusion_matrix(y_test, tree_none.predict(X_test))\n",
        "print(\"Confusion matrix max_depth None:\\n{}\".format(confusion))"
      ],
      "metadata": {
        "colab": {
          "base_uri": "https://localhost:8080/"
        },
        "id": "Pzvb1dMxeVAW",
        "outputId": "18233066-e897-4da6-f677-00d230993dff"
      },
      "execution_count": 107,
      "outputs": [
        {
          "output_type": "stream",
          "name": "stdout",
          "text": [
            "Confusion matrix max_depth None:\n",
            "[[11  1  0]\n",
            " [ 1 13  0]\n",
            " [ 0  0 10]]\n"
          ]
        }
      ]
    },
    {
      "cell_type": "code",
      "source": [
        "confusion = confusion_matrix(y_test, tree_1.predict(X_test))\n",
        "print(\"Confusion matrix max_depth 1:\\n{}\".format(confusion))"
      ],
      "metadata": {
        "colab": {
          "base_uri": "https://localhost:8080/"
        },
        "id": "y3QLiQ3aedE9",
        "outputId": "81f816ec-5fba-4247-ab59-9e5b80323691"
      },
      "execution_count": 108,
      "outputs": [
        {
          "output_type": "stream",
          "name": "stdout",
          "text": [
            "Confusion matrix max_depth 1:\n",
            "[[10  2  0]\n",
            " [ 3 11  0]\n",
            " [10  0  0]]\n"
          ]
        }
      ]
    },
    {
      "cell_type": "markdown",
      "source": [
        "# Adjusting Decision Tree Parameters 2: max_features"
      ],
      "metadata": {
        "id": "JR5pBdcZfIbi"
      }
    },
    {
      "cell_type": "markdown",
      "source": [
        "max_features chose to help determine the best number of features for a split. This will help model generalize better."
      ],
      "metadata": {
        "id": "XVj-hGJshyb0"
      }
    },
    {
      "cell_type": "code",
      "source": [
        "# Max_features\n",
        "param_grid = {\"max_features\": [None, 'sqrt', 'log2']}\n",
        "\n",
        "# Grid search on all values of k in dictionary\n",
        "grid_search_max_features = GridSearchCV(DecisionTreeClassifier(random_state=0), param_grid, cv=5)\n",
        "grid_search_max_features.fit(X_train, y_train)"
      ],
      "metadata": {
        "colab": {
          "base_uri": "https://localhost:8080/",
          "height": 119
        },
        "id": "8zzGGS2RiDZa",
        "outputId": "1a1146fc-4475-41d1-c084-061f01bb2fbb"
      },
      "execution_count": 110,
      "outputs": [
        {
          "output_type": "execute_result",
          "data": {
            "text/plain": [
              "GridSearchCV(cv=5, estimator=DecisionTreeClassifier(random_state=0),\n",
              "             param_grid={'max_features': [None, 'sqrt', 'log2']})"
            ],
            "text/html": [
              "<style>#sk-container-id-12 {color: black;background-color: white;}#sk-container-id-12 pre{padding: 0;}#sk-container-id-12 div.sk-toggleable {background-color: white;}#sk-container-id-12 label.sk-toggleable__label {cursor: pointer;display: block;width: 100%;margin-bottom: 0;padding: 0.3em;box-sizing: border-box;text-align: center;}#sk-container-id-12 label.sk-toggleable__label-arrow:before {content: \"▸\";float: left;margin-right: 0.25em;color: #696969;}#sk-container-id-12 label.sk-toggleable__label-arrow:hover:before {color: black;}#sk-container-id-12 div.sk-estimator:hover label.sk-toggleable__label-arrow:before {color: black;}#sk-container-id-12 div.sk-toggleable__content {max-height: 0;max-width: 0;overflow: hidden;text-align: left;background-color: #f0f8ff;}#sk-container-id-12 div.sk-toggleable__content pre {margin: 0.2em;color: black;border-radius: 0.25em;background-color: #f0f8ff;}#sk-container-id-12 input.sk-toggleable__control:checked~div.sk-toggleable__content {max-height: 200px;max-width: 100%;overflow: auto;}#sk-container-id-12 input.sk-toggleable__control:checked~label.sk-toggleable__label-arrow:before {content: \"▾\";}#sk-container-id-12 div.sk-estimator input.sk-toggleable__control:checked~label.sk-toggleable__label {background-color: #d4ebff;}#sk-container-id-12 div.sk-label input.sk-toggleable__control:checked~label.sk-toggleable__label {background-color: #d4ebff;}#sk-container-id-12 input.sk-hidden--visually {border: 0;clip: rect(1px 1px 1px 1px);clip: rect(1px, 1px, 1px, 1px);height: 1px;margin: -1px;overflow: hidden;padding: 0;position: absolute;width: 1px;}#sk-container-id-12 div.sk-estimator {font-family: monospace;background-color: #f0f8ff;border: 1px dotted black;border-radius: 0.25em;box-sizing: border-box;margin-bottom: 0.5em;}#sk-container-id-12 div.sk-estimator:hover {background-color: #d4ebff;}#sk-container-id-12 div.sk-parallel-item::after {content: \"\";width: 100%;border-bottom: 1px solid gray;flex-grow: 1;}#sk-container-id-12 div.sk-label:hover label.sk-toggleable__label {background-color: #d4ebff;}#sk-container-id-12 div.sk-serial::before {content: \"\";position: absolute;border-left: 1px solid gray;box-sizing: border-box;top: 0;bottom: 0;left: 50%;z-index: 0;}#sk-container-id-12 div.sk-serial {display: flex;flex-direction: column;align-items: center;background-color: white;padding-right: 0.2em;padding-left: 0.2em;position: relative;}#sk-container-id-12 div.sk-item {position: relative;z-index: 1;}#sk-container-id-12 div.sk-parallel {display: flex;align-items: stretch;justify-content: center;background-color: white;position: relative;}#sk-container-id-12 div.sk-item::before, #sk-container-id-12 div.sk-parallel-item::before {content: \"\";position: absolute;border-left: 1px solid gray;box-sizing: border-box;top: 0;bottom: 0;left: 50%;z-index: -1;}#sk-container-id-12 div.sk-parallel-item {display: flex;flex-direction: column;z-index: 1;position: relative;background-color: white;}#sk-container-id-12 div.sk-parallel-item:first-child::after {align-self: flex-end;width: 50%;}#sk-container-id-12 div.sk-parallel-item:last-child::after {align-self: flex-start;width: 50%;}#sk-container-id-12 div.sk-parallel-item:only-child::after {width: 0;}#sk-container-id-12 div.sk-dashed-wrapped {border: 1px dashed gray;margin: 0 0.4em 0.5em 0.4em;box-sizing: border-box;padding-bottom: 0.4em;background-color: white;}#sk-container-id-12 div.sk-label label {font-family: monospace;font-weight: bold;display: inline-block;line-height: 1.2em;}#sk-container-id-12 div.sk-label-container {text-align: center;}#sk-container-id-12 div.sk-container {/* jupyter's `normalize.less` sets `[hidden] { display: none; }` but bootstrap.min.css set `[hidden] { display: none !important; }` so we also need the `!important` here to be able to override the default hidden behavior on the sphinx rendered scikit-learn.org. See: https://github.com/scikit-learn/scikit-learn/issues/21755 */display: inline-block !important;position: relative;}#sk-container-id-12 div.sk-text-repr-fallback {display: none;}</style><div id=\"sk-container-id-12\" class=\"sk-top-container\"><div class=\"sk-text-repr-fallback\"><pre>GridSearchCV(cv=5, estimator=DecisionTreeClassifier(random_state=0),\n",
              "             param_grid={&#x27;max_features&#x27;: [None, &#x27;sqrt&#x27;, &#x27;log2&#x27;]})</pre><b>In a Jupyter environment, please rerun this cell to show the HTML representation or trust the notebook. <br />On GitHub, the HTML representation is unable to render, please try loading this page with nbviewer.org.</b></div><div class=\"sk-container\" hidden><div class=\"sk-item sk-dashed-wrapped\"><div class=\"sk-label-container\"><div class=\"sk-label sk-toggleable\"><input class=\"sk-toggleable__control sk-hidden--visually\" id=\"sk-estimator-id-34\" type=\"checkbox\" ><label for=\"sk-estimator-id-34\" class=\"sk-toggleable__label sk-toggleable__label-arrow\">GridSearchCV</label><div class=\"sk-toggleable__content\"><pre>GridSearchCV(cv=5, estimator=DecisionTreeClassifier(random_state=0),\n",
              "             param_grid={&#x27;max_features&#x27;: [None, &#x27;sqrt&#x27;, &#x27;log2&#x27;]})</pre></div></div></div><div class=\"sk-parallel\"><div class=\"sk-parallel-item\"><div class=\"sk-item\"><div class=\"sk-label-container\"><div class=\"sk-label sk-toggleable\"><input class=\"sk-toggleable__control sk-hidden--visually\" id=\"sk-estimator-id-35\" type=\"checkbox\" ><label for=\"sk-estimator-id-35\" class=\"sk-toggleable__label sk-toggleable__label-arrow\">estimator: DecisionTreeClassifier</label><div class=\"sk-toggleable__content\"><pre>DecisionTreeClassifier(random_state=0)</pre></div></div></div><div class=\"sk-serial\"><div class=\"sk-item\"><div class=\"sk-estimator sk-toggleable\"><input class=\"sk-toggleable__control sk-hidden--visually\" id=\"sk-estimator-id-36\" type=\"checkbox\" ><label for=\"sk-estimator-id-36\" class=\"sk-toggleable__label sk-toggleable__label-arrow\">DecisionTreeClassifier</label><div class=\"sk-toggleable__content\"><pre>DecisionTreeClassifier(random_state=0)</pre></div></div></div></div></div></div></div></div></div></div>"
            ]
          },
          "metadata": {},
          "execution_count": 110
        }
      ]
    },
    {
      "cell_type": "code",
      "source": [
        "# Best performing\n",
        "grid_search_max_features.best_params_"
      ],
      "metadata": {
        "colab": {
          "base_uri": "https://localhost:8080/"
        },
        "id": "T3dnGtE9iSPz",
        "outputId": "ba34e8df-bb23-4469-f03e-09dce44faec7"
      },
      "execution_count": 111,
      "outputs": [
        {
          "output_type": "execute_result",
          "data": {
            "text/plain": [
              "{'max_features': 'sqrt'}"
            ]
          },
          "metadata": {},
          "execution_count": 111
        }
      ]
    },
    {
      "cell_type": "code",
      "source": [
        "# Accuracy of best performing\n",
        "\n",
        "grid_search_max_features.best_score_"
      ],
      "metadata": {
        "colab": {
          "base_uri": "https://localhost:8080/"
        },
        "id": "tIg201SjiWK8",
        "outputId": "5ffcd633-7e06-4201-cd27-f0304ad08ab9"
      },
      "execution_count": 112,
      "outputs": [
        {
          "output_type": "execute_result",
          "data": {
            "text/plain": [
              "0.9224137931034482"
            ]
          },
          "metadata": {},
          "execution_count": 112
        }
      ]
    },
    {
      "cell_type": "code",
      "source": [
        "# Cross validation results with max_features\n",
        "grid_search_max_features.cv_results_"
      ],
      "metadata": {
        "colab": {
          "base_uri": "https://localhost:8080/"
        },
        "id": "gftwO4QRihxg",
        "outputId": "b80819a7-00d8-47dd-ba15-d1c5f145a80e"
      },
      "execution_count": 113,
      "outputs": [
        {
          "output_type": "execute_result",
          "data": {
            "text/plain": [
              "{'mean_fit_time': array([0.01985497, 0.01832595, 0.02385387]),\n",
              " 'std_fit_time': array([0.00218134, 0.00359086, 0.00565719]),\n",
              " 'mean_score_time': array([0.01572504, 0.01208491, 0.01235642]),\n",
              " 'std_score_time': array([0.0090894 , 0.00685481, 0.00475437]),\n",
              " 'param_max_features': masked_array(data=[None, 'sqrt', 'log2'],\n",
              "              mask=[False, False, False],\n",
              "        fill_value='?',\n",
              "             dtype=object),\n",
              " 'params': [{'max_features': None},\n",
              "  {'max_features': 'sqrt'},\n",
              "  {'max_features': 'log2'}],\n",
              " 'split0_test_score': array([0.86206897, 0.93103448, 0.93103448]),\n",
              " 'split1_test_score': array([0.89655172, 0.93103448, 0.93103448]),\n",
              " 'split2_test_score': array([0.89285714, 0.82142857, 0.82142857]),\n",
              " 'split3_test_score': array([0.89285714, 0.92857143, 0.92857143]),\n",
              " 'split4_test_score': array([1., 1., 1.]),\n",
              " 'mean_test_score': array([0.908867  , 0.92241379, 0.92241379]),\n",
              " 'std_test_score': array([0.04724315, 0.05727859, 0.05727859]),\n",
              " 'rank_test_score': array([3, 1, 1], dtype=int32)}"
            ]
          },
          "metadata": {},
          "execution_count": 113
        }
      ]
    },
    {
      "cell_type": "code",
      "source": [
        "# Best Performing Accuracy of max_features sqrt on testing data\n",
        "tree_sqrt = DecisionTreeClassifier(max_features='sqrt', random_state=0)\n",
        "tree_sqrt.fit(X_train, y_train)\n",
        "print(\"Accuracy of sqrt: {}\".format(tree_sqrt.score(X_test, y_test)))"
      ],
      "metadata": {
        "colab": {
          "base_uri": "https://localhost:8080/"
        },
        "id": "hf0gIC7RipDE",
        "outputId": "b6929f08-c04c-43db-e861-a24cc4ff3f1b"
      },
      "execution_count": 117,
      "outputs": [
        {
          "output_type": "stream",
          "name": "stdout",
          "text": [
            "Accuracy sqrt: 0.9444444444444444\n"
          ]
        }
      ]
    },
    {
      "cell_type": "code",
      "source": [
        "# worst Performing Accuracy of max_features None on testing data\n",
        "tree_features_none = DecisionTreeClassifier(max_features=None, random_state=0)\n",
        "tree_features_none.fit(X_train, y_train)\n",
        "print(\"Accuracy of None: {}\".format(tree_features_none.score(X_test, y_test)))"
      ],
      "metadata": {
        "colab": {
          "base_uri": "https://localhost:8080/"
        },
        "id": "2Fjhs94QjBtI",
        "outputId": "609c71a1-ad7c-4067-eb43-6bc06f833f04"
      },
      "execution_count": 118,
      "outputs": [
        {
          "output_type": "stream",
          "name": "stdout",
          "text": [
            "Accuracy of None: 0.9444444444444444\n"
          ]
        }
      ]
    },
    {
      "cell_type": "markdown",
      "source": [
        "While the rank is showing that sqrt is best and none is the worst the accuracy for both is 94%. When examining the mean_test_score the sqrt 0.922 while the None as 0.908 which is still close and could be the reason the accuracy score is the same"
      ],
      "metadata": {
        "id": "hUwwmDXrjqT6"
      }
    }
  ]
}